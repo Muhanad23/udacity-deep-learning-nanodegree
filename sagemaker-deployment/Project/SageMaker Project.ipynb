{
 "cells": [
  {
   "cell_type": "markdown",
   "metadata": {},
   "source": [
    "# Creating a Sentiment Analysis Web App\n",
    "## Using PyTorch and SageMaker\n",
    "\n",
    "_Deep Learning Nanodegree Program | Deployment_\n",
    "\n",
    "---\n",
    "\n",
    "Now that we have a basic understanding of how SageMaker works we will try to use it to construct a complete project from end to end. Our goal will be to have a simple web page which a user can use to enter a movie review. The web page will then send the review off to our deployed model which will predict the sentiment of the entered review.\n",
    "\n",
    "## Instructions\n",
    "\n",
    "Some template code has already been provided for you, and you will need to implement additional functionality to successfully complete this notebook. You will not need to modify the included code beyond what is requested. Sections that begin with '**TODO**' in the header indicate that you need to complete or implement some portion within them. Instructions will be provided for each section and the specifics of the implementation are marked in the code block with a `# TODO: ...` comment. Please be sure to read the instructions carefully!\n",
    "\n",
    "In addition to implementing code, there will be questions for you to answer which relate to the task and your implementation. Each section where you will answer a question is preceded by a '**Question:**' header. Carefully read each question and provide your answer below the '**Answer:**' header by editing the Markdown cell.\n",
    "\n",
    "> **Note**: Code and Markdown cells can be executed using the **Shift+Enter** keyboard shortcut. In addition, a cell can be edited by typically clicking it (double-click for Markdown cells) or by pressing **Enter** while it is highlighted.\n",
    "\n",
    "## General Outline\n",
    "\n",
    "Recall the general outline for SageMaker projects using a notebook instance.\n",
    "\n",
    "1. Download or otherwise retrieve the data.\n",
    "2. Process / Prepare the data.\n",
    "3. Upload the processed data to S3.\n",
    "4. Train a chosen model.\n",
    "5. Test the trained model (typically using a batch transform job).\n",
    "6. Deploy the trained model.\n",
    "7. Use the deployed model.\n",
    "\n",
    "For this project, you will be following the steps in the general outline with some modifications. \n",
    "\n",
    "First, you will not be testing the model in its own step. You will still be testing the model, however, you will do it by deploying your model and then using the deployed model by sending the test data to it. One of the reasons for doing this is so that you can make sure that your deployed model is working correctly before moving forward.\n",
    "\n",
    "In addition, you will deploy and use your trained model a second time. In the second iteration you will customize the way that your trained model is deployed by including some of your own code. In addition, your newly deployed model will be used in the sentiment analysis web app."
   ]
  },
  {
   "cell_type": "markdown",
   "metadata": {},
   "source": [
    "## Step 1: Downloading the data\n",
    "\n",
    "As in the XGBoost in SageMaker notebook, we will be using the [IMDb dataset](http://ai.stanford.edu/~amaas/data/sentiment/)\n",
    "\n",
    "> Maas, Andrew L., et al. [Learning Word Vectors for Sentiment Analysis](http://ai.stanford.edu/~amaas/data/sentiment/). In _Proceedings of the 49th Annual Meeting of the Association for Computational Linguistics: Human Language Technologies_. Association for Computational Linguistics, 2011."
   ]
  },
  {
   "cell_type": "code",
   "execution_count": 1,
   "metadata": {},
   "outputs": [
    {
     "name": "stdout",
     "output_type": "stream",
     "text": [
      "--2020-09-28 09:58:11--  http://ai.stanford.edu/~amaas/data/sentiment/aclImdb_v1.tar.gz\n",
      "Resolving ai.stanford.edu (ai.stanford.edu)... 171.64.68.10\n",
      "Connecting to ai.stanford.edu (ai.stanford.edu)|171.64.68.10|:80... connected.\n",
      "HTTP request sent, awaiting response... 200 OK\n",
      "Length: 84125825 (80M) [application/x-gzip]\n",
      "Saving to: ‘../data/aclImdb_v1.tar.gz’\n",
      "\n",
      "../data/aclImdb_v1. 100%[===================>]  80.23M  2.92MB/s    in 27s     \n",
      "\n",
      "2020-09-28 09:58:38 (2.92 MB/s) - ‘../data/aclImdb_v1.tar.gz’ saved [84125825/84125825]\n",
      "\n"
     ]
    }
   ],
   "source": [
    "%mkdir ../data\n",
    "!wget -O ../data/aclImdb_v1.tar.gz http://ai.stanford.edu/~amaas/data/sentiment/aclImdb_v1.tar.gz\n",
    "!tar -zxf ../data/aclImdb_v1.tar.gz -C ../data"
   ]
  },
  {
   "cell_type": "markdown",
   "metadata": {},
   "source": [
    "## Step 2: Preparing and Processing the data\n",
    "\n",
    "Also, as in the XGBoost notebook, we will be doing some initial data processing. The first few steps are the same as in the XGBoost example. To begin with, we will read in each of the reviews and combine them into a single input structure. Then, we will split the dataset into a training set and a testing set."
   ]
  },
  {
   "cell_type": "code",
   "execution_count": 2,
   "metadata": {},
   "outputs": [],
   "source": [
    "import os\n",
    "import glob\n",
    "\n",
    "def read_imdb_data(data_dir='../data/aclImdb'):\n",
    "    data = {}\n",
    "    labels = {}\n",
    "    \n",
    "    for data_type in ['train', 'test']:\n",
    "        data[data_type] = {}\n",
    "        labels[data_type] = {}\n",
    "        \n",
    "        for sentiment in ['pos', 'neg']:\n",
    "            data[data_type][sentiment] = []\n",
    "            labels[data_type][sentiment] = []\n",
    "            \n",
    "            path = os.path.join(data_dir, data_type, sentiment, '*.txt')\n",
    "            files = glob.glob(path)\n",
    "            \n",
    "            for f in files:\n",
    "                with open(f) as review:\n",
    "                    data[data_type][sentiment].append(review.read())\n",
    "                    # Here we represent a positive review by '1' and a negative review by '0'\n",
    "                    labels[data_type][sentiment].append(1 if sentiment == 'pos' else 0)\n",
    "                    \n",
    "            assert len(data[data_type][sentiment]) == len(labels[data_type][sentiment]), \\\n",
    "                    \"{}/{} data size does not match labels size\".format(data_type, sentiment)\n",
    "                \n",
    "    return data, labels"
   ]
  },
  {
   "cell_type": "code",
   "execution_count": 3,
   "metadata": {},
   "outputs": [
    {
     "name": "stdout",
     "output_type": "stream",
     "text": [
      "IMDB reviews: train = 12500 pos / 12500 neg, test = 12500 pos / 12500 neg\n"
     ]
    }
   ],
   "source": [
    "data, labels = read_imdb_data()\n",
    "print(\"IMDB reviews: train = {} pos / {} neg, test = {} pos / {} neg\".format(\n",
    "            len(data['train']['pos']), len(data['train']['neg']),\n",
    "            len(data['test']['pos']), len(data['test']['neg'])))"
   ]
  },
  {
   "cell_type": "markdown",
   "metadata": {},
   "source": [
    "Now that we've read the raw training and testing data from the downloaded dataset, we will combine the positive and negative reviews and shuffle the resulting records."
   ]
  },
  {
   "cell_type": "code",
   "execution_count": 4,
   "metadata": {},
   "outputs": [],
   "source": [
    "from sklearn.utils import shuffle\n",
    "\n",
    "def prepare_imdb_data(data, labels):\n",
    "    \"\"\"Prepare training and test sets from IMDb movie reviews.\"\"\"\n",
    "    \n",
    "    #Combine positive and negative reviews and labels\n",
    "    data_train = data['train']['pos'] + data['train']['neg']\n",
    "    data_test = data['test']['pos'] + data['test']['neg']\n",
    "    labels_train = labels['train']['pos'] + labels['train']['neg']\n",
    "    labels_test = labels['test']['pos'] + labels['test']['neg']\n",
    "    \n",
    "    #Shuffle reviews and corresponding labels within training and test sets\n",
    "    data_train, labels_train = shuffle(data_train, labels_train)\n",
    "    data_test, labels_test = shuffle(data_test, labels_test)\n",
    "    \n",
    "    # Return a unified training data, test data, training labels, test labets\n",
    "    return data_train, data_test, labels_train, labels_test"
   ]
  },
  {
   "cell_type": "code",
   "execution_count": 5,
   "metadata": {},
   "outputs": [
    {
     "name": "stdout",
     "output_type": "stream",
     "text": [
      "IMDb reviews (combined): train = 25000, test = 25000\n"
     ]
    }
   ],
   "source": [
    "train_X, test_X, train_y, test_y = prepare_imdb_data(data, labels)\n",
    "print(\"IMDb reviews (combined): train = {}, test = {}\".format(len(train_X), len(test_X)))"
   ]
  },
  {
   "cell_type": "markdown",
   "metadata": {},
   "source": [
    "Now that we have our training and testing sets unified and prepared, we should do a quick check and see an example of the data our model will be trained on. This is generally a good idea as it allows you to see how each of the further processing steps affects the reviews and it also ensures that the data has been loaded correctly."
   ]
  },
  {
   "cell_type": "code",
   "execution_count": 6,
   "metadata": {},
   "outputs": [
    {
     "name": "stdout",
     "output_type": "stream",
     "text": [
      "Holy freaking God all-freaking-mighty. This movie was so bad, I thought I was on drugs. In a bad way... The character acting is the poorest thing I've seen in quite some time. This movie was more akin to Lord of the G-Strings, IMHO(it's a real movie). Most of the movie appeared to be done on a horrible green screen. My favorite part was when they are in the carriage, and you can tell there's no horse. They're fleeing from alien monsters, and going about the same speed as a swift jog. Then it switches to a far-shot with a ridiculous CG horse. And the CG in general seems to be sub-par to 1992's Beyond the Mind's Eye. I mean, Come on, really. It felt like a horrible episode of Hercules, only without Kevin Sorbo there to save the day. Worst. Movie. Ever.\n",
      "0\n"
     ]
    }
   ],
   "source": [
    "print(train_X[100])\n",
    "print(train_y[100])"
   ]
  },
  {
   "cell_type": "markdown",
   "metadata": {},
   "source": [
    "The first step in processing the reviews is to make sure that any html tags that appear should be removed. In addition we wish to tokenize our input, that way words such as *entertained* and *entertaining* are considered the same with regard to sentiment analysis."
   ]
  },
  {
   "cell_type": "code",
   "execution_count": 7,
   "metadata": {},
   "outputs": [],
   "source": [
    "import nltk\n",
    "from nltk.corpus import stopwords\n",
    "from nltk.stem.porter import *\n",
    "\n",
    "import re\n",
    "from bs4 import BeautifulSoup\n",
    "\n",
    "def review_to_words(review):\n",
    "    nltk.download(\"stopwords\", quiet=True)\n",
    "    stemmer = PorterStemmer()\n",
    "    \n",
    "    text = BeautifulSoup(review, \"html.parser\").get_text() # Remove HTML tags\n",
    "    text = re.sub(r\"[^a-zA-Z0-9]\", \" \", text.lower()) # Convert to lower case\n",
    "    words = text.split() # Split string into words\n",
    "    words = [w for w in words if w not in stopwords.words(\"english\")] # Remove stopwords\n",
    "    words = [PorterStemmer().stem(w) for w in words] # stem\n",
    "    \n",
    "    return words"
   ]
  },
  {
   "cell_type": "markdown",
   "metadata": {},
   "source": [
    "The `review_to_words` method defined above uses `BeautifulSoup` to remove any html tags that appear and uses the `nltk` package to tokenize the reviews. As a check to ensure we know how everything is working, try applying `review_to_words` to one of the reviews in the training set."
   ]
  },
  {
   "cell_type": "code",
   "execution_count": 8,
   "metadata": {},
   "outputs": [
    {
     "data": {
      "text/plain": [
       "['holi',\n",
       " 'freak',\n",
       " 'god',\n",
       " 'freak',\n",
       " 'mighti',\n",
       " 'movi',\n",
       " 'bad',\n",
       " 'thought',\n",
       " 'drug',\n",
       " 'bad',\n",
       " 'way',\n",
       " 'charact',\n",
       " 'act',\n",
       " 'poorest',\n",
       " 'thing',\n",
       " 'seen',\n",
       " 'quit',\n",
       " 'time',\n",
       " 'movi',\n",
       " 'akin',\n",
       " 'lord',\n",
       " 'g',\n",
       " 'string',\n",
       " 'imho',\n",
       " 'real',\n",
       " 'movi',\n",
       " 'movi',\n",
       " 'appear',\n",
       " 'done',\n",
       " 'horribl',\n",
       " 'green',\n",
       " 'screen',\n",
       " 'favorit',\n",
       " 'part',\n",
       " 'carriag',\n",
       " 'tell',\n",
       " 'hors',\n",
       " 'flee',\n",
       " 'alien',\n",
       " 'monster',\n",
       " 'go',\n",
       " 'speed',\n",
       " 'swift',\n",
       " 'jog',\n",
       " 'switch',\n",
       " 'far',\n",
       " 'shot',\n",
       " 'ridicul',\n",
       " 'cg',\n",
       " 'hors',\n",
       " 'cg',\n",
       " 'gener',\n",
       " 'seem',\n",
       " 'sub',\n",
       " 'par',\n",
       " '1992',\n",
       " 'beyond',\n",
       " 'mind',\n",
       " 'eye',\n",
       " 'mean',\n",
       " 'come',\n",
       " 'realli',\n",
       " 'felt',\n",
       " 'like',\n",
       " 'horribl',\n",
       " 'episod',\n",
       " 'hercul',\n",
       " 'without',\n",
       " 'kevin',\n",
       " 'sorbo',\n",
       " 'save',\n",
       " 'day',\n",
       " 'worst',\n",
       " 'movi',\n",
       " 'ever']"
      ]
     },
     "execution_count": 8,
     "metadata": {},
     "output_type": "execute_result"
    }
   ],
   "source": [
    "# TODO: Apply review_to_words to a review (train_X[100] or any other review)\n",
    "review_to_words(train_X[100])"
   ]
  },
  {
   "cell_type": "markdown",
   "metadata": {},
   "source": [
    "**Question:** Above we mentioned that `review_to_words` method removes html formatting and allows us to tokenize the words found in a review, for example, converting *entertained* and *entertaining* into *entertain* so that they are treated as though they are the same word. What else, if anything, does this method do to the input?"
   ]
  },
  {
   "cell_type": "markdown",
   "metadata": {},
   "source": [
    "**Answer:**\n",
    "In addition to stemming, it removes all english stopwords (the, a, an, to, ..etc), also it converts all letters to lower case."
   ]
  },
  {
   "cell_type": "markdown",
   "metadata": {},
   "source": [
    "The method below applies the `review_to_words` method to each of the reviews in the training and testing datasets. In addition it caches the results. This is because performing this processing step can take a long time. This way if you are unable to complete the notebook in the current session, you can come back without needing to process the data a second time."
   ]
  },
  {
   "cell_type": "code",
   "execution_count": 9,
   "metadata": {},
   "outputs": [],
   "source": [
    "import pickle\n",
    "\n",
    "cache_dir = os.path.join(\"../cache\", \"sentiment_analysis\")  # where to store cache files\n",
    "os.makedirs(cache_dir, exist_ok=True)  # ensure cache directory exists\n",
    "\n",
    "def preprocess_data(data_train, data_test, labels_train, labels_test,\n",
    "                    cache_dir=cache_dir, cache_file=\"preprocessed_data.pkl\"):\n",
    "    \"\"\"Convert each review to words; read from cache if available.\"\"\"\n",
    "\n",
    "    # If cache_file is not None, try to read from it first\n",
    "    cache_data = None\n",
    "    if cache_file is not None:\n",
    "        try:\n",
    "            with open(os.path.join(cache_dir, cache_file), \"rb\") as f:\n",
    "                cache_data = pickle.load(f)\n",
    "            print(\"Read preprocessed data from cache file:\", cache_file)\n",
    "        except:\n",
    "            pass  # unable to read from cache, but that's okay\n",
    "    \n",
    "    # If cache is missing, then do the heavy lifting\n",
    "    if cache_data is None:\n",
    "        # Preprocess training and test data to obtain words for each review\n",
    "        #words_train = list(map(review_to_words, data_train))\n",
    "        #words_test = list(map(review_to_words, data_test))\n",
    "        words_train = [review_to_words(review) for review in data_train]\n",
    "        words_test = [review_to_words(review) for review in data_test]\n",
    "        \n",
    "        # Write to cache file for future runs\n",
    "        if cache_file is not None:\n",
    "            cache_data = dict(words_train=words_train, words_test=words_test,\n",
    "                              labels_train=labels_train, labels_test=labels_test)\n",
    "            with open(os.path.join(cache_dir, cache_file), \"wb\") as f:\n",
    "                pickle.dump(cache_data, f)\n",
    "            print(\"Wrote preprocessed data to cache file:\", cache_file)\n",
    "    else:\n",
    "        # Unpack data loaded from cache file\n",
    "        words_train, words_test, labels_train, labels_test = (cache_data['words_train'],\n",
    "                cache_data['words_test'], cache_data['labels_train'], cache_data['labels_test'])\n",
    "    \n",
    "    return words_train, words_test, labels_train, labels_test"
   ]
  },
  {
   "cell_type": "code",
   "execution_count": 10,
   "metadata": {},
   "outputs": [
    {
     "name": "stdout",
     "output_type": "stream",
     "text": [
      "Wrote preprocessed data to cache file: preprocessed_data.pkl\n"
     ]
    }
   ],
   "source": [
    "# Preprocess data\n",
    "train_X, test_X, train_y, test_y = preprocess_data(train_X, test_X, train_y, test_y)"
   ]
  },
  {
   "cell_type": "markdown",
   "metadata": {},
   "source": [
    "## Transform the data\n",
    "\n",
    "In the XGBoost notebook we transformed the data from its word representation to a bag-of-words feature representation. For the model we are going to construct in this notebook we will construct a feature representation which is very similar. To start, we will represent each word as an integer. Of course, some of the words that appear in the reviews occur very infrequently and so likely don't contain much information for the purposes of sentiment analysis. The way we will deal with this problem is that we will fix the size of our working vocabulary and we will only include the words that appear most frequently. We will then combine all of the infrequent words into a single category and, in our case, we will label it as `1`.\n",
    "\n",
    "Since we will be using a recurrent neural network, it will be convenient if the length of each review is the same. To do this, we will fix a size for our reviews and then pad short reviews with the category 'no word' (which we will label `0`) and truncate long reviews."
   ]
  },
  {
   "cell_type": "markdown",
   "metadata": {},
   "source": [
    "### (TODO) Create a word dictionary\n",
    "\n",
    "To begin with, we need to construct a way to map words that appear in the reviews to integers. Here we fix the size of our vocabulary (including the 'no word' and 'infrequent' categories) to be `5000` but you may wish to change this to see how it affects the model.\n",
    "\n",
    "> **TODO:** Complete the implementation for the `build_dict()` method below. Note that even though the vocab_size is set to `5000`, we only want to construct a mapping for the most frequently appearing `4998` words. This is because we want to reserve the special labels `0` for 'no word' and `1` for 'infrequent word'."
   ]
  },
  {
   "cell_type": "code",
   "execution_count": 11,
   "metadata": {},
   "outputs": [],
   "source": [
    "import numpy as np\n",
    "from collections import Counter\n",
    "\n",
    "\n",
    "def build_dict(data, vocab_size = 5000):\n",
    "    \"\"\"Construct and return a dictionary mapping each of the most frequently appearing words to a unique integer.\"\"\"\n",
    "    \n",
    "    # TODO: Determine how often each word appears in `data`. Note that `data` is a list of sentences and that a\n",
    "    #       sentence is a list of words.\n",
    "    words = [j for i in data for j in i]\n",
    "    \n",
    "    word_count = Counter(words) # A dict storing the words that appear in the reviews along with how often they occur\n",
    "    \n",
    "    # TODO: Sort the words found in `data` so that sorted_words[0] is the most frequently appearing word and\n",
    "    #       sorted_words[-1] is the least frequently appearing word.\n",
    "    \n",
    "    sorted_words = sorted(word_count, key=word_count.get, reverse=True)\n",
    "    \n",
    "    word_dict = {} # This is what we are building, a dictionary that translates words into integers\n",
    "    for idx, word in enumerate(sorted_words[:vocab_size - 2]): # The -2 is so that we save room for the 'no word'\n",
    "        word_dict[word] = idx + 2                              # 'infrequent' labels\n",
    "        \n",
    "    return word_dict"
   ]
  },
  {
   "cell_type": "code",
   "execution_count": 12,
   "metadata": {},
   "outputs": [],
   "source": [
    "word_dict = build_dict(train_X)"
   ]
  },
  {
   "cell_type": "markdown",
   "metadata": {},
   "source": [
    "**Question:** What are the five most frequently appearing (tokenized) words in the training set? Does it makes sense that these words appear frequently in the training set?"
   ]
  },
  {
   "cell_type": "markdown",
   "metadata": {},
   "source": [
    "**Answer:** ('movi', 'film', 'one', 'like', 'time') since the reviews are all about movies."
   ]
  },
  {
   "cell_type": "code",
   "execution_count": 14,
   "metadata": {},
   "outputs": [
    {
     "name": "stdout",
     "output_type": "stream",
     "text": [
      "{'movi': 2, 'film': 3, 'one': 4, 'like': 5, 'time': 6, 'good': 7, 'make': 8, 'charact': 9, 'get': 10, 'see': 11, 'watch': 12, 'stori': 13, 'even': 14, 'would': 15, 'realli': 16, 'well': 17, 'scene': 18, 'look': 19, 'show': 20, 'much': 21, 'end': 22, 'peopl': 23, 'bad': 24, 'go': 25, 'great': 26, 'also': 27, 'first': 28, 'love': 29, 'think': 30, 'way': 31, 'act': 32, 'play': 33, 'made': 34, 'thing': 35, 'could': 36, 'know': 37, 'say': 38, 'seem': 39, 'work': 40, 'plot': 41, 'two': 42, 'actor': 43, 'year': 44, 'come': 45, 'mani': 46, 'seen': 47, 'take': 48, 'want': 49, 'life': 50, 'never': 51, 'littl': 52, 'best': 53, 'tri': 54, 'man': 55, 'ever': 56, 'give': 57, 'better': 58, 'still': 59, 'perform': 60, 'find': 61, 'feel': 62, 'part': 63, 'back': 64, 'use': 65, 'someth': 66, 'director': 67, 'actual': 68, 'interest': 69, 'lot': 70, 'real': 71, 'old': 72, 'cast': 73, 'though': 74, 'live': 75, 'star': 76, 'enjoy': 77, 'guy': 78, 'anoth': 79, 'new': 80, 'role': 81, 'noth': 82, '10': 83, 'funni': 84, 'music': 85, 'point': 86, 'start': 87, 'set': 88, 'girl': 89, 'origin': 90, 'day': 91, 'world': 92, 'everi': 93, 'believ': 94, 'turn': 95, 'quit': 96, 'us': 97, 'direct': 98, 'thought': 99, 'fact': 100, 'minut': 101, 'horror': 102, 'kill': 103, 'action': 104, 'comedi': 105, 'pretti': 106, 'young': 107, 'wonder': 108, 'happen': 109, 'around': 110, 'got': 111, 'effect': 112, 'right': 113, 'long': 114, 'howev': 115, 'big': 116, 'line': 117, 'famili': 118, 'enough': 119, 'seri': 120, 'may': 121, 'need': 122, 'fan': 123, 'bit': 124, 'script': 125, 'beauti': 126, 'person': 127, 'becom': 128, 'without': 129, 'must': 130, 'alway': 131, 'friend': 132, 'tell': 133, 'reason': 134, 'saw': 135, 'last': 136, 'final': 137, 'kid': 138, 'almost': 139, 'put': 140, 'least': 141, 'sure': 142, 'done': 143, 'whole': 144, 'place': 145, 'complet': 146, 'kind': 147, 'differ': 148, 'expect': 149, 'shot': 150, 'far': 151, 'mean': 152, 'anyth': 153, 'book': 154, 'laugh': 155, 'might': 156, 'name': 157, 'sinc': 158, 'begin': 159, '2': 160, 'probabl': 161, 'woman': 162, 'help': 163, 'entertain': 164, 'let': 165, 'screen': 166, 'call': 167, 'tv': 168, 'moment': 169, 'away': 170, 'read': 171, 'yet': 172, 'rather': 173, 'worst': 174, 'run': 175, 'fun': 176, 'lead': 177, 'hard': 178, 'audienc': 179, 'idea': 180, 'anyon': 181, 'episod': 182, 'american': 183, 'found': 184, 'appear': 185, 'bore': 186, 'especi': 187, 'although': 188, 'hope': 189, 'keep': 190, 'cours': 191, 'anim': 192, 'job': 193, 'goe': 194, 'move': 195, 'sens': 196, 'dvd': 197, 'version': 198, 'war': 199, 'money': 200, 'someon': 201, 'mind': 202, 'mayb': 203, 'problem': 204, 'true': 205, 'hous': 206, 'everyth': 207, 'nice': 208, 'second': 209, 'rate': 210, 'three': 211, 'night': 212, 'face': 213, 'follow': 214, 'recommend': 215, 'main': 216, 'product': 217, 'worth': 218, 'leav': 219, 'human': 220, 'special': 221, 'excel': 222, 'togeth': 223, 'wast': 224, 'everyon': 225, 'sound': 226, 'john': 227, 'hand': 228, '1': 229, 'father': 230, 'later': 231, 'eye': 232, 'said': 233, 'view': 234, 'instead': 235, 'review': 236, 'boy': 237, 'high': 238, 'hour': 239, 'miss': 240, 'classic': 241, 'talk': 242, 'wife': 243, 'understand': 244, 'left': 245, 'care': 246, 'black': 247, 'death': 248, 'open': 249, 'murder': 250, 'write': 251, 'half': 252, 'head': 253, 'rememb': 254, 'chang': 255, 'viewer': 256, 'fight': 257, 'gener': 258, 'surpris': 259, 'includ': 260, 'short': 261, 'die': 262, 'fall': 263, 'less': 264, 'els': 265, 'entir': 266, 'piec': 267, 'involv': 268, 'pictur': 269, 'simpli': 270, 'top': 271, 'home': 272, 'power': 273, 'total': 274, 'usual': 275, 'budget': 276, 'attempt': 277, 'suppos': 278, 'releas': 279, 'hollywood': 280, 'terribl': 281, 'song': 282, 'men': 283, 'possibl': 284, 'featur': 285, 'portray': 286, 'disappoint': 287, 'poor': 288, '3': 289, 'coupl': 290, 'camera': 291, 'stupid': 292, 'dead': 293, 'wrong': 294, 'low': 295, 'produc': 296, 'video': 297, 'either': 298, 'aw': 299, 'definit': 300, 'except': 301, 'rest': 302, 'given': 303, 'absolut': 304, 'women': 305, 'lack': 306, 'word': 307, 'writer': 308, 'titl': 309, 'talent': 310, 'decid': 311, 'full': 312, 'perfect': 313, 'along': 314, 'style': 315, 'close': 316, 'truli': 317, 'school': 318, 'save': 319, 'emot': 320, 'age': 321, 'sex': 322, 'next': 323, 'bring': 324, 'mr': 325, 'case': 326, 'killer': 327, 'heart': 328, 'comment': 329, 'sort': 330, 'creat': 331, 'perhap': 332, 'came': 333, 'brother': 334, 'sever': 335, 'joke': 336, 'art': 337, 'dialogu': 338, 'game': 339, 'small': 340, 'base': 341, 'flick': 342, 'written': 343, 'sequenc': 344, 'meet': 345, 'earli': 346, 'often': 347, 'other': 348, 'mother': 349, 'develop': 350, 'humor': 351, 'actress': 352, 'consid': 353, 'dark': 354, 'guess': 355, 'amaz': 356, 'unfortun': 357, 'light': 358, 'lost': 359, 'exampl': 360, 'cinema': 361, 'drama': 362, 'white': 363, 'ye': 364, 'experi': 365, 'imagin': 366, 'mention': 367, 'stop': 368, 'natur': 369, 'forc': 370, 'manag': 371, 'felt': 372, 'present': 373, 'cut': 374, 'children': 375, 'fail': 376, 'son': 377, 'support': 378, 'car': 379, 'qualiti': 380, 'ask': 381, 'hit': 382, 'side': 383, 'voic': 384, 'extrem': 385, 'impress': 386, 'evil': 387, 'wors': 388, 'stand': 389, 'went': 390, 'certainli': 391, 'basic': 392, 'oh': 393, 'overal': 394, 'favorit': 395, 'horribl': 396, 'mysteri': 397, 'number': 398, 'type': 399, 'danc': 400, 'wait': 401, 'hero': 402, '5': 403, 'alreadi': 404, 'learn': 405, 'matter': 406, '4': 407, 'michael': 408, 'genr': 409, 'fine': 410, 'despit': 411, 'throughout': 412, 'walk': 413, 'success': 414, 'histori': 415, 'question': 416, 'zombi': 417, 'town': 418, 'realiz': 419, 'relationship': 420, 'child': 421, 'past': 422, 'daughter': 423, 'late': 424, 'b': 425, 'wish': 426, 'hate': 427, 'credit': 428, 'event': 429, 'theme': 430, 'touch': 431, 'citi': 432, 'today': 433, 'sometim': 434, 'behind': 435, 'god': 436, 'twist': 437, 'sit': 438, 'deal': 439, 'annoy': 440, 'stay': 441, 'abl': 442, 'rent': 443, 'pleas': 444, 'edit': 445, 'blood': 446, 'deserv': 447, 'comic': 448, 'anyway': 449, 'appar': 450, 'soon': 451, 'gave': 452, 'etc': 453, 'level': 454, 'slow': 455, 'chanc': 456, 'score': 457, 'bodi': 458, 'brilliant': 459, 'incred': 460, 'figur': 461, 'situat': 462, 'major': 463, 'self': 464, 'stuff': 465, 'decent': 466, 'element': 467, 'return': 468, 'dream': 469, 'obvious': 470, 'continu': 471, 'order': 472, 'pace': 473, 'ridicul': 474, 'happi': 475, 'group': 476, 'add': 477, 'highli': 478, 'thank': 479, 'ladi': 480, 'novel': 481, 'speak': 482, 'pain': 483, 'career': 484, 'shoot': 485, 'strang': 486, 'heard': 487, 'sad': 488, 'husband': 489, 'polic': 490, 'import': 491, 'break': 492, 'took': 493, 'cannot': 494, 'strong': 495, 'robert': 496, 'predict': 497, 'violenc': 498, 'hilari': 499, 'recent': 500, 'countri': 501, 'known': 502, 'particularli': 503, 'pick': 504, 'documentari': 505, 'season': 506, 'critic': 507, 'jame': 508, 'compar': 509, 'obviou': 510, 'alon': 511, 'told': 512, 'state': 513, 'rock': 514, 'visual': 515, 'exist': 516, 'theater': 517, 'offer': 518, 'opinion': 519, 'gore': 520, 'hold': 521, 'crap': 522, 'result': 523, 'hear': 524, 'realiti': 525, 'room': 526, 'effort': 527, 'clich': 528, 'thriller': 529, 'caus': 530, 'sequel': 531, 'explain': 532, 'serious': 533, 'king': 534, 'local': 535, 'ago': 536, 'hell': 537, 'none': 538, 'note': 539, 'allow': 540, 'sister': 541, 'david': 542, 'simpl': 543, 'femal': 544, 'deliv': 545, 'ok': 546, 'convinc': 547, 'class': 548, 'check': 549, 'suspens': 550, 'win': 551, 'oscar': 552, 'buy': 553, 'huge': 554, 'valu': 555, 'sexual': 556, 'scari': 557, 'cool': 558, 'similar': 559, 'excit': 560, 'provid': 561, 'apart': 562, 'exactli': 563, 'avoid': 564, 'shown': 565, 'seriou': 566, 'english': 567, 'taken': 568, 'whose': 569, 'cinematographi': 570, 'shock': 571, 'polit': 572, 'spoiler': 573, 'offic': 574, 'across': 575, 'middl': 576, 'pass': 577, 'street': 578, 'messag': 579, 'charm': 580, 'somewhat': 581, 'silli': 582, 'modern': 583, 'confus': 584, 'filmmak': 585, 'form': 586, 'tale': 587, 'singl': 588, 'jack': 589, 'mostli': 590, 'carri': 591, 'william': 592, 'attent': 593, 'sing': 594, 'subject': 595, 'five': 596, 'prove': 597, 'richard': 598, 'team': 599, 'stage': 600, 'cop': 601, 'unlik': 602, 'georg': 603, 'televis': 604, 'monster': 605, 'earth': 606, 'villain': 607, 'cover': 608, 'pay': 609, 'marri': 610, 'toward': 611, 'build': 612, 'parent': 613, 'pull': 614, 'due': 615, 'fill': 616, 'respect': 617, 'dialog': 618, 'four': 619, 'remind': 620, 'futur': 621, 'weak': 622, 'typic': 623, '7': 624, 'cheap': 625, 'intellig': 626, 'british': 627, 'atmospher': 628, 'clearli': 629, '80': 630, 'paul': 631, 'non': 632, 'dog': 633, 'artist': 634, 'knew': 635, '8': 636, 'fast': 637, 'crime': 638, 'easili': 639, 'escap': 640, 'adult': 641, 'doubt': 642, 'detail': 643, 'date': 644, 'fire': 645, 'romant': 646, 'member': 647, 'drive': 648, 'gun': 649, 'straight': 650, 'fit': 651, 'beyond': 652, 'attack': 653, 'imag': 654, 'upon': 655, 'posit': 656, 'whether': 657, 'fantast': 658, 'peter': 659, 'captur': 660, 'appreci': 661, 'aspect': 662, 'ten': 663, 'plan': 664, 'discov': 665, 'remain': 666, 'period': 667, 'near': 668, 'air': 669, 'realist': 670, 'mark': 671, 'red': 672, 'dull': 673, 'adapt': 674, 'within': 675, 'lose': 676, 'spend': 677, 'materi': 678, 'color': 679, 'chase': 680, 'mari': 681, 'storylin': 682, 'forget': 683, 'bunch': 684, 'clear': 685, 'lee': 686, 'victim': 687, 'nearli': 688, 'box': 689, 'york': 690, 'inspir': 691, 'match': 692, 'finish': 693, 'mess': 694, 'standard': 695, 'easi': 696, 'truth': 697, 'suffer': 698, 'busi': 699, 'space': 700, 'bill': 701, 'dramat': 702, 'western': 703, 'e': 704, 'list': 705, 'battl': 706, 'notic': 707, 'de': 708, 'french': 709, 'ad': 710, '9': 711, 'tom': 712, 'larg': 713, 'among': 714, 'eventu': 715, 'train': 716, 'accept': 717, 'agre': 718, 'soundtrack': 719, 'spirit': 720, 'third': 721, 'teenag': 722, 'adventur': 723, 'soldier': 724, 'drug': 725, 'famou': 726, 'sorri': 727, 'suggest': 728, 'babi': 729, 'cri': 730, 'normal': 731, 'ultim': 732, 'troubl': 733, 'contain': 734, 'certain': 735, 'cultur': 736, 'romanc': 737, 'rare': 738, 'lame': 739, 'somehow': 740, 'mix': 741, 'disney': 742, 'gone': 743, 'cartoon': 744, 'student': 745, 'reveal': 746, 'fear': 747, 'kept': 748, 'suck': 749, 'attract': 750, 'appeal': 751, 'premis': 752, 'design': 753, 'secret': 754, 'greatest': 755, 'shame': 756, 'throw': 757, 'scare': 758, 'copi': 759, 'wit': 760, 'admit': 761, 'america': 762, 'relat': 763, 'brought': 764, 'particular': 765, 'screenplay': 766, 'whatev': 767, 'pure': 768, '70': 769, 'harri': 770, 'averag': 771, 'master': 772, 'describ': 773, 'treat': 774, 'male': 775, '20': 776, 'issu': 777, 'fantasi': 778, 'warn': 779, 'inde': 780, 'background': 781, 'forward': 782, 'free': 783, 'project': 784, 'memor': 785, 'japanes': 786, 'poorli': 787, 'award': 788, 'locat': 789, 'potenti': 790, 'amus': 791, 'struggl': 792, 'weird': 793, 'magic': 794, 'societi': 795, 'okay': 796, 'imdb': 797, 'accent': 798, 'doctor': 799, 'water': 800, 'hot': 801, 'express': 802, 'alien': 803, '30': 804, 'dr': 805, 'odd': 806, 'crazi': 807, 'choic': 808, 'studio': 809, 'fiction': 810, 'becam': 811, 'control': 812, 'masterpiec': 813, 'fli': 814, 'difficult': 815, 'joe': 816, 'scream': 817, 'costum': 818, 'lover': 819, 'refer': 820, 'uniqu': 821, 'remak': 822, 'vampir': 823, 'girlfriend': 824, 'prison': 825, 'execut': 826, 'wear': 827, 'jump': 828, 'unless': 829, 'wood': 830, 'creepi': 831, 'cheesi': 832, 'superb': 833, 'otherwis': 834, 'parti': 835, 'roll': 836, 'ghost': 837, 'public': 838, 'mad': 839, 'depict': 840, 'jane': 841, 'badli': 842, 'earlier': 843, 'week': 844, 'moral': 845, 'dumb': 846, 'fi': 847, 'grow': 848, 'flaw': 849, 'deep': 850, 'sci': 851, 'maker': 852, 'cat': 853, 'older': 854, 'footag': 855, 'connect': 856, 'plenti': 857, 'bother': 858, 'outsid': 859, 'stick': 860, 'gay': 861, 'catch': 862, 'plu': 863, 'co': 864, 'popular': 865, 'equal': 866, 'social': 867, 'quickli': 868, 'disturb': 869, 'perfectli': 870, 'dress': 871, '90': 872, 'era': 873, 'mistak': 874, 'lie': 875, 'ride': 876, 'previou': 877, 'combin': 878, 'concept': 879, 'band': 880, 'surviv': 881, 'answer': 882, 'rich': 883, 'front': 884, 'sweet': 885, 'christma': 886, 'insid': 887, 'eat': 888, 'bare': 889, 'concern': 890, 'ben': 891, 'beat': 892, 'listen': 893, 'c': 894, 'term': 895, 'serv': 896, 'german': 897, 'la': 898, 'meant': 899, 'hardli': 900, 'stereotyp': 901, 'innoc': 902, 'law': 903, 'desper': 904, 'memori': 905, 'promis': 906, 'cute': 907, 'intent': 908, 'variou': 909, 'steal': 910, 'inform': 911, 'brain': 912, 'post': 913, 'tone': 914, 'island': 915, 'amount': 916, 'compani': 917, 'nuditi': 918, 'track': 919, 'store': 920, 'claim': 921, 'flat': 922, '50': 923, 'hair': 924, 'land': 925, 'univers': 926, 'kick': 927, 'danger': 928, 'scott': 929, 'fairli': 930, 'player': 931, 'plain': 932, 'step': 933, 'crew': 934, 'toni': 935, 'share': 936, 'tast': 937, 'centuri': 938, 'achiev': 939, 'engag': 940, 'cold': 941, 'travel': 942, 'rip': 943, 'record': 944, 'suit': 945, 'manner': 946, 'sadli': 947, 'spot': 948, 'wrote': 949, 'tension': 950, 'intens': 951, 'fascin': 952, 'familiar': 953, 'remark': 954, 'burn': 955, 'depth': 956, 'histor': 957, 'destroy': 958, 'sleep': 959, 'purpos': 960, 'languag': 961, 'ruin': 962, 'ignor': 963, 'delight': 964, 'unbeliev': 965, 'italian': 966, 'soul': 967, 'collect': 968, 'abil': 969, 'clever': 970, 'detect': 971, 'violent': 972, 'rape': 973, 'reach': 974, 'door': 975, 'trash': 976, 'scienc': 977, 'liter': 978, 'caught': 979, 'commun': 980, 'reveng': 981, 'creatur': 982, 'trip': 983, 'approach': 984, 'fashion': 985, 'intrigu': 986, 'paint': 987, 'skill': 988, 'introduc': 989, 'channel': 990, 'complex': 991, 'camp': 992, 'christian': 993, 'extra': 994, 'hole': 995, 'immedi': 996, 'mental': 997, 'ann': 998, 'limit': 999, 'million': 1000, 'slightli': 1001, 'comput': 1002, '6': 1003, 'mere': 1004, 'conclus': 1005, 'slasher': 1006, 'suddenli': 1007, 'imposs': 1008, 'neither': 1009, 'teen': 1010, 'crimin': 1011, 'nation': 1012, 'spent': 1013, 'physic': 1014, 'respons': 1015, 'planet': 1016, 'fake': 1017, 'receiv': 1018, 'sick': 1019, 'blue': 1020, 'bizarr': 1021, 'embarrass': 1022, 'indian': 1023, '15': 1024, 'ring': 1025, 'pop': 1026, 'drop': 1027, 'drag': 1028, 'haunt': 1029, 'pointless': 1030, 'suspect': 1031, 'edg': 1032, 'search': 1033, 'handl': 1034, 'biggest': 1035, 'common': 1036, 'faith': 1037, 'hurt': 1038, 'arriv': 1039, 'technic': 1040, 'angel': 1041, 'genuin': 1042, 'dad': 1043, 'f': 1044, 'solid': 1045, 'awesom': 1046, 'colleg': 1047, 'focu': 1048, 'van': 1049, 'former': 1050, 'count': 1051, 'heavi': 1052, 'tear': 1053, 'wall': 1054, 'rais': 1055, 'visit': 1056, 'laughabl': 1057, 'younger': 1058, 'sign': 1059, 'excus': 1060, 'fair': 1061, 'cult': 1062, 'tough': 1063, 'key': 1064, 'motion': 1065, 'desir': 1066, 'super': 1067, 'stun': 1068, 'addit': 1069, 'exploit': 1070, 'cloth': 1071, 'smith': 1072, 'tortur': 1073, 'race': 1074, 'davi': 1075, 'author': 1076, 'cross': 1077, 'jim': 1078, 'consist': 1079, 'minor': 1080, 'compel': 1081, 'focus': 1082, 'commit': 1083, 'chemistri': 1084, 'pathet': 1085, 'park': 1086, 'frank': 1087, 'tradit': 1088, 'obsess': 1089, 'grade': 1090, '60': 1091, 'asid': 1092, 'brutal': 1093, 'somewher': 1094, 'steve': 1095, 'rule': 1096, 'explor': 1097, 'u': 1098, 'depress': 1099, 'grant': 1100, 'opportun': 1101, 'honest': 1102, 'besid': 1103, 'anti': 1104, 'dub': 1105, 'intend': 1106, 'trailer': 1107, 'bar': 1108, 'west': 1109, 'regard': 1110, 'longer': 1111, 'scientist': 1112, 'decad': 1113, 'judg': 1114, 'silent': 1115, 'armi': 1116, 'creativ': 1117, 'wild': 1118, 'south': 1119, 'stewart': 1120, 'g': 1121, 'draw': 1122, 'road': 1123, 'govern': 1124, 'ex': 1125, 'boss': 1126, 'practic': 1127, 'gang': 1128, 'motiv': 1129, 'club': 1130, 'surprisingli': 1131, 'festiv': 1132, 'redeem': 1133, 'london': 1134, 'page': 1135, 'green': 1136, 'display': 1137, 'idiot': 1138, 'militari': 1139, 'machin': 1140, 'aliv': 1141, 'thrill': 1142, 'repeat': 1143, 'yeah': 1144, 'nobodi': 1145, 'folk': 1146, '100': 1147, '40': 1148, 'journey': 1149, 'garbag': 1150, 'ground': 1151, 'tire': 1152, 'smile': 1153, 'mood': 1154, 'bought': 1155, 'stone': 1156, 'cost': 1157, 'sam': 1158, 'noir': 1159, 'mouth': 1160, 'agent': 1161, 'terrif': 1162, 'requir': 1163, 'utterli': 1164, 'sexi': 1165, 'area': 1166, 'honestli': 1167, 'geniu': 1168, 'report': 1169, 'enter': 1170, 'investig': 1171, 'humour': 1172, 'glad': 1173, 'serial': 1174, 'occasion': 1175, 'narr': 1176, 'passion': 1177, 'climax': 1178, 'marriag': 1179, 'studi': 1180, 'industri': 1181, 'charli': 1182, 'center': 1183, 'nowher': 1184, 'demon': 1185, 'ship': 1186, 'bear': 1187, 'loos': 1188, 'hors': 1189, 'wow': 1190, 'hang': 1191, 'graphic': 1192, 'admir': 1193, 'giant': 1194, 'send': 1195, 'loud': 1196, 'damn': 1197, 'nake': 1198, 'profession': 1199, 'rel': 1200, 'subtl': 1201, 'blow': 1202, 'bottom': 1203, 'batman': 1204, 'insult': 1205, 'kelli': 1206, 'boyfriend': 1207, 'doubl': 1208, 'r': 1209, 'initi': 1210, 'frame': 1211, 'gem': 1212, 'opera': 1213, 'drawn': 1214, 'affect': 1215, 'cinemat': 1216, 'church': 1217, 'challeng': 1218, 'l': 1219, 'fulli': 1220, 'j': 1221, 'seek': 1222, 'nightmar': 1223, 'evid': 1224, 'conflict': 1225, 'essenti': 1226, 'arm': 1227, 'christoph': 1228, 'wind': 1229, 'henri': 1230, 'grace': 1231, 'witch': 1232, 'assum': 1233, 'narrat': 1234, 'hunt': 1235, 'push': 1236, 'wise': 1237, 'chri': 1238, 'nomin': 1239, 'repres': 1240, 'month': 1241, 'avail': 1242, 'affair': 1243, 'sceneri': 1244, 'hide': 1245, 'smart': 1246, 'bond': 1247, 'thu': 1248, 'justic': 1249, 'flashback': 1250, 'outstand': 1251, 'interview': 1252, 'presenc': 1253, 'satisfi': 1254, 'constantli': 1255, 'bed': 1256, 'central': 1257, 'content': 1258, 'iron': 1259, 'sell': 1260, 'gag': 1261, 'everybodi': 1262, 'slowli': 1263, 'hotel': 1264, 'hire': 1265, 'system': 1266, 'adam': 1267, 'charl': 1268, 'individu': 1269, 'hey': 1270, 'thrown': 1271, 'mediocr': 1272, 'jone': 1273, 'allen': 1274, 'billi': 1275, 'lesson': 1276, 'ray': 1277, 'cameo': 1278, 'photographi': 1279, 'fellow': 1280, 'pari': 1281, 'strike': 1282, 'rise': 1283, 'absurd': 1284, 'independ': 1285, 'brief': 1286, 'neg': 1287, 'phone': 1288, 'impact': 1289, 'ill': 1290, 'model': 1291, 'born': 1292, 'spoil': 1293, 'angl': 1294, 'fresh': 1295, 'likabl': 1296, 'abus': 1297, 'hill': 1298, 'discuss': 1299, 'sight': 1300, 'ahead': 1301, 'sent': 1302, 'photograph': 1303, 'shine': 1304, 'occur': 1305, 'logic': 1306, 'blame': 1307, 'bruce': 1308, 'mainli': 1309, 'skip': 1310, 'commerci': 1311, 'forev': 1312, 'segment': 1313, 'teacher': 1314, 'surround': 1315, 'held': 1316, 'blond': 1317, 'zero': 1318, 'summer': 1319, 'trap': 1320, 'resembl': 1321, 'satir': 1322, 'six': 1323, 'ball': 1324, 'queen': 1325, 'fool': 1326, 'sub': 1327, 'twice': 1328, 'tragedi': 1329, 'pack': 1330, 'reaction': 1331, 'bomb': 1332, 'protagonist': 1333, 'will': 1334, 'hospit': 1335, 'sport': 1336, 'mile': 1337, 'mom': 1338, 'jerri': 1339, 'trust': 1340, 'drink': 1341, 'vote': 1342, 'encount': 1343, 'plane': 1344, 'program': 1345, 'station': 1346, 'al': 1347, 'current': 1348, 'celebr': 1349, 'martin': 1350, 'choos': 1351, 'join': 1352, 'round': 1353, 'favourit': 1354, 'field': 1355, 'tragic': 1356, 'lord': 1357, 'vision': 1358, 'robot': 1359, 'jean': 1360, 'tie': 1361, 'arthur': 1362, 'roger': 1363, 'random': 1364, 'fortun': 1365, 'intern': 1366, 'psycholog': 1367, 'dread': 1368, 'epic': 1369, 'improv': 1370, 'nonsens': 1371, 'prefer': 1372, 'legend': 1373, 'pleasur': 1374, 'formula': 1375, 'highlight': 1376, '11': 1377, 'dollar': 1378, 'tape': 1379, 'wide': 1380, 'gorgeou': 1381, 'porn': 1382, 'thin': 1383, 'object': 1384, 'fox': 1385, 'buddi': 1386, 'ugli': 1387, 'influenc': 1388, 'nasti': 1389, 'prepar': 1390, 'ii': 1391, 'warm': 1392, 'progress': 1393, 'reflect': 1394, 'supposedli': 1395, 'youth': 1396, 'worthi': 1397, 'unusu': 1398, 'length': 1399, 'latter': 1400, 'crash': 1401, 'childhood': 1402, 'shop': 1403, 'seven': 1404, 'superior': 1405, 'theatr': 1406, 'remot': 1407, 'pilot': 1408, 'paid': 1409, 'funniest': 1410, 'disgust': 1411, 'convers': 1412, 'fell': 1413, 'castl': 1414, 'trick': 1415, 'rob': 1416, 'establish': 1417, 'gangster': 1418, 'disast': 1419, 'suicid': 1420, 'ident': 1421, 'heaven': 1422, 'disappear': 1423, 'mine': 1424, 'heroin': 1425, 'mask': 1426, 'forgotten': 1427, 'decis': 1428, 'singer': 1429, 'tend': 1430, 'brian': 1431, 'partner': 1432, 'desert': 1433, 'alan': 1434, 'recogn': 1435, 'p': 1436, 'thoroughli': 1437, 'stuck': 1438, 'ms': 1439, 'sky': 1440, 'accur': 1441, 'replac': 1442, 'market': 1443, 'andi': 1444, 'seemingli': 1445, 'commentari': 1446, 'uncl': 1447, 'danni': 1448, 'eddi': 1449, 'clue': 1450, 'devil': 1451, 'jackson': 1452, 'refus': 1453, 'pair': 1454, 'that': 1455, 'therefor': 1456, 'accid': 1457, 'unit': 1458, 'fault': 1459, 'river': 1460, 'fate': 1461, 'ed': 1462, 'tune': 1463, 'afraid': 1464, 'stephen': 1465, 'hidden': 1466, 'clean': 1467, 'russian': 1468, 'convey': 1469, 'test': 1470, 'readi': 1471, 'quick': 1472, 'captain': 1473, 'irrit': 1474, 'instanc': 1475, 'european': 1476, 'frustrat': 1477, 'insan': 1478, 'daniel': 1479, 'food': 1480, 'rescu': 1481, '1950': 1482, 'wed': 1483, 'chines': 1484, 'angri': 1485, 'dirti': 1486, 'lock': 1487, 'joy': 1488, 'price': 1489, 'steven': 1490, 'cage': 1491, 'bland': 1492, 'rang': 1493, 'anymor': 1494, 'wooden': 1495, 'rush': 1496, 'news': 1497, 'n': 1498, 'jason': 1499, 'worri': 1500, '12': 1501, 'board': 1502, 'martial': 1503, 'twenti': 1504, 'led': 1505, 'hunter': 1506, 'cgi': 1507, 'transform': 1508, 'symbol': 1509, 'invent': 1510, 'onto': 1511, 'sentiment': 1512, 'johnni': 1513, 'piti': 1514, 'x': 1515, 'process': 1516, 'attitud': 1517, 'explan': 1518, 'owner': 1519, 'awar': 1520, 'aim': 1521, 'energi': 1522, 'favor': 1523, 'necessari': 1524, 'target': 1525, 'floor': 1526, 'opposit': 1527, 'religi': 1528, 'window': 1529, 'chick': 1530, 'blind': 1531, 'insight': 1532, 'movement': 1533, 'mountain': 1534, 'possess': 1535, 'deepli': 1536, 'research': 1537, 'comparison': 1538, 'whatsoev': 1539, 'rain': 1540, 'comed': 1541, 'grand': 1542, 'shadow': 1543, 'mid': 1544, 'began': 1545, 'bank': 1546, 'princ': 1547, 'parodi': 1548, 'taylor': 1549, 'friendship': 1550, 'pre': 1551, 'credibl': 1552, 'weapon': 1553, 'dougla': 1554, 'flesh': 1555, 'teach': 1556, 'bloodi': 1557, 'protect': 1558, 'terror': 1559, 'hint': 1560, 'marvel': 1561, 'anybodi': 1562, 'drunk': 1563, 'accord': 1564, 'watchabl': 1565, 'leader': 1566, 'superman': 1567, 'load': 1568, 'brown': 1569, 'freddi': 1570, 'appropri': 1571, 'jeff': 1572, 'hitler': 1573, 'tim': 1574, 'seat': 1575, 'knock': 1576, 'keaton': 1577, 'unknown': 1578, 'charg': 1579, 'villag': 1580, 'empti': 1581, 'enemi': 1582, 'media': 1583, 'england': 1584, 'unnecessari': 1585, 'dare': 1586, 'craft': 1587, 'strength': 1588, 'wave': 1589, 'perspect': 1590, 'buck': 1591, 'utter': 1592, 'correct': 1593, 'nativ': 1594, 'ford': 1595, 'contrast': 1596, 'kiss': 1597, 'distract': 1598, 'chill': 1599, 'anywher': 1600, 'nazi': 1601, 'soap': 1602, 'knowledg': 1603, 'speed': 1604, 'magnific': 1605, 'mission': 1606, 'breath': 1607, 'ice': 1608, '1980': 1609, 'fred': 1610, 'crowd': 1611, 'jr': 1612, 'joan': 1613, 'moon': 1614, 'kate': 1615, 'frighten': 1616, '000': 1617, 'soft': 1618, 'dick': 1619, 'dan': 1620, 'hundr': 1621, 'nick': 1622, 'somebodi': 1623, 'dozen': 1624, 'radio': 1625, 'simon': 1626, 'andrew': 1627, 'academi': 1628, 'loss': 1629, 'thousand': 1630, 'shakespear': 1631, 'vehicl': 1632, 'quot': 1633, 'account': 1634, 'root': 1635, 'sum': 1636, 'behavior': 1637, '1970': 1638, 'convent': 1639, 'leg': 1640, 'regular': 1641, 'gold': 1642, 'compet': 1643, 'demand': 1644, 'worker': 1645, 'pretenti': 1646, 'japan': 1647, 'stretch': 1648, 'candi': 1649, 'privat': 1650, 'explos': 1651, 'interpret': 1652, 'notabl': 1653, 'lynch': 1654, 'debut': 1655, 'tarzan': 1656, 'constant': 1657, 'translat': 1658, 'prais': 1659, 'spi': 1660, 'revolv': 1661, 'sea': 1662, 'threaten': 1663, 'ass': 1664, 'failur': 1665, 'sat': 1666, 'jesu': 1667, 'franc': 1668, 'quiet': 1669, 'technolog': 1670, 'toy': 1671, 'punch': 1672, 'kevin': 1673, 'aid': 1674, 'met': 1675, 'higher': 1676, 'mike': 1677, 'interact': 1678, 'abandon': 1679, 'vh': 1680, 'separ': 1681, 'bet': 1682, 'command': 1683, 'confront': 1684, 'site': 1685, 'techniqu': 1686, 'servic': 1687, 'recal': 1688, 'stunt': 1689, 'gotten': 1690, 'belong': 1691, 'freak': 1692, 'foot': 1693, 'cabl': 1694, 'bug': 1695, 'fu': 1696, 'bright': 1697, 'african': 1698, 'jimmi': 1699, 'capabl': 1700, 'stock': 1701, 'fat': 1702, 'boat': 1703, 'succeed': 1704, 'clark': 1705, 'presid': 1706, 'spanish': 1707, 'structur': 1708, 'gene': 1709, 'paper': 1710, 'kidnap': 1711, 'whilst': 1712, 'belief': 1713, 'factor': 1714, 'witti': 1715, 'realism': 1716, 'bob': 1717, 'complic': 1718, 'attend': 1719, 'educ': 1720, 'tree': 1721, 'realis': 1722, 'finest': 1723, 'assist': 1724, 'broken': 1725, 'santa': 1726, 'v': 1727, 'observ': 1728, 'smoke': 1729, 'determin': 1730, 'depart': 1731, 'up': 1732, 'fame': 1733, 'rubbish': 1734, 'domin': 1735, 'lewi': 1736, 'oper': 1737, 'hat': 1738, 'routin': 1739, 'safe': 1740, 'hook': 1741, 'advanc': 1742, 'foreign': 1743, 'morgan': 1744, 'kinda': 1745, 'lone': 1746, 'rank': 1747, 'numer': 1748, 'shape': 1749, 'vs': 1750, 'civil': 1751, 'washington': 1752, 'shallow': 1753, 'rose': 1754, 'werewolf': 1755, 'gari': 1756, 'morn': 1757, 'winner': 1758, 'ordinari': 1759, 'accomplish': 1760, 'kong': 1761, 'whenev': 1762, 'grab': 1763, 'virtual': 1764, 'peac': 1765, 'offens': 1766, 'h': 1767, 'luck': 1768, 'unfunni': 1769, 'bigger': 1770, 'patient': 1771, 'activ': 1772, 'complain': 1773, 'contriv': 1774, 'welcom': 1775, 'trek': 1776, 'pretend': 1777, 'dimension': 1778, 'con': 1779, 'dri': 1780, 'flash': 1781, 'lesbian': 1782, 'wake': 1783, 'eric': 1784, 'code': 1785, 'cain': 1786, 'guard': 1787, 'statu': 1788, 'albert': 1789, 'corrupt': 1790, 'dancer': 1791, 'manipul': 1792, 'awkward': 1793, 'speech': 1794, 'signific': 1795, 'gain': 1796, 'context': 1797, 'sourc': 1798, 'clip': 1799, 'anthoni': 1800, 'corni': 1801, '13': 1802, 'sean': 1803, 'psycho': 1804, 'w': 1805, 'curiou': 1806, 'theatric': 1807, 'advic': 1808, 'religion': 1809, 'reli': 1810, 'priest': 1811, 'addict': 1812, 'flow': 1813, 'secur': 1814, 'howard': 1815, 'jennif': 1816, 'specif': 1817, 'skin': 1818, 'asian': 1819, 'golden': 1820, 'comfort': 1821, 'promot': 1822, 'luke': 1823, 'organ': 1824, 'core': 1825, 'lucki': 1826, 'cash': 1827, 'cheat': 1828, 'dislik': 1829, 'lower': 1830, 'associ': 1831, 'degre': 1832, 'contribut': 1833, 'regret': 1834, 'devic': 1835, 'balanc': 1836, 'spell': 1837, 'wing': 1838, 'frankli': 1839, 'frequent': 1840, 'sake': 1841, 'forgiv': 1842, 'print': 1843, 'lake': 1844, 'thoma': 1845, 'betti': 1846, 'mass': 1847, 'unexpect': 1848, 'gordon': 1849, 'crack': 1850, 'unfold': 1851, 'depend': 1852, 'amateur': 1853, 'categori': 1854, 'grown': 1855, 'invit': 1856, 'construct': 1857, 'matur': 1858, 'intellectu': 1859, 'honor': 1860, 'condit': 1861, 'anna': 1862, 'walter': 1863, 'grew': 1864, 'sole': 1865, 'veteran': 1866, 'mirror': 1867, 'sudden': 1868, 'spectacular': 1869, 'gift': 1870, 'demonstr': 1871, 'overli': 1872, 'experienc': 1873, 'liner': 1874, 'freedom': 1875, 'grip': 1876, 'meanwhil': 1877, 'card': 1878, 'robin': 1879, 'unabl': 1880, 'brilliantli': 1881, 'crappi': 1882, 'oliv': 1883, 'drew': 1884, 'sheriff': 1885, 'circumst': 1886, 'section': 1887, 'colour': 1888, 'subtitl': 1889, 'theori': 1890, 'matt': 1891, 'parker': 1892, 'altern': 1893, 'path': 1894, 'sheer': 1895, 'cook': 1896, 'pile': 1897, 'laughter': 1898, 'accident': 1899, 'wander': 1900, 'treatment': 1901, 'defin': 1902, 'lawyer': 1903, 'hall': 1904, 'relief': 1905, 'sinatra': 1906, 'captiv': 1907, 'dragon': 1908, 'hank': 1909, 'gratuit': 1910, 'halloween': 1911, 'moor': 1912, 'kung': 1913, 'unintent': 1914, 'k': 1915, 'barbara': 1916, 'wayn': 1917, 'wound': 1918, 'broadway': 1919, 'cowboy': 1920, 'jacki': 1921, 'spoof': 1922, 'statement': 1923, 'surreal': 1924, 'canadian': 1925, 'winter': 1926, 'fare': 1927, 'cheer': 1928, 'gonna': 1929, 'compos': 1930, 'fish': 1931, 'treasur': 1932, 'sensit': 1933, 'unrealist': 1934, 'emerg': 1935, 'victor': 1936, 'woodi': 1937, 'neighbor': 1938, 'ran': 1939, 'driven': 1940, 'sympathet': 1941, 'expos': 1942, 'topic': 1943, 'authent': 1944, 'overlook': 1945, 'glass': 1946, 'menac': 1947, 'chief': 1948, 'handsom': 1949, 'ancient': 1950, 'gross': 1951, 'michel': 1952, 'built': 1953, 'network': 1954, 'nevertheless': 1955, 'comedian': 1956, 'stranger': 1957, 'pleasant': 1958, 'contemporari': 1959, 'russel': 1960, 'cinderella': 1961, 'feet': 1962, 'underr': 1963, 'blockbust': 1964, 'gori': 1965, 'earn': 1966, 'consider': 1967, 'letter': 1968, 'miser': 1969, 'endless': 1970, 'brook': 1971, 'switch': 1972, 'solv': 1973, 'victoria': 1974, 'joseph': 1975, 'convict': 1976, 'edward': 1977, 'bullet': 1978, 'virgin': 1979, 'scale': 1980, '0': 1981, 'cynic': 1982, 'scenario': 1983, 'chosen': 1984, 'alex': 1985, 'com': 1986, 'curs': 1987, 'outrag': 1988, 'gut': 1989, 'sword': 1990, 'substanc': 1991, 'screenwrit': 1992, 'uk': 1993, 'proper': 1994, 'juli': 1995, 'wrap': 1996, 'driver': 1997, 'monkey': 1998, 'par': 1999, 'court': 2000, 'bird': 2001, 'indic': 2002, 'remov': 2003, 'consequ': 2004, 'nanci': 2005, 'roy': 2006, 'inevit': 2007, 'loser': 2008, 'advertis': 2009, 'naiv': 2010, 'rental': 2011, 'grave': 2012, 'fatal': 2013, 'bridg': 2014, 'brave': 2015, 'le': 2016, 'slap': 2017, 'germani': 2018, 'invis': 2019, 'ador': 2020, 'anger': 2021, 'provok': 2022, 'footbal': 2023, 'loui': 2024, 'anderson': 2025, 'alcohol': 2026, 'chan': 2027, 'ryan': 2028, 'willi': 2029, 'professor': 2030, 'stumbl': 2031, 'bat': 2032, 'patrick': 2033, 'australian': 2034, '1930': 2035, 'sharp': 2036, 'assassin': 2037, 'refresh': 2038, 'deni': 2039, 'lousi': 2040, 'heck': 2041, 'liber': 2042, 'trilog': 2043, 'eight': 2044, 'saturday': 2045, 'strongli': 2046, 'amateurish': 2047, 'ape': 2048, 'cell': 2049, 'sin': 2050, 'vagu': 2051, 'san': 2052, 'resid': 2053, 'justifi': 2054, 'terrifi': 2055, 'mini': 2056, 'indi': 2057, 'defeat': 2058, 'reput': 2059, 'creator': 2060, 'sympathi': 2061, 'tabl': 2062, 'tediou': 2063, 'expert': 2064, 'endur': 2065, 'task': 2066, 'prevent': 2067, 'offend': 2068, 'employ': 2069, 'imit': 2070, 'basebal': 2071, 'rival': 2072, 'trial': 2073, 'che': 2074, 'pitch': 2075, 'dig': 2076, 'europ': 2077, 'fairi': 2078, 'max': 2079, 'complaint': 2080, 'beach': 2081, 'weekend': 2082, 'purchas': 2083, 'risk': 2084, 'format': 2085, 'murphi': 2086, 'nois': 2087, 'hype': 2088, 'bite': 2089, 'tini': 2090, 'reminisc': 2091, 'powel': 2092, 'glimps': 2093, 'harsh': 2094, 'titan': 2095, 'asleep': 2096, 'prime': 2097, 'till': 2098, 'fals': 2099, '14': 2100, 'strip': 2101, 'north': 2102, 'africa': 2103, 'texa': 2104, 'destruct': 2105, 'descript': 2106, 'revel': 2107, 'sitcom': 2108, 'uninterest': 2109, 'arrest': 2110, 'excess': 2111, 'inner': 2112, 'spin': 2113, 'surfac': 2114, 'semi': 2115, 'twin': 2116, 'massiv': 2117, 'argu': 2118, 'hitchcock': 2119, 'controversi': 2120, 'makeup': 2121, 'maintain': 2122, 'dinosaur': 2123, 'stare': 2124, 'kim': 2125, 'reject': 2126, 'ideal': 2127, 'ludicr': 2128, 'expens': 2129, 'insist': 2130, 'melodrama': 2131, 'erot': 2132, 'supernatur': 2133, 'subplot': 2134, 'forest': 2135, 'ga': 2136, 'columbo': 2137, 'press': 2138, 'ala': 2139, 'host': 2140, 'nail': 2141, 'atroci': 2142, 'identifi': 2143, 'cant': 2144, 'dude': 2145, 'presum': 2146, 'notch': 2147, 'plagu': 2148, 'guest': 2149, 'method': 2150, 'character': 2151, 'closer': 2152, 'forgett': 2153, 'crude': 2154, 'lion': 2155, 'beast': 2156, 'border': 2157, 'ear': 2158, 'princess': 2159, 'foster': 2160, 'landscap': 2161, 'damag': 2162, 'jungl': 2163, 'bound': 2164, 'aunt': 2165, 'previous': 2166, 'birth': 2167, 'urban': 2168, 'storytel': 2169, 'pacino': 2170, 'accus': 2171, 'guid': 2172, 'chose': 2173, 'thirti': 2174, 'propaganda': 2175, 'jess': 2176, 'emma': 2177, 'nude': 2178, 'doll': 2179, 'whoever': 2180, 'mainstream': 2181, 'pet': 2182, 'warrior': 2183, '25': 2184, 'mate': 2185, 'poster': 2186, 'merit': 2187, 'latest': 2188, 'friday': 2189, 'deadli': 2190, 'size': 2191, 'gritti': 2192, 'cooper': 2193, 'exact': 2194, 'upset': 2195, 'contact': 2196, 'ton': 2197, 'rough': 2198, 'warner': 2199, 'citizen': 2200, 'blend': 2201, 'buff': 2202, 'popul': 2203, 'wilson': 2204, 'contest': 2205, 'settl': 2206, 'corps': 2207, '1990': 2208, 'sun': 2209, 'rat': 2210, 'widow': 2211, 'bu': 2212, 'overcom': 2213, 'select': 2214, 'mgm': 2215, 'alic': 2216, 'pitt': 2217, 'metal': 2218, 'environ': 2219, 'link': 2220, 'guilti': 2221, 'ted': 2222, 'lift': 2223, 'revolut': 2224, 'particip': 2225, '1960': 2226, 'afternoon': 2227, 'corner': 2228, 'corpor': 2229, 'accompani': 2230, 'johnson': 2231, 'exagger': 2232, 'moron': 2233, 'matrix': 2234, 'prostitut': 2235, 'multipl': 2236, 'clair': 2237, 'instal': 2238, 'leagu': 2239, 'doom': 2240, 'hood': 2241, 'sincer': 2242, 'friendli': 2243, 'holm': 2244, 'hip': 2245, 'campi': 2246, 'string': 2247, 'aka': 2248, 'examin': 2249, 'advis': 2250, 'defend': 2251, 'grim': 2252, 'sunday': 2253, 'irish': 2254, 'junk': 2255, 'lugosi': 2256, 'blah': 2257, 'rachel': 2258, 'shut': 2259, 'shake': 2260, 'confid': 2261, 'icon': 2262, 'pro': 2263, 'tight': 2264, 'varieti': 2265, 'sullivan': 2266, 'jaw': 2267, 'directli': 2268, 'attach': 2269, 'denni': 2270, 'goal': 2271, 'mexican': 2272, 'medic': 2273, 'truck': 2274, 'vietnam': 2275, 'courag': 2276, 'sentenc': 2277, 'prior': 2278, 'terrorist': 2279, 'dean': 2280, 'breast': 2281, 'legendari': 2282, 'duke': 2283, 'sarah': 2284, 'bourn': 2285, 'donald': 2286, 'split': 2287, 'proceed': 2288, 'yell': 2289, 'entri': 2290, 'nose': 2291, 'behav': 2292, 'un': 2293, 'hong': 2294, 'buri': 2295, 'jerk': 2296, 'lifetim': 2297, 'concentr': 2298, 'crush': 2299, 'stolen': 2300, 'everywher': 2301, 'gather': 2302, 'unconvinc': 2303, 'borrow': 2304, 'forth': 2305, 'swim': 2306, 'confess': 2307, 'lip': 2308, 'turkey': 2309, 'julia': 2310, 'spite': 2311, 'california': 2312, 'deliveri': 2313, 'pan': 2314, 'downright': 2315, 'reward': 2316, 'proud': 2317, 'quest': 2318, 'flight': 2319, 'freeman': 2320, 'hoffman': 2321, 'china': 2322, 'offici': 2323, 'worthwhil': 2324, 'lazi': 2325, 'sir': 2326, 'jail': 2327, 'inept': 2328, 'encourag': 2329, 'jon': 2330, 'notori': 2331, 'sink': 2332, 'betray': 2333, 'fade': 2334, 'fabul': 2335, 'survivor': 2336, 'retard': 2337, 'cousin': 2338, 'relev': 2339, 'bag': 2340, 'storm': 2341, 'branagh': 2342, 'bell': 2343, 'lisa': 2344, 'imageri': 2345, 'susan': 2346, 'teeth': 2347, 'shower': 2348, 'alright': 2349, 'summari': 2350, 'finger': 2351, 'hugh': 2352, 'facial': 2353, 'toler': 2354, 'stab': 2355, 'trade': 2356, 'tremend': 2357, 'quirki': 2358, 'mexico': 2359, 'shark': 2360, 'bride': 2361, 'bitter': 2362, 'hyster': 2363, 'von': 2364, 'blown': 2365, 'pose': 2366, 'ha': 2367, 'ron': 2368, 'christ': 2369, 'afterward': 2370, 'address': 2371, 'scheme': 2372, 'larri': 2373, 'bone': 2374, 'ned': 2375, 'cruel': 2376, 'tour': 2377, 'snake': 2378, 'beg': 2379, 'screw': 2380, 'pursu': 2381, 'feed': 2382, 'thumb': 2383, 'swear': 2384, 'traci': 2385, 'distinct': 2386, 'raw': 2387, 'occas': 2388, 'chair': 2389, 'stomach': 2390, 'mechan': 2391, 'photo': 2392, 'obscur': 2393, 'necessarili': 2394, 'resist': 2395, 'chain': 2396, 'render': 2397, 'sidney': 2398, 'argument': 2399, 'heavili': 2400, 'southern': 2401, 'hardi': 2402, 'gruesom': 2403, 'holiday': 2404, 'cabin': 2405, 'racist': 2406, 'philip': 2407, 'understood': 2408, 'indulg': 2409, 'india': 2410, 'satan': 2411, 'forgot': 2412, 'lay': 2413, 'obnoxi': 2414, 'integr': 2415, 'belov': 2416, 'pregnant': 2417, 'outfit': 2418, 'tongu': 2419, 'fourth': 2420, 'stalk': 2421, 'midnight': 2422, 'restor': 2423, 'carol': 2424, 'slapstick': 2425, 'inhabit': 2426, '17': 2427, 'ticket': 2428, 'garden': 2429, 'deeper': 2430, 'magazin': 2431, 'devot': 2432, 'shoe': 2433, 'incid': 2434, 'brad': 2435, 'lincoln': 2436, 'guarante': 2437, 'sandler': 2438, 'disbelief': 2439, 'maria': 2440, 'underground': 2441, 'divorc': 2442, 'lili': 2443, 'anticip': 2444, 'benefit': 2445, 'elizabeth': 2446, 'mildli': 2447, 'greater': 2448, 'princip': 2449, 'amazingli': 2450, 'explod': 2451, 'creation': 2452, 'capit': 2453, 'cring': 2454, 'slave': 2455, 'bbc': 2456, 'lesli': 2457, 'halfway': 2458, 'funnier': 2459, 'introduct': 2460, 'extraordinari': 2461, 'wreck': 2462, 'enhanc': 2463, 'transfer': 2464, 'overwhelm': 2465, 'punish': 2466, 'extent': 2467, 'text': 2468, 'advantag': 2469, 'tap': 2470, 'preview': 2471, 'lo': 2472, 'jessica': 2473, 'horrif': 2474, 'dynam': 2475, 'plant': 2476, 'east': 2477, 'lane': 2478, 'deliber': 2479, 'error': 2480, 'miscast': 2481, 'miller': 2482, 'ensu': 2483, 'vincent': 2484, 'vacat': 2485, '2000': 2486, 'basi': 2487, 'sophist': 2488, 'homosexu': 2489, 'appli': 2490, 'reed': 2491, 'mansion': 2492, 'measur': 2493, 'sleazi': 2494, 'via': 2495, 'extend': 2496, 'steel': 2497, 'spoken': 2498, 'elev': 2499, 'uncomfort': 2500, 'bollywood': 2501, 'overact': 2502, 'mous': 2503, 'stanley': 2504, 'dentist': 2505, 'blair': 2506, 'daili': 2507, 'assign': 2508, 'alter': 2509, 'conceiv': 2510, 'fix': 2511, 'goofi': 2512, 'melt': 2513, 'savag': 2514, 'breathtak': 2515, 'hippi': 2516, 'beer': 2517, 'cathol': 2518, 'inspector': 2519, 'burt': 2520, 'everyday': 2521, 'subsequ': 2522, 'succe': 2523, 'nowaday': 2524, 'oppos': 2525, 'carpent': 2526, 'sacrific': 2527, 'properli': 2528, 'neck': 2529, 'circl': 2530, 'massacr': 2531, 'laura': 2532, 'block': 2533, 'pool': 2534, 'seagal': 2535, 'concert': 2536, 'fallen': 2537, 'lesser': 2538, 'mob': 2539, 'grey': 2540, 'access': 2541, 'fay': 2542, 'portrait': 2543, 'christi': 2544, 'competit': 2545, 'isol': 2546, 'relax': 2547, 'usa': 2548, 'react': 2549, 'jewish': 2550, 'sinist': 2551, 'chees': 2552, 'jake': 2553, 'chop': 2554, 'appal': 2555, 'nine': 2556, 'immens': 2557, 'lyric': 2558, 'ironi': 2559, 'spiritu': 2560, 'stink': 2561, 'suitabl': 2562, 'creep': 2563, 'nonetheless': 2564, '2006': 2565, 'user': 2566, 'nut': 2567, 'reduc': 2568, 'needless': 2569, 'shirt': 2570, 'navi': 2571, 'rage': 2572, 'adopt': 2573, 'showcas': 2574, 'franchis': 2575, 'luci': 2576, 'spring': 2577, 'retir': 2578, 'sold': 2579, 'bulli': 2580, 'jay': 2581, 'nurs': 2582, 'stanwyck': 2583, 'per': 2584, 'asham': 2585, 'digit': 2586, 'uninspir': 2587, 'bath': 2588, 'zone': 2589, 'laid': 2590, 'upper': 2591, 'sutherland': 2592, '2001': 2593, 'oddli': 2594, 'broadcast': 2595, 'illustr': 2596, 'amongst': 2597, '1940': 2598, 'disguis': 2599, 'throat': 2600, 'baker': 2601, 'stylish': 2602, 'brando': 2603, 'aspir': 2604, 'fulfil': 2605, 'neighborhood': 2606, 'endear': 2607, 'wanna': 2608, 'impli': 2609, 'pound': 2610, 'wwii': 2611, 'thief': 2612, '18': 2613, 'em': 2614, 'nobl': 2615, 'pride': 2616, 'bo': 2617, 'coher': 2618, 'cinematograph': 2619, 'tens': 2620, 'dinner': 2621, 'dawn': 2622, 'prop': 2623, 'distribut': 2624, 'shift': 2625, 'albeit': 2626, 'diseas': 2627, 'shoulder': 2628, 'bett': 2629, '16': 2630, 'rochest': 2631, 'silenc': 2632, 'knife': 2633, 'shout': 2634, 'forti': 2635, 'surf': 2636, 'function': 2637, 'contract': 2638, 'matthau': 2639, 'rebel': 2640, 'poignant': 2641, 'wash': 2642, 'snow': 2643, 'derek': 2644, 'heat': 2645, 'internet': 2646, 'widmark': 2647, 'instinct': 2648, 'elvira': 2649, 'silver': 2650, 'height': 2651, 'henc': 2652, 'duti': 2653, 'chuck': 2654, 'eeri': 2655, 'horrend': 2656, 'cannib': 2657, 'mindless': 2658, 'proof': 2659, 'reunion': 2660, 'cancel': 2661, 'pie': 2662, 'neat': 2663, 'incoher': 2664, 'repetit': 2665, 'etern': 2666, 'musician': 2667, 'absorb': 2668, 'torn': 2669, 'alik': 2670, 'premier': 2671, 'greatli': 2672, 'glori': 2673, 'spielberg': 2674, 'elvi': 2675, 'mill': 2676, 'innov': 2677, 'diamond': 2678, 'blank': 2679, 'fbi': 2680, 'burton': 2681, 'infam': 2682, 'wealthi': 2683, 'racism': 2684, 'nelson': 2685, 'bang': 2686, 'trite': 2687, 'lovabl': 2688, 'itali': 2689, 'homag': 2690, 'redempt': 2691, 'britain': 2692, 'announc': 2693, 'precis': 2694, 'horrifi': 2695, 'crisi': 2696, 'chaplin': 2697, 'flop': 2698, 'happili': 2699, 'pat': 2700, 'helen': 2701, 'resolut': 2702, 'dedic': 2703, 'wilder': 2704, 'ensembl': 2705, 'parallel': 2706, 'streisand': 2707, 'hammer': 2708, 'triumph': 2709, 'mar': 2710, 'plastic': 2711, 'factori': 2712, 'disagre': 2713, 'conclud': 2714, 'cube': 2715, 'carter': 2716, 'oil': 2717, 'broke': 2718, 'st': 2719, 'climb': 2720, 'own': 2721, 'vega': 2722, 'weight': 2723, 'fighter': 2724, 'row': 2725, 'chuckl': 2726, 'march': 2727, 'bush': 2728, 'rocket': 2729, 'boot': 2730, 'dane': 2731, 'lust': 2732, 'meaning': 2733, 'kurt': 2734, 'sensibl': 2735, 'wherea': 2736, 'luca': 2737, 'dump': 2738, 'thug': 2739, 'enorm': 2740, 'unforgett': 2741, 'spare': 2742, 'mst3k': 2743, 'engin': 2744, 'butt': 2745, 'rap': 2746, 'dear': 2747, 'difficulti': 2748, 'fifti': 2749, 'bobbi': 2750, 'brand': 2751, 'stress': 2752, 'threat': 2753, 'karloff': 2754, 'caricatur': 2755, 'adequ': 2756, 'arnold': 2757, 'fest': 2758, 'flynn': 2759, 'elabor': 2760, 'journalist': 2761, 'ego': 2762, 'hamlet': 2763, 'polish': 2764, 'ralph': 2765, 'barri': 2766, 'homeless': 2767, 'swing': 2768, 'secretari': 2769, 'arrog': 2770, 'tool': 2771, 'conspiraci': 2772, 'induc': 2773, 'resort': 2774, 'spike': 2775, 'puppet': 2776, 'float': 2777, 'fanci': 2778, 'unbear': 2779, 'grate': 2780, 'simpson': 2781, 'arrang': 2782, 'guilt': 2783, 'tribut': 2784, 'exercis': 2785, 'cruis': 2786, 'choreograph': 2787, 'basement': 2788, 'boll': 2789, 'pig': 2790, 'phillip': 2791, 'muppet': 2792, 'layer': 2793, 'scarecrow': 2794, 'ham': 2795, '24': 2796, 'fianc': 2797, 'slip': 2798, 'puzzl': 2799, 'tower': 2800, 'korean': 2801, 'medium': 2802, 'stan': 2803, 'toilet': 2804, 'document': 2805, 'item': 2806, 'editor': 2807, 'file': 2808, 'ward': 2809, 'babe': 2810, 'spark': 2811, 'inexplic': 2812, 'doc': 2813, 'librari': 2814, 'larger': 2815, 'slaughter': 2816, 'orient': 2817, 'catherin': 2818, 'glover': 2819, 'denzel': 2820, 'minim': 2821, 'superfici': 2822, 'persona': 2823, 'portion': 2824, 'philosoph': 2825, 'assur': 2826, 'territori': 2827, 'transit': 2828, 'walken': 2829, 'dorothi': 2830, 'jet': 2831, 'jeremi': 2832, 'pg': 2833, 'ban': 2834, 'sneak': 2835, 'owe': 2836, 'curti': 2837, 'boredom': 2838, 'wolf': 2839, 'financi': 2840, 'shi': 2841, 'hudson': 2842, 'whale': 2843, 'eleph': 2844, 'multi': 2845, 'profound': 2846, 'ambigu': 2847, 'cusack': 2848, 'backdrop': 2849, 'metaphor': 2850, 'hack': 2851, 'union': 2852, 'birthday': 2853, 'ultra': 2854, 'elsewher': 2855, 'notion': 2856, 'stiff': 2857, 'viru': 2858, 'gadget': 2859, 'implaus': 2860, '2005': 2861, 'rave': 2862, 'newspap': 2863, 'deriv': 2864, 'squar': 2865, 'lloyd': 2866, 'distanc': 2867, 'eastwood': 2868, 'slight': 2869, 'afford': 2870, 'superhero': 2871, 'hawk': 2872, 'urg': 2873, 'disc': 2874, 'reader': 2875, 'poison': 2876, 'pad': 2877, 'bibl': 2878, 'canada': 2879, 'eva': 2880, '1st': 2881, 'charisma': 2882, 'health': 2883, 'spread': 2884, 'sadist': 2885, 'cure': 2886, 'drown': 2887, 'restaur': 2888, 'heston': 2889, 'skit': 2890, 'montag': 2891, 'huh': 2892, 'button': 2893, 'essenc': 2894, 'peak': 2895, 'dealt': 2896, 'fetch': 2897, 'lab': 2898, 'companion': 2899, 'gradual': 2900, 'estat': 2901, 'invest': 2902, 'scoobi': 2903, 'maniac': 2904, 'godfath': 2905, 'muslim': 2906, 'tea': 2907, 'countless': 2908, 'alli': 2909, 'kane': 2910, 'gothic': 2911, 'servant': 2912, 'miik': 2913, 'ritter': 2914, 'subtleti': 2915, 'cup': 2916, 'charismat': 2917, 'elect': 2918, 'iii': 2919, 'briefli': 2920, 'electr': 2921, 'heroic': 2922, 'salli': 2923, 'neil': 2924, 'toss': 2925, 'ingredi': 2926, 'tender': 2927, 'admittedli': 2928, 'resourc': 2929, 'grandmoth': 2930, 'cole': 2931, 'wannab': 2932, 'reel': 2933, 'nuanc': 2934, 'bud': 2935, 'punk': 2936, 'stronger': 2937, 'stood': 2938, 'shall': 2939, 'pit': 2940, 'mafia': 2941, 'label': 2942, 'carrey': 2943, 'kubrick': 2944, 'poverti': 2945, 'mild': 2946, 'dawson': 2947, 'reev': 2948, 'gate': 2949, 'pauli': 2950, 'easier': 2951, 'fond': 2952, 'tag': 2953, 'burst': 2954, 'assault': 2955, 'smooth': 2956, 'outcom': 2957, 'bakshi': 2958, 'ian': 2959, 'astair': 2960, 'terri': 2961, 'updat': 2962, 'smash': 2963, 'cardboard': 2964, 'useless': 2965, 'cox': 2966, 'rex': 2967, 'increasingli': 2968, '2002': 2969, 'divers': 2970, 'qualifi': 2971, 'resolv': 2972, 'samurai': 2973, 'exchang': 2974, 'fist': 2975, 'vari': 2976, 'melodramat': 2977, 'vulner': 2978, 'sketch': 2979, 'coincid': 2980, 'templ': 2981, 'insert': 2982, 'tame': 2983, 'luckili': 2984, 'conveni': 2985, 'brillianc': 2986, 'blast': 2987, 'scratch': 2988, 'suspend': 2989, 'reynold': 2990, 'be': 2991, 'walker': 2992, 'jami': 2993, 'hamilton': 2994, 'meat': 2995, 'coach': 2996, 'fisher': 2997, 'nuclear': 2998, 'pin': 2999, 'farm': 3000, 'ambiti': 3001, 'soprano': 3002, 'strictli': 3003, 'matthew': 3004, 'gotta': 3005, 'seventi': 3006, 'spooki': 3007, 'clock': 3008, 'worthless': 3009, 'recreat': 3010, 'struck': 3011, 'discoveri': 3012, 'timeless': 3013, 'closet': 3014, 'grasp': 3015, 'convolut': 3016, 'instantli': 3017, 'cave': 3018, 'monk': 3019, 'eccentr': 3020, 'kudo': 3021, 'empir': 3022, 'butcher': 3023, 'ninja': 3024, 'joey': 3025, 'revers': 3026, 'brosnan': 3027, 'clown': 3028, 'seller': 3029, 'communist': 3030, 'partli': 3031, 'sloppi': 3032, 'selfish': 3033, 'norman': 3034, 'fifteen': 3035, 'pal': 3036, 'mitchel': 3037, 'inconsist': 3038, 'importantli': 3039, 'cliff': 3040, 'evok': 3041, 'sidekick': 3042, 'wipe': 3043, 'eighti': 3044, 'bleak': 3045, 'miracl': 3046, 'declar': 3047, 'gray': 3048, 'chew': 3049, 'destin': 3050, 'aforement': 3051, 'flawless': 3052, 'psychiatrist': 3053, 'lifestyl': 3054, 'seed': 3055, 'piano': 3056, 'enthusiast': 3057, 'ho': 3058, 'debat': 3059, 'farc': 3060, 'australia': 3061, '45': 3062, 'superbl': 3063, 'websit': 3064, 'cheek': 3065, 'stoog': 3066, 'wrestl': 3067, 'directori': 3068, 'incompet': 3069, 'anni': 3070, 'wick': 3071, 'dire': 3072, 'slice': 3073, 'pressur': 3074, 'bash': 3075, 'regardless': 3076, 'drivel': 3077, 'kitchen': 3078, 'emili': 3079, 'splatter': 3080, 'soviet': 3081, 'dash': 3082, 'akshay': 3083, 'abc': 3084, 'prize': 3085, 'helicopt': 3086, 'recov': 3087, 'pleasantli': 3088, 'dave': 3089, 'boil': 3090, 'cameron': 3091, 'seduc': 3092, 'jar': 3093, 'flower': 3094, 'distant': 3095, 'increas': 3096, 'lou': 3097, 'judi': 3098, 'cia': 3099, 'glow': 3100, 'artifici': 3101, 'doo': 3102, 'blob': 3103, 'cagney': 3104, 'duo': 3105, 'curios': 3106, 'ken': 3107, 'mann': 3108, 'beaten': 3109, 'suppli': 3110, 'chapter': 3111, 'ellen': 3112, 'turner': 3113, 'francisco': 3114, 'eleg': 3115, 'craig': 3116, 'glenn': 3117, 'ranger': 3118, 'panic': 3119, 'web': 3120, 'favour': 3121, 'craven': 3122, 'hop': 3123, 'laurel': 3124, 'psychot': 3125, 'goldberg': 3126, 'drunken': 3127, 'combat': 3128, 'perri': 3129, 'splendid': 3130, 'fx': 3131, 'flip': 3132, 'plausibl': 3133, 'rid': 3134, 'gentl': 3135, 'min': 3136, 'ruth': 3137, 'philosophi': 3138, 'hatr': 3139, 'slightest': 3140, 'shortli': 3141, 'modesti': 3142, 'wizard': 3143, '20th': 3144, 'alexand': 3145, 'graduat': 3146, 'gandhi': 3147, 'falk': 3148, 'greek': 3149, 'we': 3150, 'holi': 3151, 'fund': 3152, 'dracula': 3153, 'lend': 3154, 'unpleas': 3155, 'futurist': 3156, 'legal': 3157, 'jealou': 3158, 'tall': 3159, 'manhattan': 3160, 'ocean': 3161, 'felix': 3162, 'preciou': 3163, 'knight': 3164, 'harm': 3165, 'ami': 3166, 'overdon': 3167, 'digniti': 3168, 'forbidden': 3169, 'bless': 3170, 'childish': 3171, 'giallo': 3172, 'mock': 3173, 'tank': 3174, 'explicit': 3175, 'scientif': 3176, 'nod': 3177, 'thread': 3178, 'reviv': 3179, 'awe': 3180, '99': 3181, 'repeatedli': 3182, 'unwatch': 3183, 'nerv': 3184, 'awaken': 3185, 'margaret': 3186, 'torment': 3187, '2004': 3188, 'eve': 3189, 'elderli': 3190, 'thick': 3191, 'broad': 3192, 'fever': 3193, 'yesterday': 3194, 'pirat': 3195, 'verhoeven': 3196, 'mel': 3197, 'stiller': 3198, 'bin': 3199, 'launch': 3200, 'rivet': 3201, 'politician': 3202, 'eas': 3203, 'custom': 3204, 'automat': 3205, 'acclaim': 3206, 'timothi': 3207, 'absenc': 3208, 'roman': 3209, 'royal': 3210, 'kay': 3211, 'uniform': 3212, 'ah': 3213, 'publish': 3214, 'ambit': 3215, 'griffith': 3216, 'lean': 3217, 'romero': 3218, 'foul': 3219, 'pierc': 3220, 'termin': 3221, 'stinker': 3222, 'crook': 3223, 'gabriel': 3224, 'purpl': 3225, 'antic': 3226, 'bathroom': 3227, 'sunshin': 3228, 'pulp': 3229, 'darker': 3230, 'warren': 3231, 'tomato': 3232, 'wallac': 3233, 'transport': 3234, 'phrase': 3235, 'homicid': 3236, 'pray': 3237, 'packag': 3238, 'sixti': 3239, 'awak': 3240, 'revolutionari': 3241, 'juvenil': 3242, 'karen': 3243, 'viciou': 3244, 'kenneth': 3245, 'choreographi': 3246, 'evolv': 3247, 'marin': 3248, 'brazil': 3249, 'q': 3250, 'horrid': 3251, 'album': 3252, '2003': 3253, 'coloni': 3254, 'contrari': 3255, 'li': 3256, 'prom': 3257, 'hollow': 3258, 'rambo': 3259, 'eyr': 3260, 'saint': 3261, 'ought': 3262, 'donna': 3263, 'stole': 3264, 'ramon': 3265, 'option': 3266, 'defi': 3267, 'nerd': 3268, 'blade': 3269, 'overr': 3270, 'twelv': 3271, 'beatti': 3272, 'dose': 3273, 'boast': 3274, 'kapoor': 3275, 'candid': 3276, 'ireland': 3277, 'mildr': 3278, 'mummi': 3279, 'conserv': 3280, 'global': 3281, 'protest': 3282, 'funer': 3283, 'fulci': 3284, 'astonish': 3285, 'collabor': 3286, 'natali': 3287, 'flame': 3288, 'kirk': 3289, 'detract': 3290, 'confirm': 3291, 'trio': 3292, 'altman': 3293, 'jazz': 3294, 'mystic': 3295, 'bull': 3296, 'blake': 3297, 'bottl': 3298, 'shade': 3299, 'nicholson': 3300, 'yellow': 3301, 'tommi': 3302, 'leap': 3303, 'spit': 3304, 'whip': 3305, 'audio': 3306, 'racial': 3307, 'enterpris': 3308, 'delici': 3309, 'destini': 3310, 'staff': 3311, 'neo': 3312, 'vivid': 3313, 'threw': 3314, 'meaningless': 3315, 'enchant': 3316, 'todd': 3317, 'swedish': 3318, 'bedroom': 3319, 'visibl': 3320, 'reunit': 3321, 'popcorn': 3322, 'inherit': 3323, 'fonda': 3324, 'adolesc': 3325, 'pseudo': 3326, 'merci': 3327, 'harder': 3328, 'altogeth': 3329, 'uneven': 3330, 'crocodil': 3331, 'kennedi': 3332, 'leonard': 3333, 'wire': 3334, 'jew': 3335, 'respond': 3336, 'lawrenc': 3337, 'ruthless': 3338, 'bust': 3339, 'suspici': 3340, 'befriend': 3341, 'exhibit': 3342, 'reserv': 3343, 'await': 3344, 'synopsi': 3345, 'lemmon': 3346, 'fanat': 3347, 'tip': 3348, 'madonna': 3349, 'roommat': 3350, 'decor': 3351, 'moodi': 3352, 'voight': 3353, 'edi': 3354, 'atlanti': 3355, 'ventur': 3356, 'voyag': 3357, 'bradi': 3358, 'bargain': 3359, 'garner': 3360, 'incident': 3361, 'bold': 3362, 'holli': 3363, 'clumsi': 3364, 'chao': 3365, 'centr': 3366, 'rural': 3367, 'carl': 3368, 'clint': 3369, '2007': 3370, 'abysm': 3371, 'unsettl': 3372, 'dimens': 3373, 'audit': 3374, 'palma': 3375, 'neglect': 3376, 'acknowledg': 3377, 'daddi': 3378, '2nd': 3379, 'cari': 3380, 'hart': 3381, 'lit': 3382, 'poetic': 3383, 'tiger': 3384, 'wealth': 3385, 'timon': 3386, 'imperson': 3387, 'echo': 3388, 'elimin': 3389, 'humili': 3390, 'trail': 3391, 'cd': 3392, 'characterist': 3393, 'nearbi': 3394, 'immigr': 3395, 'troop': 3396, 'cuba': 3397, 'versu': 3398, 'ant': 3399, 'mall': 3400, 'infect': 3401, 'repuls': 3402, 'paus': 3403, 'solo': 3404, 'mistaken': 3405, 'jeffrey': 3406, 'celluloid': 3407, 'marshal': 3408, 'saga': 3409, 'prejudic': 3410, 'collaps': 3411, 'pun': 3412, 'mickey': 3413, 'domest': 3414, 'homer': 3415, 'tribe': 3416, 'undoubtedli': 3417, 'ginger': 3418, 'pant': 3419, 'milk': 3420, '1996': 3421, 'hbo': 3422, 'sore': 3423, 'apolog': 3424, 'inan': 3425, 'leon': 3426, 'chest': 3427, 'coffe': 3428, 'assembl': 3429, 'harvey': 3430, 'coat': 3431, 'inappropri': 3432, 'interrupt': 3433, 'olivi': 3434, 'cake': 3435, 'gear': 3436, 'equip': 3437, 'promin': 3438, 'solut': 3439, 'airplan': 3440, 'maggi': 3441, 'vulgar': 3442, 'highest': 3443, 'pot': 3444, 'furthermor': 3445, 'humbl': 3446, 'trace': 3447, 'aveng': 3448, 'retain': 3449, 'colleagu': 3450, 'instant': 3451, 'consum': 3452, 'brooklyn': 3453, 'primari': 3454, 'institut': 3455, 'florida': 3456, 'exot': 3457, 'devast': 3458, 'colonel': 3459, 'polanski': 3460, 'jenni': 3461, 'pen': 3462, 'embrac': 3463, '1999': 3464, 'illog': 3465, 'poke': 3466, 'outer': 3467, 'descend': 3468, 'gender': 3469, 'disabl': 3470, 'cope': 3471, 'dian': 3472, 'seduct': 3473, 'smaller': 3474, 'sale': 3475, 'godzilla': 3476, '3rd': 3477, 'bowl': 3478, 'rick': 3479, 'strain': 3480, 'linda': 3481, 'principl': 3482, 'dutch': 3483, 'wive': 3484, 'ya': 3485, 'lol': 3486, 'blatant': 3487, 'vast': 3488, 'yard': 3489, 'cue': 3490, 'beneath': 3491, 'gloriou': 3492, 'scope': 3493, 'rabbit': 3494, 'inferior': 3495, 'glamor': 3496, 'secondli': 3497, 'dud': 3498, 'devoid': 3499, 'bubbl': 3500, 'predecessor': 3501, 'primarili': 3502, 'mixtur': 3503, 'hal': 3504, 'dive': 3505, 'gundam': 3506, 'shelf': 3507, 'hideou': 3508, 'senseless': 3509, 'trademark': 3510, 'streep': 3511, 'simplist': 3512, 'invas': 3513, 'et': 3514, 'aggress': 3515, 'countrysid': 3516, 'museum': 3517, 'domino': 3518, 'casual': 3519, 'shirley': 3520, 'april': 3521, 'breed': 3522, 'alert': 3523, 'alfr': 3524, 'arab': 3525, 'myer': 3526, 'z': 3527, 'talki': 3528, 'disjoint': 3529, 'garbo': 3530, 'grinch': 3531, 'pearl': 3532, 'sh': 3533, 'stack': 3534, 'obtain': 3535, 'boom': 3536, 'robberi': 3537, 'illeg': 3538, 'vanish': 3539, 'loyal': 3540, 'hopeless': 3541, 'hardcor': 3542, 'unhappi': 3543, 'acid': 3544, 'uwe': 3545, 'disgrac': 3546, 'applaud': 3547, 'stellar': 3548, 'mail': 3549, 'experiment': 3550, 'rendit': 3551, 'mayor': 3552, 'robinson': 3553, 'stir': 3554, 'khan': 3555, 'slide': 3556, 'oz': 3557, 'maci': 3558, 'defens': 3559, 'tempt': 3560, 'declin': 3561, 'recruit': 3562, 'amanda': 3563, 'grandfath': 3564, 'wont': 3565, 'topless': 3566, 'emphasi': 3567, 'berlin': 3568, 'diana': 3569, 'counter': 3570, 'craze': 3571, 'dismiss': 3572, 'span': 3573, 'soccer': 3574, 'rifl': 3575, 'fri': 3576, 'incomprehens': 3577, 'psychic': 3578, 'blew': 3579, 'tenant': 3580, 'spider': 3581, 'dicken': 3582, 'scroog': 3583, 'hartley': 3584, 'trashi': 3585, 'riot': 3586, 'porno': 3587, 'wet': 3588, 'intim': 3589, 'ethnic': 3590, 'parad': 3591, 'justin': 3592, 'revolt': 3593, 'woo': 3594, 'resurrect': 3595, 'faster': 3596, 'sibl': 3597, 'ration': 3598, 'goer': 3599, 'bitch': 3600, 'sympath': 3601, 'shaw': 3602, 'niro': 3603, 'lumet': 3604, 'shed': 3605, 'honesti': 3606, '00': 3607, 'rider': 3608, 'worm': 3609, 'ensur': 3610, 'biographi': 3611, 'lena': 3612, 'feminist': 3613, 'unreal': 3614, 'eager': 3615, 'slick': 3616, 'wheel': 3617, 'partial': 3618, 'dealer': 3619, 'jonathan': 3620, 'gap': 3621, 'region': 3622, 'hesit': 3623, 'weakest': 3624, 'commend': 3625, 'ballet': 3626, 'immort': 3627, 'andr': 3628, 'enlighten': 3629, 'patriot': 3630, 'steam': 3631, 'choru': 3632, 'mario': 3633, 'hopper': 3634, 'nephew': 3635, 'farmer': 3636, 'wendi': 3637, 'charlott': 3638, 'wore': 3639, 'psychopath': 3640, 'confin': 3641, 'franco': 3642, 'morri': 3643, 'kingdom': 3644, 'hung': 3645, 'properti': 3646, 'repress': 3647, 'nostalg': 3648, 'similarli': 3649, 'util': 3650, 'macarthur': 3651, 'vice': 3652, 'sandra': 3653, 'mutant': 3654, 'snap': 3655, 'skull': 3656, 'leo': 3657, 'sappi': 3658, 'prequel': 3659, 'blunt': 3660, 'safeti': 3661, 'victori': 3662, 'composit': 3663, 'owen': 3664, 'acquir': 3665, 'speci': 3666, 'strand': 3667, 'nervou': 3668, 'campbel': 3669, 'compens': 3670, 'rocki': 3671, 'miseri': 3672, 'cg': 3673, 'drum': 3674, 'farrel': 3675, 'deed': 3676, 'dalton': 3677, 'despair': 3678, 'drain': 3679, 'tail': 3680, 'tad': 3681, 'pattern': 3682, 'bergman': 3683, 'hyde': 3684, 'repli': 3685, 'heartbreak': 3686, '1972': 3687, 'bow': 3688, 'bonu': 3689, 'rope': 3690, 'latin': 3691, 'whoopi': 3692, 'snl': 3693, 'bumbl': 3694, 'rambl': 3695, 'valuabl': 3696, 'del': 3697, 'kyle': 3698, 'exit': 3699, 'thru': 3700, 'dust': 3701, 'recycl': 3702, 'compass': 3703, 'montana': 3704, 'emperor': 3705, 'pour': 3706, 'contempl': 3707, 'gimmick': 3708, 'radic': 3709, 'gal': 3710, 'da': 3711, 'tonight': 3712, 'percept': 3713, 'orson': 3714, 'airport': 3715, 'olli': 3716, 'carradin': 3717, 'rotten': 3718, 'mistress': 3719, 'oppress': 3720, 'bleed': 3721, 'slug': 3722, 'romp': 3723, '35': 3724, 'roth': 3725, 'wacki': 3726, 'martian': 3727, 'rapist': 3728, 'downhil': 3729, 'chess': 3730, 'unpredict': 3731, 'stilt': 3732, 'dazzl': 3733, 'edgar': 3734, 'pervers': 3735, 'arguabl': 3736, 'champion': 3737, 'taught': 3738, 'attorney': 3739, 'banal': 3740, 'paltrow': 3741, 'preach': 3742, 'shelley': 3743, 'pursuit': 3744, 'belt': 3745, 'mislead': 3746, 'pervert': 3747, 'programm': 3748, '1983': 3749, 'tackl': 3750, 'arc': 3751, 'tooth': 3752, 'melodi': 3753, 'slash': 3754, 'heal': 3755, 'closest': 3756, 'mesmer': 3757, 'uplift': 3758, 'passeng': 3759, 'sensat': 3760, 'poem': 3761, 'duval': 3762, 'raymond': 3763, 'maid': 3764, 'employe': 3765, 'tiresom': 3766, 'franki': 3767, 'bela': 3768, 'plight': 3769, 'vocal': 3770, 'chicken': 3771, 'conneri': 3772, 'rubi': 3773, 'marti': 3774, 'graham': 3775, 'gambl': 3776, 'virginia': 3777, 'orang': 3778, 'vengeanc': 3779, 'dixon': 3780, 'cleverli': 3781, 'sirk': 3782, 'calm': 3783, 'habit': 3784, 'inject': 3785, 'yawn': 3786, 'tube': 3787, 'volum': 3788, 'bay': 3789, 'engross': 3790, 'mute': 3791, 'monologu': 3792, 'convincingli': 3793, 'outing': 3794, 'whine': 3795, '1968': 3796, 'clone': 3797, 'climact': 3798, 'numb': 3799, 'suffic': 3800, 'swallow': 3801, 'scottish': 3802, 'extens': 3803, 'paranoia': 3804, 'gerard': 3805, 'amitabh': 3806, 'crystal': 3807, 'quarter': 3808, 'giggl': 3809, 'secretli': 3810, 'iran': 3811, 'abraham': 3812, 'profan': 3813, 'lundgren': 3814, 'pokemon': 3815, 'im': 3816, 'earl': 3817, 'underst': 3818, 'junior': 3819, 'meander': 3820, 'fed': 3821, 'franci': 3822, 'profess': 3823, 'surpass': 3824, 'expand': 3825, 'taxi': 3826, 'backward': 3827, 'austen': 3828, 'bend': 3829, 'richardson': 3830, 'linger': 3831, 'grotesqu': 3832, 'plod': 3833, 'lowest': 3834, 'dispos': 3835, 'trend': 3836, 'poetri': 3837, 'frankenstein': 3838, 'abort': 3839, 'nichola': 3840, 'chicago': 3841, 'septemb': 3842, 'ethan': 3843, 'spock': 3844, 'cannon': 3845, 'greedi': 3846, 'household': 3847, 'stallon': 3848, 'rubber': 3849, 'simplic': 3850, 'lure': 3851, 'tourist': 3852, 'descent': 3853, 'instrument': 3854, 'sue': 3855, 'econom': 3856, 'nostalgia': 3857, 'compliment': 3858, 'literatur': 3859, 'mundan': 3860, 'waitress': 3861, 'eugen': 3862, 'hum': 3863, 'rant': 3864, 'muddl': 3865, 'catchi': 3866, 'dysfunct': 3867, 'myth': 3868, 'spoke': 3869, 'der': 3870, 'phoni': 3871, 'eaten': 3872, 'hello': 3873, 'louis': 3874, 'molli': 3875, 'irrelev': 3876, 'coast': 3877, 'occupi': 3878, 'mortal': 3879, 'flee': 3880, 'cent': 3881, 'duck': 3882, 'insur': 3883, 'mankind': 3884, 'lang': 3885, 'damon': 3886, 'dement': 3887, 'deaf': 3888, 'map': 3889, 'alongsid': 3890, 'crucial': 3891, 'stale': 3892, 'randi': 3893, 'recognis': 3894, 'furi': 3895, 'equival': 3896, 'june': 3897, 'bacal': 3898, 'phantom': 3899, 'recognit': 3900, 'dictat': 3901, 'firstli': 3902, 'carel': 3903, 'omen': 3904, 'sissi': 3905, 'ashley': 3906, 'bike': 3907, 'blackmail': 3908, 'loyalti': 3909, 'distinguish': 3910, 'freez': 3911, 'buffalo': 3912, 'antwon': 3913, 'likewis': 3914, 'heel': 3915, 'reign': 3916, 'labor': 3917, 'bump': 3918, 'drake': 3919, 'wisdom': 3920, 'dreari': 3921, 'onlin': 3922, 'cyborg': 3923, 'rooney': 3924, 'biko': 3925, 'daisi': 3926, 'newli': 3927, 'lengthi': 3928, 'rude': 3929, 'damm': 3930, '1973': 3931, 'twilight': 3932, 'grayson': 3933, 'chronicl': 3934, 'prey': 3935, 'exposur': 3936, 'worn': 3937, 'interior': 3938, 'nineti': 3939, 'tunnel': 3940, 'basketbal': 3941, 'barrymor': 3942, 'boxer': 3943, 'sailor': 3944, 'provoc': 3945, 'incorpor': 3946, 'startl': 3947, 'ridden': 3948, 'analysi': 3949, 'approv': 3950, 'baddi': 3951, 'pink': 3952, 'unorigin': 3953, 'keith': 3954, 'butler': 3955, 'inher': 3956, 'attribut': 3957, 'vein': 3958, 'proce': 3959, 'emphas': 3960, 'julian': 3961, 'millionair': 3962, 'nicol': 3963, 'barrel': 3964, 'underli': 3965, 'undeni': 3966, 'walsh': 3967, 'predat': 3968, 'degrad': 3969, 'fleet': 3970, 'condemn': 3971, 'er': 3972, 'mighti': 3973, 'substitut': 3974, 'unrel': 3975, 'drift': 3976, 'belushi': 3977, 'improvis': 3978, 'simmon': 3979, 'meg': 3980, 'stalker': 3981, 'robbin': 3982, 'elm': 3983, 'bunni': 3984, 'indiffer': 3985, 'hypnot': 3986, 'othello': 3987, 'mormon': 3988, 'meyer': 3989, 'carla': 3990, 'priceless': 3991, 'shove': 3992, 'roof': 3993, 'edgi': 3994, 'errol': 3995, 'marion': 3996, 'palac': 3997, 'alarm': 3998, 'firm': 3999, 'warmth': 4000, 'enthusiasm': 4001, 'mtv': 4002, 'rukh': 4003, 'alison': 4004, 'novak': 4005, 'reid': 4006, 'watson': 4007, 'agenda': 4008, 'disord': 4009, 'vital': 4010, 'exquisit': 4011, 'hay': 4012, 'unawar': 4013, 'lampoon': 4014, 'dolph': 4015, 'greed': 4016, 'nyc': 4017, '3d': 4018, 'cassidi': 4019, 'orlean': 4020, 'minimum': 4021, 'ponder': 4022, 'spain': 4023, 'petti': 4024, 'drip': 4025, 'championship': 4026, 'session': 4027, 'israel': 4028, 'pamela': 4029, 'testament': 4030, '1933': 4031, 'campaign': 4032, 'glanc': 4033, 'eastern': 4034, 'profit': 4035, 'unleash': 4036, 'simultan': 4037, 'randomli': 4038, 'angela': 4039, '13th': 4040, 'coup': 4041, 'thompson': 4042, 'beatl': 4043, 'nun': 4044, 'peril': 4045, 'preserv': 4046, 'showdown': 4047, 'peck': 4048, 'sergeant': 4049, 'crown': 4050, 'gestur': 4051, 'valentin': 4052, 'iraq': 4053, 'distort': 4054, 'what': 4055, 'zizek': 4056, 'quinn': 4057, 'cooki': 4058, 'stroke': 4059, 'wig': 4060, 'valley': 4061, 'reson': 4062, 'sabrina': 4063, 'calib': 4064, 'crawl': 4065, 'gentleman': 4066, 'exposit': 4067, 'bro': 4068, 'perpetu': 4069, 'contradict': 4070, 'crow': 4071, 'stake': 4072, 'cream': 4073, 'empathi': 4074, 'mon': 4075, 'travesti': 4076, 'scotland': 4077, 'buster': 4078, 'realm': 4079, 'kurosawa': 4080, 'shootout': 4081, 'represent': 4082, '1984': 4083, 'restrain': 4084, 'din': 4085, 'han': 4086, 'regist': 4087, 'rout': 4088, 'miyazaki': 4089, 'jan': 4090, 'unimagin': 4091, 'brenda': 4092, 'climat': 4093, 'fido': 4094, 'greg': 4095, '1987': 4096, 'josh': 4097, 'traumat': 4098, 'unseen': 4099, 'shaki': 4100, 'warrant': 4101, 'demis': 4102, 'cloud': 4103, 'passabl': 4104, 'compromis': 4105, 'censor': 4106, 'ross': 4107, 'meryl': 4108, '1997': 4109, 'spacey': 4110, 'painter': 4111, 'delic': 4112, 'shoddi': 4113, 'distress': 4114, 'wax': 4115, 'businessman': 4116, 'sucker': 4117, 'abomin': 4118, 'monoton': 4119, 'mclaglen': 4120, 'ustinov': 4121, 'dana': 4122, 'tacki': 4123, 'absent': 4124, 'baldwin': 4125, 'unsatisfi': 4126, 'derang': 4127, 'soderbergh': 4128, 'pretens': 4129, 'crawford': 4130, 'geek': 4131, 'femm': 4132, 'sammi': 4133, 'perceiv': 4134, 'pole': 4135, 'fuller': 4136, 'stargat': 4137, 'darren': 4138, 'tech': 4139, 'judgment': 4140, 'fog': 4141, 'fenc': 4142, 'deceas': 4143, 'expedit': 4144, 'tarantino': 4145, 'dee': 4146, 'clash': 4147, 'norm': 4148, 'wholli': 4149, 'verbal': 4150, 'reluct': 4151, 'exclus': 4152, 'valid': 4153, 'jewel': 4154, '1993': 4155, 'anchor': 4156, 'correctli': 4157, 'uncov': 4158, 'primit': 4159, 'polici': 4160, 'sid': 4161, 'unravel': 4162, 'accuraci': 4163, 'click': 4164, 'seal': 4165, 'nathan': 4166, 'furiou': 4167, 'kumar': 4168, 'deniro': 4169, 'austin': 4170, 'antonioni': 4171, 'malon': 4172, '1971': 4173, 'sustain': 4174, 'behold': 4175, 'fart': 4176, 'sunni': 4177, 'darn': 4178, 'joel': 4179, 'debt': 4180, 'pocket': 4181, 'conduct': 4182, 'patienc': 4183, 'temper': 4184, '2008': 4185, 'sand': 4186, 'shanghai': 4187, 'crippl': 4188, 'fabric': 4189, 'trait': 4190, 'mode': 4191, 'enforc': 4192, 'vanc': 4193, '1995': 4194, 'hallucin': 4195, 'nicola': 4196, 'sheet': 4197, 'slam': 4198, 'wang': 4199, 'ritual': 4200, 'unfair': 4201, 'wretch': 4202, '3000': 4203, 'fought': 4204, 'tax': 4205, 'alec': 4206, 'seldom': 4207, 'logan': 4208, 'murray': 4209, 'roller': 4210, 'clerk': 4211, 'bake': 4212, 'dreck': 4213, 'preston': 4214, 'outlin': 4215, 'helpless': 4216, 'grief': 4217, 'bias': 4218, 'conscious': 4219, 'shell': 4220, 'squad': 4221, 'runner': 4222, 'technicolor': 4223, 'isabel': 4224, 'rita': 4225, 'exhaust': 4226, 'guitar': 4227, 'soup': 4228, 'penni': 4229, 'sweep': 4230, 'bridget': 4231, 'scriptwrit': 4232, 'canyon': 4233, 'pete': 4234, 'schedul': 4235, 'stark': 4236, 'fundament': 4237, 'preposter': 4238, 'despis': 4239, 'stuart': 4240, 'robber': 4241, 'clau': 4242, 'phil': 4243, 'tactic': 4244, 'critiqu': 4245, 'legaci': 4246, 'divid': 4247, 'boyl': 4248, 'palanc': 4249, 'consciou': 4250, 'inabl': 4251, 'flair': 4252, 'liberti': 4253, 'cigarett': 4254, 'marc': 4255, 'agenc': 4256, 'propos': 4257, 'bloom': 4258, 'sniper': 4259, 'restrict': 4260, 'alicia': 4261, 'russia': 4262, 'alley': 4263, 'invad': 4264, 'unexpectedli': 4265, 'rear': 4266, 'drove': 4267, 'passag': 4268, 'downey': 4269, 'rehash': 4270, 'gregori': 4271, 'delv': 4272, 'sugar': 4273, 'jacket': 4274, 'culmin': 4275, 'kansa': 4276, 'vomit': 4277, 'lacklust': 4278, 'implic': 4279, 'connor': 4280, 'newman': 4281, 'sentinel': 4282, 'jodi': 4283, 'horn': 4284, 'asylum': 4285, 'rod': 4286, 'aesthet': 4287, 'tendenc': 4288, 'rehears': 4289, '1936': 4290, 'delet': 4291, 'tripe': 4292, 'chainsaw': 4293, 'awhil': 4294, 'improb': 4295, 'rampag': 4296, 'bacon': 4297, 'foxx': 4298, 'cap': 4299, '22': 4300, 'ladder': 4301, 'vet': 4302, 'feat': 4303, 'behaviour': 4304, 'arrow': 4305, 'karl': 4306, 'sharon': 4307, 'pale': 4308, 'lush': 4309, 'wrench': 4310, 'mccoy': 4311, 'yeti': 4312, 'kolchak': 4313, 'suffici': 4314, 'loneli': 4315, 'el': 4316, 'aristocrat': 4317, 'paramount': 4318, 'conscienc': 4319, '19th': 4320, 'rhythm': 4321, 'paradis': 4322, 'financ': 4323, 'minu': 4324, 'elit': 4325, 'sung': 4326, 'filler': 4327, '1988': 4328, '1920': 4329, 'hulk': 4330, 'newcom': 4331, 'suspicion': 4332, 'tasteless': 4333, 'prank': 4334, 'spice': 4335, 'underneath': 4336, 'lurk': 4337, 'scoop': 4338, '1978': 4339, 'amazon': 4340, 'stream': 4341, 'basing': 4342, 'shortcom': 4343, 'rumor': 4344, 'thunderbird': 4345, 'weav': 4346, 'wildli': 4347, 'fright': 4348, 'coaster': 4349, 'hungri': 4350, 'globe': 4351, 'visitor': 4352, 'tomorrow': 4353, 'wagner': 4354, 'hackney': 4355, '75': 4356, '1989': 4357, 'heist': 4358, 'minist': 4359, 'penn': 4360, 'recogniz': 4361, 'rub': 4362, 'entranc': 4363, 'lectur': 4364, 'springer': 4365, 'impos': 4366, 'secondari': 4367, 'couch': 4368, 'abrupt': 4369, 'en': 4370, 'grudg': 4371, 'chamberlain': 4372, 'worship': 4373, 'chavez': 4374, 'naughti': 4375, 'standout': 4376, 'teas': 4377, 'quietli': 4378, 'cancer': 4379, 'dirt': 4380, 'counterpart': 4381, 'choppi': 4382, 'ram': 4383, '1939': 4384, 'leigh': 4385, 'curli': 4386, 'tierney': 4387, 'straightforward': 4388, 'brit': 4389, 'literari': 4390, 'wwe': 4391, 'smell': 4392, 'immers': 4393, 'beverli': 4394, 'hopkin': 4395, 'inmat': 4396, 'atroc': 4397, 'paxton': 4398, 'ingeni': 4399, 'iv': 4400, 'bread': 4401, 'posey': 4402, 'net': 4403, 'nolan': 4404, 'transcend': 4405, 'policeman': 4406, 'moreov': 4407, 'enthral': 4408, 'quaid': 4409, 'yearn': 4410, '1986': 4411, 'injuri': 4412, 'skeptic': 4413, 'missil': 4414, 'morbid': 4415, 'misguid': 4416, 'nemesi': 4417, 'entitl': 4418, 'duel': 4419, 'sassi': 4420, 'sublim': 4421, 'variat': 4422, 'bernard': 4423, 'ace': 4424, 'attenborough': 4425, 'convert': 4426, 'watcher': 4427, 'lindsay': 4428, 'geni': 4429, 'cattl': 4430, 'laurenc': 4431, 'clan': 4432, 'ratso': 4433, 'esther': 4434, 'heartfelt': 4435, 'hopelessli': 4436, 'dont': 4437, 'reliabl': 4438, 'uncut': 4439, 'spiral': 4440, 'cruelti': 4441, 'bye': 4442, 'artsi': 4443, 'poe': 4444, 'enabl': 4445, 'puppi': 4446, 'rosemari': 4447, 'brood': 4448, 'characteris': 4449, 'egg': 4450, 'unexplain': 4451, 'kidman': 4452, 'hk': 4453, 'steadi': 4454, 'obstacl': 4455, 'kitti': 4456, '1979': 4457, 'diari': 4458, 'facil': 4459, 'youngest': 4460, 'bean': 4461, 'mytholog': 4462, 'buzz': 4463, 'moder': 4464, 'out': 4465, 'setup': 4466, 'vader': 4467, 'graini': 4468, 'grin': 4469, 'tyler': 4470, 'carlito': 4471, 'underworld': 4472, 'sweat': 4473, 'acquaint': 4474, 'clueless': 4475, 'disastr': 4476, 'exterior': 4477, 'effici': 4478, 'heap': 4479, 'weather': 4480, 'athlet': 4481, 'christin': 4482, 'fuel': 4483, 'hain': 4484, 'niec': 4485, 'hammi': 4486, 'decept': 4487, 'despic': 4488, 'kline': 4489, 'gina': 4490, 'baffl': 4491, 'gillian': 4492, 'bewar': 4493, 'bounc': 4494, 'spontan': 4495, 'preming': 4496, 'bronson': 4497, 'martha': 4498, 'brendan': 4499, 'narrow': 4500, 'patricia': 4501, 'oblig': 4502, '1969': 4503, 'uh': 4504, 'rome': 4505, 'headach': 4506, 'harmless': 4507, '19': 4508, 'trigger': 4509, 'biker': 4510, 'mayhem': 4511, 'renaiss': 4512, 'insipid': 4513, 'lester': 4514, 'enlist': 4515, 'housewif': 4516, 'injur': 4517, 'suprem': 4518, 'dandi': 4519, 'sooner': 4520, 'analyz': 4521, 'circu': 4522, 'taboo': 4523, 'virtu': 4524, 'scar': 4525, 'candl': 4526, 'viewpoint': 4527, 'hepburn': 4528, 'loath': 4529, 'outlaw': 4530, 'dilemma': 4531, 'goof': 4532, 'mermaid': 4533, '73': 4534, 'loi': 4535, 'angst': 4536, 'astound': 4537, 'sleepwalk': 4538, 'preachi': 4539, 'fontain': 4540, 'shatter': 4541, 'tick': 4542, 'macho': 4543, 'whore': 4544, 'hooker': 4545, 'foolish': 4546, 'amor': 4547, 'bent': 4548, 'phenomenon': 4549, 'surgeri': 4550, 'immatur': 4551, 'redund': 4552, 'glorifi': 4553, 'corbett': 4554, 'dismal': 4555, 'claustrophob': 4556, 'dish': 4557, 'intric': 4558, 'hokey': 4559, 'slimi': 4560, 'sox': 4561, 'zoom': 4562, 'scorses': 4563, 'steer': 4564, 'gere': 4565, 'stair': 4566, 'spade': 4567, 'hostag': 4568, 'cassavet': 4569, 'fluff': 4570, 'boston': 4571, 'salt': 4572, 'oldest': 4573, 'ariel': 4574, 'tripl': 4575, 'stimul': 4576, 'ebert': 4577, 'guin': 4578, 'filth': 4579, 'contempt': 4580, 'idol': 4581, 'camcord': 4582, 'overlong': 4583, 'schlock': 4584, 'dwarf': 4585, 'spree': 4586, 'joker': 4587, 'zane': 4588, 'muscl': 4589, 'transplant': 4590, 'harold': 4591, 'keen': 4592, 'cow': 4593, 'assert': 4594, 'down': 4595, 'obligatori': 4596, 'gasp': 4597, 'nolt': 4598, 'flirt': 4599, 'shield': 4600, 'flashi': 4601, 'alvin': 4602, 'strongest': 4603, 'antagonist': 4604, '1981': 4605, 'cohen': 4606, 'messi': 4607, 'proport': 4608, 'astronaut': 4609, 'rhyme': 4610, 'remad': 4611, 'gabl': 4612, 'faint': 4613, 'shred': 4614, 'flag': 4615, 'radiat': 4616, 'mount': 4617, 'cush': 4618, 'corman': 4619, 'preced': 4620, 'naschi': 4621, 'fascist': 4622, 'beard': 4623, 'conquer': 4624, 'frantic': 4625, '1976': 4626, 'mutual': 4627, 'widescreen': 4628, 'trivia': 4629, 'margin': 4630, 'perman': 4631, 'spinal': 4632, 'archiv': 4633, 'mobil': 4634, 'off': 4635, 'vaniti': 4636, 'wield': 4637, 'instruct': 4638, 'deer': 4639, 'strive': 4640, 'hara': 4641, 'resum': 4642, 'triangl': 4643, 'ritchi': 4644, 'boob': 4645, '95': 4646, 'divin': 4647, 'mol': 4648, 'brush': 4649, 'someday': 4650, '1945': 4651, 'danish': 4652, 'flock': 4653, 'info': 4654, 'raj': 4655, '28': 4656, 'bachelor': 4657, 'www': 4658, 'scandal': 4659, 'discern': 4660, 'repris': 4661, 'aborigin': 4662, 'bitten': 4663, 'fishburn': 4664, 'inflict': 4665, 'interestingli': 4666, 'persuad': 4667, 'carey': 4668, 'sensual': 4669, 'neurot': 4670, 'barn': 4671, 'departur': 4672, 'claud': 4673, 'colin': 4674, 'submit': 4675, 'melissa': 4676, 'pixar': 4677, 'vibrant': 4678, 'clad': 4679, 'earnest': 4680, 'proclaim': 4681, 'dame': 4682, 'mobster': 4683, 'recit': 4684, 'pickford': 4685, 'harrison': 4686, 'anton': 4687, 'parson': 4688, 'dylan': 4689, 'timberlak': 4690, 'rot': 4691, 'wendigo': 4692, 'bate': 4693, 'dim': 4694, 'pacif': 4695, 'banter': 4696, 'hapless': 4697, 'carlo': 4698, 'hug': 4699, 'artwork': 4700, 'luka': 4701, 'loretta': 4702, 'heartwarm': 4703, 'cb': 4704, 'fragil': 4705, 'europa': 4706, 'casino': 4707, 'frontier': 4708, 'ish': 4709, 'hilar': 4710, 'cycl': 4711, 'cher': 4712, 'axe': 4713, 'cliffhang': 4714, 'neill': 4715, 'traffic': 4716, 'jade': 4717, 'kathryn': 4718, 'senior': 4719, 'prophet': 4720, 'miracul': 4721, 'undermin': 4722, 'helm': 4723, 'biblic': 4724, 'http': 4725, 'northern': 4726, 'vanessa': 4727, 'jo': 4728, 'venom': 4729, 'estrang': 4730, 'holocaust': 4731, 'lui': 4732, 'lucil': 4733, 'aris': 4734, 'pc': 4735, 'akin': 4736, 'misfortun': 4737, 'wardrob': 4738, 'toronto': 4739, 'static': 4740, 'redneck': 4741, 'flavor': 4742, 'cerebr': 4743, 'breakfast': 4744, 'illus': 4745, 'orphan': 4746, 'vile': 4747, 'rooki': 4748, 'trier': 4749, 'shepherd': 4750, 'blatantli': 4751, 'uma': 4752, 'alexandr': 4753, 'articl': 4754, 'winchest': 4755, 'jordan': 4756, 'choke': 4757, 'token': 4758, 'feast': 4759, 'marlon': 4760, 'bikini': 4761, 'bondag': 4762, 'legitim': 4763, 'eli': 4764, 'mason': 4765, 'razor': 4766, 'seedi': 4767, 'electron': 4768, 'milo': 4769, 'nope': 4770, 'foil': 4771, 'isra': 4772, 'antholog': 4773, 'sicken': 4774, 'mathieu': 4775, 'huston': 4776, 'nightclub': 4777, 'linear': 4778, 'psych': 4779, 'disregard': 4780, 'outdat': 4781, 'clinic': 4782, 'shorter': 4783, 'tack': 4784, 'highway': 4785, 'wrestler': 4786, 'turd': 4787, 'comprehend': 4788, 'knightley': 4789, 'howl': 4790, 'smack': 4791, 'dudley': 4792, 'styliz': 4793, 'frog': 4794, 'charlton': 4795, 'oppon': 4796, 'deem': 4797, 'ceremoni': 4798, 'swept': 4799, 'audrey': 4800, 'gilbert': 4801, 'affleck': 4802, 'fifth': 4803, 'abund': 4804, 'glare': 4805, 'retriev': 4806, 'cartoonish': 4807, 'boyer': 4808, 'peer': 4809, 'leather': 4810, 'magician': 4811, 'ideolog': 4812, 'feminin': 4813, 'gunga': 4814, 'lifeless': 4815, 'compris': 4816, 'newer': 4817, 'uniformli': 4818, 'bastard': 4819, 'plate': 4820, 'summar': 4821, 'sleaz': 4822, '1991': 4823, 'breakdown': 4824, 'whack': 4825, 'deliver': 4826, 'durat': 4827, 'tara': 4828, 'greet': 4829, 'phenomen': 4830, 'toe': 4831, 'spine': 4832, 'client': 4833, 'lavish': 4834, 'snatch': 4835, '1994': 4836, 'energet': 4837, 'chip': 4838, 'salman': 4839, 'einstein': 4840, 'monument': 4841, 'potter': 4842, 'senat': 4843, 'lighter': 4844, 'conrad': 4845, 'spawn': 4846, 'corn': 4847, 'collector': 4848, 'cuban': 4849, 'btw': 4850, 'mitch': 4851, 'braveheart': 4852, 'bogu': 4853, 'boo': 4854, 'goldsworthi': 4855, 'evolut': 4856, '4th': 4857, 'cemeteri': 4858, 'moe': 4859, 'outright': 4860, 'clara': 4861, 'trauma': 4862, 'judd': 4863, 'replay': 4864, 'sorrow': 4865, 'jam': 4866, 'nina': 4867, 'spectacl': 4868, 'occup': 4869, 'fluid': 4870, 'embark': 4871, 'inaccuraci': 4872, 'bori': 4873, 'pronounc': 4874, '1974': 4875, 'randolph': 4876, 'firmli': 4877, 'neatli': 4878, 'undead': 4879, 'bulk': 4880, 'creek': 4881, 'ol': 4882, 'luxuri': 4883, 'kazan': 4884, 'evelyn': 4885, 'constitut': 4886, 'belli': 4887, 'healthi': 4888, 'kent': 4889, 'lex': 4890, 'appl': 4891, 'capot': 4892, '1977': 4893, 'historian': 4894, 'undertak': 4895, 'jare': 4896, 'eleven': 4897, 'cecil': 4898, 'liu': 4899, 'wtf': 4900, 'jedi': 4901, 'alleg': 4902, 'ie': 4903, 'gilliam': 4904, 'armstrong': 4905, 'mcqueen': 4906, 'signal': 4907, 'jule': 4908, 'lauren': 4909, 'unsuspect': 4910, 'pepper': 4911, 'ash': 4912, 'bait': 4913, 'abound': 4914, 'groan': 4915, 'knee': 4916, 'mum': 4917, 'carmen': 4918, 'vignett': 4919, 'comb': 4920, 'kiddi': 4921, 'porter': 4922, 'conan': 4923, 'fruit': 4924, 'bsg': 4925, 'sacrif': 4926, '1985': 4927, 'forgiven': 4928, 'unattract': 4929, 'pioneer': 4930, 'miami': 4931, 'poker': 4932, 'basket': 4933, 'palm': 4934, 'blur': 4935, 'sidewalk': 4936, 'antonio': 4937, 'propheci': 4938, 'roar': 4939, 'aussi': 4940, 'decapit': 4941, 'inaccur': 4942, 'id': 4943, 'paula': 4944, 'vain': 4945, 'lanc': 4946, 'subtli': 4947, 'cape': 4948, 'meal': 4949, 'curtain': 4950, 'spray': 4951, 'miniseri': 4952, 'truman': 4953, 'comprehens': 4954, 'rosario': 4955, 'relentless': 4956, 'congratul': 4957, 'tokyo': 4958, 'genet': 4959, 'goldblum': 4960, 'galaxi': 4961, 'walt': 4962, 'inclus': 4963, 'sparkl': 4964, 'omin': 4965, 'asset': 4966, 'frontal': 4967, 'handicap': 4968, 'detach': 4969, 'motorcycl': 4970, 'sophi': 4971, 'macabr': 4972, 'substanti': 4973, 'jill': 4974, 'bach': 4975, 'weari': 4976, 'drone': 4977, 'evan': 4978, 'orchestr': 4979, 'verg': 4980, 'scarfac': 4981, 'hackman': 4982, 'modest': 4983, 'dubiou': 4984, '21st': 4985, 'hostil': 4986, 'vastli': 4987, 'rapidli': 4988, 'growth': 4989, 'scariest': 4990, 'assort': 4991, 'incorrect': 4992, 'ingrid': 4993, 'profil': 4994, 'bravo': 4995, 'monti': 4996, 'weaker': 4997, 'ghetto': 4998, 'mice': 4999}\n"
     ]
    }
   ],
   "source": [
    "# TODO: Use this space to determine the five most frequently appearing words in the training set.\n",
    "print(word_dict)"
   ]
  },
  {
   "cell_type": "markdown",
   "metadata": {},
   "source": [
    "### Save `word_dict`\n",
    "\n",
    "Later on when we construct an endpoint which processes a submitted review we will need to make use of the `word_dict` which we have created. As such, we will save it to a file now for future use."
   ]
  },
  {
   "cell_type": "code",
   "execution_count": 15,
   "metadata": {},
   "outputs": [],
   "source": [
    "data_dir = '../data/pytorch' # The folder we will use for storing data\n",
    "if not os.path.exists(data_dir): # Make sure that the folder exists\n",
    "    os.makedirs(data_dir)"
   ]
  },
  {
   "cell_type": "code",
   "execution_count": 16,
   "metadata": {},
   "outputs": [],
   "source": [
    "with open(os.path.join(data_dir, 'word_dict.pkl'), \"wb\") as f:\n",
    "    pickle.dump(word_dict, f)"
   ]
  },
  {
   "cell_type": "markdown",
   "metadata": {},
   "source": [
    "### Transform the reviews\n",
    "\n",
    "Now that we have our word dictionary which allows us to transform the words appearing in the reviews into integers, it is time to make use of it and convert our reviews to their integer sequence representation, making sure to pad or truncate to a fixed length, which in our case is `500`."
   ]
  },
  {
   "cell_type": "code",
   "execution_count": 17,
   "metadata": {},
   "outputs": [],
   "source": [
    "def convert_and_pad(word_dict, sentence, pad=500):\n",
    "    NOWORD = 0 # We will use 0 to represent the 'no word' category\n",
    "    INFREQ = 1 # and we use 1 to represent the infrequent words, i.e., words not appearing in word_dict\n",
    "    \n",
    "    working_sentence = [NOWORD] * pad\n",
    "    \n",
    "    for word_index, word in enumerate(sentence[:pad]):\n",
    "        if word in word_dict:\n",
    "            working_sentence[word_index] = word_dict[word]\n",
    "        else:\n",
    "            working_sentence[word_index] = INFREQ\n",
    "            \n",
    "    return working_sentence, min(len(sentence), pad)\n",
    "\n",
    "def convert_and_pad_data(word_dict, data, pad=500):\n",
    "    result = []\n",
    "    lengths = []\n",
    "    \n",
    "    for sentence in data:\n",
    "        converted, leng = convert_and_pad(word_dict, sentence, pad)\n",
    "        result.append(converted)\n",
    "        lengths.append(leng)\n",
    "        \n",
    "    return np.array(result), np.array(lengths)"
   ]
  },
  {
   "cell_type": "code",
   "execution_count": 18,
   "metadata": {},
   "outputs": [],
   "source": [
    "train_X, train_X_len = convert_and_pad_data(word_dict, train_X)\n",
    "test_X, test_X_len = convert_and_pad_data(word_dict, test_X)"
   ]
  },
  {
   "cell_type": "markdown",
   "metadata": {},
   "source": [
    "As a quick check to make sure that things are working as intended, check to see what one of the reviews in the training set looks like after having been processeed. Does this look reasonable? What is the length of a review in the training set?"
   ]
  },
  {
   "cell_type": "code",
   "execution_count": 19,
   "metadata": {},
   "outputs": [
    {
     "name": "stdout",
     "output_type": "stream",
     "text": [
      "[ 287   11  197   46   44  216  204 3330  125 1715 2245   96  124  673\n",
      " 1769 4815   46 1261  438  306 2811 1522   73    1 1109 2258    1   45\n",
      "   17 1363    1   81    1 1304   24    8    3  200   21  227 4776  288\n",
      " 2967 2491  900  303  257  456    9   39    1    1  110    1  108    3\n",
      "  295 2566  210   57  180  838  519  267    1   90  561   21  790  106\n",
      "   21  224   14  241    3 1799   21  173 1327 1999  527    5   10   21\n",
      "   58    6    0    0    0    0    0    0    0    0    0    0    0    0\n",
      "    0    0    0    0    0    0    0    0    0    0    0    0    0    0\n",
      "    0    0    0    0    0    0    0    0    0    0    0    0    0    0\n",
      "    0    0    0    0    0    0    0    0    0    0    0    0    0    0\n",
      "    0    0    0    0    0    0    0    0    0    0    0    0    0    0\n",
      "    0    0    0    0    0    0    0    0    0    0    0    0    0    0\n",
      "    0    0    0    0    0    0    0    0    0    0    0    0    0    0\n",
      "    0    0    0    0    0    0    0    0    0    0    0    0    0    0\n",
      "    0    0    0    0    0    0    0    0    0    0    0    0    0    0\n",
      "    0    0    0    0    0    0    0    0    0    0    0    0    0    0\n",
      "    0    0    0    0    0    0    0    0    0    0    0    0    0    0\n",
      "    0    0    0    0    0    0    0    0    0    0    0    0    0    0\n",
      "    0    0    0    0    0    0    0    0    0    0    0    0    0    0\n",
      "    0    0    0    0    0    0    0    0    0    0    0    0    0    0\n",
      "    0    0    0    0    0    0    0    0    0    0    0    0    0    0\n",
      "    0    0    0    0    0    0    0    0    0    0    0    0    0    0\n",
      "    0    0    0    0    0    0    0    0    0    0    0    0    0    0\n",
      "    0    0    0    0    0    0    0    0    0    0    0    0    0    0\n",
      "    0    0    0    0    0    0    0    0    0    0    0    0    0    0\n",
      "    0    0    0    0    0    0    0    0    0    0    0    0    0    0\n",
      "    0    0    0    0    0    0    0    0    0    0    0    0    0    0\n",
      "    0    0    0    0    0    0    0    0    0    0    0    0    0    0\n",
      "    0    0    0    0    0    0    0    0    0    0    0    0    0    0\n",
      "    0    0    0    0    0    0    0    0    0    0    0    0    0    0\n",
      "    0    0    0    0    0    0    0    0    0    0    0    0    0    0\n",
      "    0    0    0    0    0    0    0    0    0    0    0    0    0    0\n",
      "    0    0    0    0    0    0    0    0    0    0    0    0    0    0\n",
      "    0    0    0    0    0    0    0    0    0    0    0    0    0    0\n",
      "    0    0    0    0    0    0    0    0    0    0    0    0    0    0\n",
      "    0    0    0    0    0    0    0    0    0    0]\n",
      "\n",
      "500\n"
     ]
    }
   ],
   "source": [
    "# Use this cell to examine one of the processed reviews to make sure everything is working as intended.\n",
    "print(train_X[0])\n",
    "print()\n",
    "print(len(train_X[0]))"
   ]
  },
  {
   "cell_type": "markdown",
   "metadata": {},
   "source": [
    "**Question:** In the cells above we use the `preprocess_data` and `convert_and_pad_data` methods to process both the training and testing set. Why or why not might this be a problem?"
   ]
  },
  {
   "cell_type": "markdown",
   "metadata": {},
   "source": [
    "**Answer:**\n",
    "Preprocess data help us to remove noise from the review (useless words as \"the\") which will not affect the prediction, and this makes the prediction process more accurate. But for convert_and_pad_data we might truncate the reviews which may contain the most indicating words at the very end of the review, and this can decrease the accuracy of prediction process."
   ]
  },
  {
   "cell_type": "markdown",
   "metadata": {},
   "source": [
    "## Step 3: Upload the data to S3\n",
    "\n",
    "As in the XGBoost notebook, we will need to upload the training dataset to S3 in order for our training code to access it. For now we will save it locally and we will upload to S3 later on.\n",
    "\n",
    "### Save the processed training dataset locally\n",
    "\n",
    "It is important to note the format of the data that we are saving as we will need to know it when we write the training code. In our case, each row of the dataset has the form `label`, `length`, `review[500]` where `review[500]` is a sequence of `500` integers representing the words in the review."
   ]
  },
  {
   "cell_type": "code",
   "execution_count": 20,
   "metadata": {},
   "outputs": [],
   "source": [
    "import pandas as pd\n",
    "    \n",
    "pd.concat([pd.DataFrame(train_y), pd.DataFrame(train_X_len), pd.DataFrame(train_X)], axis=1) \\\n",
    "        .to_csv(os.path.join(data_dir, 'train.csv'), header=False, index=False)"
   ]
  },
  {
   "cell_type": "markdown",
   "metadata": {},
   "source": [
    "### Uploading the training data\n",
    "\n",
    "\n",
    "Next, we need to upload the training data to the SageMaker default S3 bucket so that we can provide access to it while training our model."
   ]
  },
  {
   "cell_type": "code",
   "execution_count": 21,
   "metadata": {},
   "outputs": [],
   "source": [
    "import sagemaker\n",
    "\n",
    "sagemaker_session = sagemaker.Session()\n",
    "\n",
    "bucket = sagemaker_session.default_bucket()\n",
    "prefix = 'sagemaker/sentiment_rnn'\n",
    "\n",
    "role = sagemaker.get_execution_role()"
   ]
  },
  {
   "cell_type": "code",
   "execution_count": 22,
   "metadata": {},
   "outputs": [],
   "source": [
    "input_data = sagemaker_session.upload_data(path=data_dir, bucket=bucket, key_prefix=prefix)"
   ]
  },
  {
   "cell_type": "markdown",
   "metadata": {},
   "source": [
    "**NOTE:** The cell above uploads the entire contents of our data directory. This includes the `word_dict.pkl` file. This is fortunate as we will need this later on when we create an endpoint that accepts an arbitrary review. For now, we will just take note of the fact that it resides in the data directory (and so also in the S3 training bucket) and that we will need to make sure it gets saved in the model directory."
   ]
  },
  {
   "cell_type": "markdown",
   "metadata": {},
   "source": [
    "## Step 4: Build and Train the PyTorch Model\n",
    "\n",
    "In the XGBoost notebook we discussed what a model is in the SageMaker framework. In particular, a model comprises three objects\n",
    "\n",
    " - Model Artifacts,\n",
    " - Training Code, and\n",
    " - Inference Code,\n",
    " \n",
    "each of which interact with one another. In the XGBoost example we used training and inference code that was provided by Amazon. Here we will still be using containers provided by Amazon with the added benefit of being able to include our own custom code.\n",
    "\n",
    "We will start by implementing our own neural network in PyTorch along with a training script. For the purposes of this project we have provided the necessary model object in the `model.py` file, inside of the `train` folder. You can see the provided implementation by running the cell below."
   ]
  },
  {
   "cell_type": "code",
   "execution_count": 23,
   "metadata": {},
   "outputs": [
    {
     "name": "stdout",
     "output_type": "stream",
     "text": [
      "\u001b[34mimport\u001b[39;49;00m \u001b[04m\u001b[36mtorch\u001b[39;49;00m\u001b[04m\u001b[36m.\u001b[39;49;00m\u001b[04m\u001b[36mnn\u001b[39;49;00m \u001b[34mas\u001b[39;49;00m \u001b[04m\u001b[36mnn\u001b[39;49;00m\r\n",
      "\r\n",
      "\u001b[34mclass\u001b[39;49;00m \u001b[04m\u001b[32mLSTMClassifier\u001b[39;49;00m(nn.Module):\r\n",
      "    \u001b[33m\"\"\"\u001b[39;49;00m\r\n",
      "\u001b[33m    This is the simple RNN model we will be using to perform Sentiment Analysis.\u001b[39;49;00m\r\n",
      "\u001b[33m    \"\"\"\u001b[39;49;00m\r\n",
      "\r\n",
      "    \u001b[34mdef\u001b[39;49;00m \u001b[32m__init__\u001b[39;49;00m(\u001b[36mself\u001b[39;49;00m, embedding_dim, hidden_dim, vocab_size):\r\n",
      "        \u001b[33m\"\"\"\u001b[39;49;00m\r\n",
      "\u001b[33m        Initialize the model by settingg up the various layers.\u001b[39;49;00m\r\n",
      "\u001b[33m        \"\"\"\u001b[39;49;00m\r\n",
      "        \u001b[36msuper\u001b[39;49;00m(LSTMClassifier, \u001b[36mself\u001b[39;49;00m).\u001b[32m__init__\u001b[39;49;00m()\r\n",
      "\r\n",
      "        \u001b[36mself\u001b[39;49;00m.embedding = nn.Embedding(vocab_size, embedding_dim, padding_idx=\u001b[34m0\u001b[39;49;00m)\r\n",
      "        \u001b[36mself\u001b[39;49;00m.lstm = nn.LSTM(embedding_dim, hidden_dim)\r\n",
      "        \u001b[36mself\u001b[39;49;00m.dense = nn.Linear(in_features=hidden_dim, out_features=\u001b[34m1\u001b[39;49;00m)\r\n",
      "        \u001b[36mself\u001b[39;49;00m.sig = nn.Sigmoid()\r\n",
      "        \r\n",
      "        \u001b[36mself\u001b[39;49;00m.word_dict = \u001b[34mNone\u001b[39;49;00m\r\n",
      "\r\n",
      "    \u001b[34mdef\u001b[39;49;00m \u001b[32mforward\u001b[39;49;00m(\u001b[36mself\u001b[39;49;00m, x):\r\n",
      "        \u001b[33m\"\"\"\u001b[39;49;00m\r\n",
      "\u001b[33m        Perform a forward pass of our model on some input.\u001b[39;49;00m\r\n",
      "\u001b[33m        \"\"\"\u001b[39;49;00m\r\n",
      "        x = x.t()\r\n",
      "        lengths = x[\u001b[34m0\u001b[39;49;00m,:]\r\n",
      "        reviews = x[\u001b[34m1\u001b[39;49;00m:,:]\r\n",
      "        embeds = \u001b[36mself\u001b[39;49;00m.embedding(reviews)\r\n",
      "        lstm_out, _ = \u001b[36mself\u001b[39;49;00m.lstm(embeds)\r\n",
      "        out = \u001b[36mself\u001b[39;49;00m.dense(lstm_out)\r\n",
      "        out = out[lengths - \u001b[34m1\u001b[39;49;00m, \u001b[36mrange\u001b[39;49;00m(\u001b[36mlen\u001b[39;49;00m(lengths))]\r\n",
      "        \u001b[34mreturn\u001b[39;49;00m \u001b[36mself\u001b[39;49;00m.sig(out.squeeze())\r\n"
     ]
    }
   ],
   "source": [
    "!pygmentize train/model.py"
   ]
  },
  {
   "cell_type": "markdown",
   "metadata": {},
   "source": [
    "The important takeaway from the implementation provided is that there are three parameters that we may wish to tweak to improve the performance of our model. These are the embedding dimension, the hidden dimension and the size of the vocabulary. We will likely want to make these parameters configurable in the training script so that if we wish to modify them we do not need to modify the script itself. We will see how to do this later on. To start we will write some of the training code in the notebook so that we can more easily diagnose any issues that arise.\n",
    "\n",
    "First we will load a small portion of the training data set to use as a sample. It would be very time consuming to try and train the model completely in the notebook as we do not have access to a gpu and the compute instance that we are using is not particularly powerful. However, we can work on a small bit of the data to get a feel for how our training script is behaving."
   ]
  },
  {
   "cell_type": "code",
   "execution_count": 24,
   "metadata": {},
   "outputs": [],
   "source": [
    "import torch\n",
    "import torch.utils.data\n",
    "\n",
    "# Read in only the first 250 rows\n",
    "train_sample = pd.read_csv(os.path.join(data_dir, 'train.csv'), header=None, names=None, nrows=250)\n",
    "\n",
    "# Turn the input pandas dataframe into tensors\n",
    "train_sample_y = torch.from_numpy(train_sample[[0]].values).float().squeeze()\n",
    "train_sample_X = torch.from_numpy(train_sample.drop([0], axis=1).values).long()\n",
    "\n",
    "# Build the dataset\n",
    "train_sample_ds = torch.utils.data.TensorDataset(train_sample_X, train_sample_y)\n",
    "# Build the dataloader\n",
    "train_sample_dl = torch.utils.data.DataLoader(train_sample_ds, batch_size=50)"
   ]
  },
  {
   "cell_type": "markdown",
   "metadata": {},
   "source": [
    "### (TODO) Writing the training method\n",
    "\n",
    "Next we need to write the training code itself. This should be very similar to training methods that you have written before to train PyTorch models. We will leave any difficult aspects such as model saving / loading and parameter loading until a little later."
   ]
  },
  {
   "cell_type": "code",
   "execution_count": 25,
   "metadata": {},
   "outputs": [],
   "source": [
    "def train(model, train_loader, epochs, optimizer, loss_fn, device):\n",
    "    for epoch in range(1, epochs + 1):\n",
    "        model.train()\n",
    "        total_loss = 0\n",
    "        for batch in train_loader:         \n",
    "            batch_X, batch_y = batch\n",
    "            \n",
    "            batch_X = batch_X.to(device)\n",
    "            batch_y = batch_y.to(device)\n",
    "            \n",
    "            # TODO: Complete this train method to train the model provided.\n",
    "            model.zero_grad()\n",
    "            output = model(batch_X)\n",
    "            loss = loss_fn(output, batch_y)\n",
    "            loss.backward()\n",
    "            optimizer.step()\n",
    "            \n",
    "            \n",
    "            total_loss += loss.data.item()\n",
    "        print(\"Epoch: {}, BCELoss: {}\".format(epoch, total_loss / len(train_loader)))"
   ]
  },
  {
   "cell_type": "markdown",
   "metadata": {},
   "source": [
    "Supposing we have the training method above, we will test that it is working by writing a bit of code in the notebook that executes our training method on the small sample training set that we loaded earlier. The reason for doing this in the notebook is so that we have an opportunity to fix any errors that arise early when they are easier to diagnose."
   ]
  },
  {
   "cell_type": "code",
   "execution_count": 26,
   "metadata": {},
   "outputs": [
    {
     "name": "stdout",
     "output_type": "stream",
     "text": [
      "Epoch: 1, BCELoss: 0.6933905482292175\n",
      "Epoch: 2, BCELoss: 0.6849966645240784\n",
      "Epoch: 3, BCELoss: 0.6781214237213135\n",
      "Epoch: 4, BCELoss: 0.6708711624145508\n",
      "Epoch: 5, BCELoss: 0.6626167058944702\n"
     ]
    }
   ],
   "source": [
    "import torch.optim as optim\n",
    "from train.model import LSTMClassifier\n",
    "\n",
    "device = torch.device(\"cuda\" if torch.cuda.is_available() else \"cpu\")\n",
    "model = LSTMClassifier(32, 100, 5000).to(device)\n",
    "optimizer = optim.Adam(model.parameters())\n",
    "loss_fn = torch.nn.BCELoss()\n",
    "\n",
    "train(model, train_sample_dl, 5, optimizer, loss_fn, device)"
   ]
  },
  {
   "cell_type": "markdown",
   "metadata": {},
   "source": [
    "In order to construct a PyTorch model using SageMaker we must provide SageMaker with a training script. We may optionally include a directory which will be copied to the container and from which our training code will be run. When the training container is executed it will check the uploaded directory (if there is one) for a `requirements.txt` file and install any required Python libraries, after which the training script will be run."
   ]
  },
  {
   "cell_type": "markdown",
   "metadata": {},
   "source": [
    "### (TODO) Training the model\n",
    "\n",
    "When a PyTorch model is constructed in SageMaker, an entry point must be specified. This is the Python file which will be executed when the model is trained. Inside of the `train` directory is a file called `train.py` which has been provided and which contains most of the necessary code to train our model. The only thing that is missing is the implementation of the `train()` method which you wrote earlier in this notebook.\n",
    "\n",
    "**TODO**: Copy the `train()` method written above and paste it into the `train/train.py` file where required.\n",
    "\n",
    "The way that SageMaker passes hyperparameters to the training script is by way of arguments. These arguments can then be parsed and used in the training script. To see how this is done take a look at the provided `train/train.py` file."
   ]
  },
  {
   "cell_type": "code",
   "execution_count": 27,
   "metadata": {},
   "outputs": [],
   "source": [
    "from sagemaker.pytorch import PyTorch\n",
    "\n",
    "estimator = PyTorch(entry_point=\"train.py\",\n",
    "                    source_dir=\"train\",\n",
    "                    role=role,\n",
    "                    framework_version='0.4.0',\n",
    "                    train_instance_count=1,\n",
    "                    train_instance_type='ml.p2.xlarge',\n",
    "                    hyperparameters={\n",
    "                        'epochs': 10,\n",
    "                        'hidden_dim': 200,\n",
    "                    })"
   ]
  },
  {
   "cell_type": "code",
   "execution_count": 28,
   "metadata": {},
   "outputs": [
    {
     "name": "stderr",
     "output_type": "stream",
     "text": [
      "'create_image_uri' will be deprecated in favor of 'ImageURIProvider' class in SageMaker Python SDK v2.\n",
      "'s3_input' class will be renamed to 'TrainingInput' in SageMaker Python SDK v2.\n",
      "'create_image_uri' will be deprecated in favor of 'ImageURIProvider' class in SageMaker Python SDK v2.\n"
     ]
    },
    {
     "name": "stdout",
     "output_type": "stream",
     "text": [
      "2020-09-28 10:47:48 Starting - Starting the training job...\n",
      "2020-09-28 10:47:50 Starting - Launching requested ML instances.........\n",
      "2020-09-28 10:49:23 Starting - Preparing the instances for training.........\n",
      "2020-09-28 10:51:15 Downloading - Downloading input data...\n",
      "2020-09-28 10:51:43 Training - Downloading the training image...\n",
      "2020-09-28 10:52:04 Training - Training image download completed. Training in progress.\u001b[34mbash: cannot set terminal process group (-1): Inappropriate ioctl for device\u001b[0m\n",
      "\u001b[34mbash: no job control in this shell\u001b[0m\n",
      "\u001b[34m2020-09-28 10:52:08,395 sagemaker-containers INFO     Imported framework sagemaker_pytorch_container.training\u001b[0m\n",
      "\u001b[34m2020-09-28 10:52:08,421 sagemaker_pytorch_container.training INFO     Block until all host DNS lookups succeed.\u001b[0m\n",
      "\u001b[34m2020-09-28 10:52:09,062 sagemaker_pytorch_container.training INFO     Invoking user training script.\u001b[0m\n",
      "\u001b[34m2020-09-28 10:52:09,326 sagemaker-containers INFO     Module train does not provide a setup.py. \u001b[0m\n",
      "\u001b[34mGenerating setup.py\u001b[0m\n",
      "\u001b[34m2020-09-28 10:52:09,326 sagemaker-containers INFO     Generating setup.cfg\u001b[0m\n",
      "\u001b[34m2020-09-28 10:52:09,327 sagemaker-containers INFO     Generating MANIFEST.in\u001b[0m\n",
      "\u001b[34m2020-09-28 10:52:09,327 sagemaker-containers INFO     Installing module with the following command:\u001b[0m\n",
      "\u001b[34m/usr/bin/python -m pip install -U . -r requirements.txt\u001b[0m\n",
      "\u001b[34mProcessing /opt/ml/code\u001b[0m\n",
      "\u001b[34mCollecting pandas (from -r requirements.txt (line 1))\u001b[0m\n",
      "\u001b[34m  Downloading https://files.pythonhosted.org/packages/74/24/0cdbf8907e1e3bc5a8da03345c23cbed7044330bb8f73bb12e711a640a00/pandas-0.24.2-cp35-cp35m-manylinux1_x86_64.whl (10.0MB)\u001b[0m\n",
      "\u001b[34mCollecting numpy (from -r requirements.txt (line 2))\n",
      "  Downloading https://files.pythonhosted.org/packages/b5/36/88723426b4ff576809fec7d73594fe17a35c27f8d01f93637637a29ae25b/numpy-1.18.5-cp35-cp35m-manylinux1_x86_64.whl (19.9MB)\u001b[0m\n",
      "\u001b[34mCollecting nltk (from -r requirements.txt (line 3))\n",
      "  Downloading https://files.pythonhosted.org/packages/92/75/ce35194d8e3022203cca0d2f896dbb88689f9b3fce8e9f9cff942913519d/nltk-3.5.zip (1.4MB)\u001b[0m\n",
      "\u001b[34mCollecting beautifulsoup4 (from -r requirements.txt (line 4))\u001b[0m\n",
      "\u001b[34m  Downloading https://files.pythonhosted.org/packages/56/f2/6c6c7d0b5483b8c63e837c3f5d941e511979ceb3975ca45fa3ef682df2d6/beautifulsoup4-4.9.2-py3-none-any.whl (115kB)\u001b[0m\n",
      "\u001b[34mCollecting html5lib (from -r requirements.txt (line 5))\n",
      "  Downloading https://files.pythonhosted.org/packages/6c/dd/a834df6482147d48e225a49515aabc28974ad5a4ca3215c18a882565b028/html5lib-1.1-py2.py3-none-any.whl (112kB)\u001b[0m\n",
      "\u001b[34mRequirement already satisfied, skipping upgrade: python-dateutil>=2.5.0 in /usr/local/lib/python3.5/dist-packages (from pandas->-r requirements.txt (line 1)) (2.7.5)\u001b[0m\n",
      "\u001b[34mCollecting pytz>=2011k (from pandas->-r requirements.txt (line 1))\n",
      "  Downloading https://files.pythonhosted.org/packages/4f/a4/879454d49688e2fad93e59d7d4efda580b783c745fd2ec2a3adf87b0808d/pytz-2020.1-py2.py3-none-any.whl (510kB)\u001b[0m\n",
      "\u001b[34mRequirement already satisfied, skipping upgrade: click in /usr/local/lib/python3.5/dist-packages (from nltk->-r requirements.txt (line 3)) (7.0)\u001b[0m\n",
      "\u001b[34mCollecting joblib (from nltk->-r requirements.txt (line 3))\n",
      "  Downloading https://files.pythonhosted.org/packages/28/5c/cf6a2b65a321c4a209efcdf64c2689efae2cb62661f8f6f4bb28547cf1bf/joblib-0.14.1-py2.py3-none-any.whl (294kB)\u001b[0m\n",
      "\u001b[34mCollecting regex (from nltk->-r requirements.txt (line 3))\u001b[0m\n",
      "\u001b[34m  Downloading https://files.pythonhosted.org/packages/93/8c/17f45cdfb39b13d4b5f909e4b4c2917abcbdef9c0036919a0399769148cf/regex-2020.9.27.tar.gz (690kB)\u001b[0m\n",
      "\u001b[34mCollecting tqdm (from nltk->-r requirements.txt (line 3))\n",
      "  Downloading https://files.pythonhosted.org/packages/0a/0e/ea53a3d6f1eb2cc31162c9ae89555cc26a3986e5559781f0b0df75aea5cf/tqdm-4.50.0-py2.py3-none-any.whl (70kB)\u001b[0m\n",
      "\u001b[34mCollecting soupsieve>1.2; python_version >= \"3.0\" (from beautifulsoup4->-r requirements.txt (line 4))\n",
      "  Downloading https://files.pythonhosted.org/packages/6f/8f/457f4a5390eeae1cc3aeab89deb7724c965be841ffca6cfca9197482e470/soupsieve-2.0.1-py3-none-any.whl\u001b[0m\n",
      "\u001b[34mCollecting webencodings (from html5lib->-r requirements.txt (line 5))\n",
      "  Downloading https://files.pythonhosted.org/packages/f4/24/2a3e3df732393fed8b3ebf2ec078f05546de641fe1b667ee316ec1dcf3b7/webencodings-0.5.1-py2.py3-none-any.whl\u001b[0m\n",
      "\u001b[34mRequirement already satisfied, skipping upgrade: six>=1.9 in /usr/local/lib/python3.5/dist-packages (from html5lib->-r requirements.txt (line 5)) (1.11.0)\u001b[0m\n",
      "\u001b[34mBuilding wheels for collected packages: nltk, train, regex\n",
      "  Running setup.py bdist_wheel for nltk: started\u001b[0m\n",
      "\u001b[34m  Running setup.py bdist_wheel for nltk: finished with status 'done'\n",
      "  Stored in directory: /root/.cache/pip/wheels/ae/8c/3f/b1fe0ba04555b08b57ab52ab7f86023639a526d8bc8d384306\n",
      "  Running setup.py bdist_wheel for train: started\n",
      "  Running setup.py bdist_wheel for train: finished with status 'done'\n",
      "  Stored in directory: /tmp/pip-ephem-wheel-cache-qxpxv90h/wheels/35/24/16/37574d11bf9bde50616c67372a334f94fa8356bc7164af8ca3\n",
      "  Running setup.py bdist_wheel for regex: started\u001b[0m\n",
      "\u001b[34m  Running setup.py bdist_wheel for regex: finished with status 'done'\n",
      "  Stored in directory: /root/.cache/pip/wheels/3b/ce/8a/55c7dfaf510ff2ed9c4f52d2091eb3fca5f438969a9ed908b8\u001b[0m\n",
      "\u001b[34mSuccessfully built nltk train regex\u001b[0m\n",
      "\u001b[34mInstalling collected packages: numpy, pytz, pandas, joblib, regex, tqdm, nltk, soupsieve, beautifulsoup4, webencodings, html5lib, train\n",
      "  Found existing installation: numpy 1.15.4\n",
      "    Uninstalling numpy-1.15.4:\u001b[0m\n",
      "\u001b[34m      Successfully uninstalled numpy-1.15.4\u001b[0m\n",
      "\u001b[34mSuccessfully installed beautifulsoup4-4.9.2 html5lib-1.1 joblib-0.14.1 nltk-3.5 numpy-1.18.5 pandas-0.24.2 pytz-2020.1 regex-2020.9.27 soupsieve-2.0.1 tqdm-4.50.0 train-1.0.0 webencodings-0.5.1\u001b[0m\n",
      "\u001b[34mYou are using pip version 18.1, however version 20.2.3 is available.\u001b[0m\n",
      "\u001b[34mYou should consider upgrading via the 'pip install --upgrade pip' command.\u001b[0m\n",
      "\u001b[34m2020-09-28 10:52:33,273 sagemaker-containers INFO     Invoking user script\n",
      "\u001b[0m\n",
      "\u001b[34mTraining Env:\n",
      "\u001b[0m\n",
      "\u001b[34m{\n",
      "    \"output_dir\": \"/opt/ml/output\",\n",
      "    \"channel_input_dirs\": {\n",
      "        \"training\": \"/opt/ml/input/data/training\"\n",
      "    },\n",
      "    \"framework_module\": \"sagemaker_pytorch_container.training:main\",\n",
      "    \"module_dir\": \"s3://sagemaker-us-east-1-087290475802/sagemaker-pytorch-2020-09-28-10-47-47-877/source/sourcedir.tar.gz\",\n",
      "    \"log_level\": 20,\n",
      "    \"hyperparameters\": {\n",
      "        \"hidden_dim\": 200,\n",
      "        \"epochs\": 10\n",
      "    },\n",
      "    \"user_entry_point\": \"train.py\",\n",
      "    \"module_name\": \"train\",\n",
      "    \"hosts\": [\n",
      "        \"algo-1\"\n",
      "    ],\n",
      "    \"output_intermediate_dir\": \"/opt/ml/output/intermediate\",\n",
      "    \"resource_config\": {\n",
      "        \"current_host\": \"algo-1\",\n",
      "        \"network_interface_name\": \"eth0\",\n",
      "        \"hosts\": [\n",
      "            \"algo-1\"\n",
      "        ]\n",
      "    },\n",
      "    \"additional_framework_parameters\": {},\n",
      "    \"num_cpus\": 4,\n",
      "    \"job_name\": \"sagemaker-pytorch-2020-09-28-10-47-47-877\",\n",
      "    \"output_data_dir\": \"/opt/ml/output/data\",\n",
      "    \"network_interface_name\": \"eth0\",\n",
      "    \"input_config_dir\": \"/opt/ml/input/config\",\n",
      "    \"num_gpus\": 1,\n",
      "    \"current_host\": \"algo-1\",\n",
      "    \"input_dir\": \"/opt/ml/input\",\n",
      "    \"model_dir\": \"/opt/ml/model\",\n",
      "    \"input_data_config\": {\n",
      "        \"training\": {\n",
      "            \"RecordWrapperType\": \"None\",\n",
      "            \"S3DistributionType\": \"FullyReplicated\",\n",
      "            \"TrainingInputMode\": \"File\"\n",
      "        }\n",
      "    }\u001b[0m\n",
      "\u001b[34m}\n",
      "\u001b[0m\n",
      "\u001b[34mEnvironment variables:\n",
      "\u001b[0m\n",
      "\u001b[34mSM_CHANNELS=[\"training\"]\u001b[0m\n",
      "\u001b[34mSM_NETWORK_INTERFACE_NAME=eth0\u001b[0m\n",
      "\u001b[34mSM_TRAINING_ENV={\"additional_framework_parameters\":{},\"channel_input_dirs\":{\"training\":\"/opt/ml/input/data/training\"},\"current_host\":\"algo-1\",\"framework_module\":\"sagemaker_pytorch_container.training:main\",\"hosts\":[\"algo-1\"],\"hyperparameters\":{\"epochs\":10,\"hidden_dim\":200},\"input_config_dir\":\"/opt/ml/input/config\",\"input_data_config\":{\"training\":{\"RecordWrapperType\":\"None\",\"S3DistributionType\":\"FullyReplicated\",\"TrainingInputMode\":\"File\"}},\"input_dir\":\"/opt/ml/input\",\"job_name\":\"sagemaker-pytorch-2020-09-28-10-47-47-877\",\"log_level\":20,\"model_dir\":\"/opt/ml/model\",\"module_dir\":\"s3://sagemaker-us-east-1-087290475802/sagemaker-pytorch-2020-09-28-10-47-47-877/source/sourcedir.tar.gz\",\"module_name\":\"train\",\"network_interface_name\":\"eth0\",\"num_cpus\":4,\"num_gpus\":1,\"output_data_dir\":\"/opt/ml/output/data\",\"output_dir\":\"/opt/ml/output\",\"output_intermediate_dir\":\"/opt/ml/output/intermediate\",\"resource_config\":{\"current_host\":\"algo-1\",\"hosts\":[\"algo-1\"],\"network_interface_name\":\"eth0\"},\"user_entry_point\":\"train.py\"}\u001b[0m\n",
      "\u001b[34mSM_CURRENT_HOST=algo-1\u001b[0m\n",
      "\u001b[34mSM_HOSTS=[\"algo-1\"]\u001b[0m\n",
      "\u001b[34mSM_FRAMEWORK_PARAMS={}\u001b[0m\n",
      "\u001b[34mSM_USER_ARGS=[\"--epochs\",\"10\",\"--hidden_dim\",\"200\"]\u001b[0m\n",
      "\u001b[34mSM_NUM_CPUS=4\u001b[0m\n",
      "\u001b[34mSM_OUTPUT_DATA_DIR=/opt/ml/output/data\u001b[0m\n",
      "\u001b[34mSM_OUTPUT_DIR=/opt/ml/output\u001b[0m\n",
      "\u001b[34mSM_MODULE_NAME=train\u001b[0m\n",
      "\u001b[34mSM_CHANNEL_TRAINING=/opt/ml/input/data/training\u001b[0m\n",
      "\u001b[34mSM_HPS={\"epochs\":10,\"hidden_dim\":200}\u001b[0m\n",
      "\u001b[34mSM_OUTPUT_INTERMEDIATE_DIR=/opt/ml/output/intermediate\u001b[0m\n",
      "\u001b[34mSM_MODEL_DIR=/opt/ml/model\u001b[0m\n",
      "\u001b[34mSM_USER_ENTRY_POINT=train.py\u001b[0m\n",
      "\u001b[34mSM_INPUT_DATA_CONFIG={\"training\":{\"RecordWrapperType\":\"None\",\"S3DistributionType\":\"FullyReplicated\",\"TrainingInputMode\":\"File\"}}\u001b[0m\n",
      "\u001b[34mSM_NUM_GPUS=1\u001b[0m\n",
      "\u001b[34mSM_HP_HIDDEN_DIM=200\u001b[0m\n",
      "\u001b[34mSM_HP_EPOCHS=10\u001b[0m\n",
      "\u001b[34mSM_INPUT_CONFIG_DIR=/opt/ml/input/config\u001b[0m\n",
      "\u001b[34mSM_RESOURCE_CONFIG={\"current_host\":\"algo-1\",\"hosts\":[\"algo-1\"],\"network_interface_name\":\"eth0\"}\u001b[0m\n",
      "\u001b[34mSM_FRAMEWORK_MODULE=sagemaker_pytorch_container.training:main\u001b[0m\n",
      "\u001b[34mSM_MODULE_DIR=s3://sagemaker-us-east-1-087290475802/sagemaker-pytorch-2020-09-28-10-47-47-877/source/sourcedir.tar.gz\u001b[0m\n",
      "\u001b[34mSM_LOG_LEVEL=20\u001b[0m\n",
      "\u001b[34mPYTHONPATH=/usr/local/bin:/usr/lib/python35.zip:/usr/lib/python3.5:/usr/lib/python3.5/plat-x86_64-linux-gnu:/usr/lib/python3.5/lib-dynload:/usr/local/lib/python3.5/dist-packages:/usr/lib/python3/dist-packages\u001b[0m\n",
      "\u001b[34mSM_INPUT_DIR=/opt/ml/input\n",
      "\u001b[0m\n",
      "\u001b[34mInvoking script with the following command:\n",
      "\u001b[0m\n",
      "\u001b[34m/usr/bin/python -m train --epochs 10 --hidden_dim 200\n",
      "\n",
      "\u001b[0m\n",
      "\u001b[34mUsing device cuda.\u001b[0m\n",
      "\u001b[34mGet train data loader.\u001b[0m\n",
      "\u001b[34mModel loaded with embedding_dim 32, hidden_dim 200, vocab_size 5000.\u001b[0m\n",
      "\u001b[34mEpoch: 1, BCELoss: 0.6664714557783944\u001b[0m\n",
      "\u001b[34mEpoch: 2, BCELoss: 0.5736450565104582\u001b[0m\n",
      "\u001b[34mEpoch: 3, BCELoss: 0.48552490679585203\u001b[0m\n",
      "\u001b[34mEpoch: 4, BCELoss: 0.42637149168520555\u001b[0m\n",
      "\u001b[34mEpoch: 5, BCELoss: 0.37352707373852634\u001b[0m\n",
      "\u001b[34mEpoch: 6, BCELoss: 0.33829590374109697\u001b[0m\n",
      "\u001b[34mEpoch: 7, BCELoss: 0.32588433793612887\u001b[0m\n",
      "\u001b[34mEpoch: 8, BCELoss: 0.32852236835324033\u001b[0m\n",
      "\u001b[34mEpoch: 9, BCELoss: 0.29722260364464353\u001b[0m\n",
      "\n",
      "2020-09-28 10:55:49 Uploading - Uploading generated training model\n",
      "2020-09-28 10:55:49 Completed - Training job completed\n",
      "\u001b[34mEpoch: 10, BCELoss: 0.2663295068302933\u001b[0m\n",
      "\u001b[34m2020-09-28 10:55:40,322 sagemaker-containers INFO     Reporting training SUCCESS\u001b[0m\n",
      "Training seconds: 274\n",
      "Billable seconds: 274\n"
     ]
    }
   ],
   "source": [
    "estimator.fit({'training': input_data})"
   ]
  },
  {
   "cell_type": "markdown",
   "metadata": {},
   "source": [
    "## Step 5: Testing the model\n",
    "\n",
    "As mentioned at the top of this notebook, we will be testing this model by first deploying it and then sending the testing data to the deployed endpoint. We will do this so that we can make sure that the deployed model is working correctly.\n",
    "\n",
    "## Step 6: Deploy the model for testing\n",
    "\n",
    "Now that we have trained our model, we would like to test it to see how it performs. Currently our model takes input of the form `review_length, review[500]` where `review[500]` is a sequence of `500` integers which describe the words present in the review, encoded using `word_dict`. Fortunately for us, SageMaker provides built-in inference code for models with simple inputs such as this.\n",
    "\n",
    "There is one thing that we need to provide, however, and that is a function which loads the saved model. This function must be called `model_fn()` and takes as its only parameter a path to the directory where the model artifacts are stored. This function must also be present in the python file which we specified as the entry point. In our case the model loading function has been provided and so no changes need to be made.\n",
    "\n",
    "**NOTE**: When the built-in inference code is run it must import the `model_fn()` method from the `train.py` file. This is why the training code is wrapped in a main guard ( ie, `if __name__ == '__main__':` )\n",
    "\n",
    "Since we don't need to change anything in the code that was uploaded during training, we can simply deploy the current model as-is.\n",
    "\n",
    "**NOTE:** When deploying a model you are asking SageMaker to launch an compute instance that will wait for data to be sent to it. As a result, this compute instance will continue to run until *you* shut it down. This is important to know since the cost of a deployed endpoint depends on how long it has been running for.\n",
    "\n",
    "In other words **If you are no longer using a deployed endpoint, shut it down!**\n",
    "\n",
    "**TODO:** Deploy the trained model."
   ]
  },
  {
   "cell_type": "code",
   "execution_count": 29,
   "metadata": {},
   "outputs": [
    {
     "name": "stderr",
     "output_type": "stream",
     "text": [
      "Parameter image will be renamed to image_uri in SageMaker Python SDK v2.\n",
      "'create_image_uri' will be deprecated in favor of 'ImageURIProvider' class in SageMaker Python SDK v2.\n"
     ]
    },
    {
     "name": "stdout",
     "output_type": "stream",
     "text": [
      "-----------------!"
     ]
    }
   ],
   "source": [
    "# TODO: Deploy the trained model\n",
    "predictor = estimator.deploy(initial_instance_count=1, instance_type='ml.p2.xlarge')"
   ]
  },
  {
   "cell_type": "markdown",
   "metadata": {},
   "source": [
    "## Step 7 - Use the model for testing\n",
    "\n",
    "Once deployed, we can read in the test data and send it off to our deployed model to get some results. Once we collect all of the results we can determine how accurate our model is."
   ]
  },
  {
   "cell_type": "code",
   "execution_count": 30,
   "metadata": {},
   "outputs": [],
   "source": [
    "test_X = pd.concat([pd.DataFrame(test_X_len), pd.DataFrame(test_X)], axis=1)"
   ]
  },
  {
   "cell_type": "code",
   "execution_count": 31,
   "metadata": {},
   "outputs": [],
   "source": [
    "# We split the data into chunks and send each chunk seperately, accumulating the results.\n",
    "\n",
    "def predict(data, rows=512):\n",
    "    split_array = np.array_split(data, int(data.shape[0] / float(rows) + 1))\n",
    "    predictions = np.array([])\n",
    "    for array in split_array:\n",
    "        predictions = np.append(predictions, predictor.predict(array))\n",
    "    \n",
    "    return predictions"
   ]
  },
  {
   "cell_type": "code",
   "execution_count": 32,
   "metadata": {},
   "outputs": [],
   "source": [
    "predictions = predict(test_X.values)\n",
    "predictions = [round(num) for num in predictions]"
   ]
  },
  {
   "cell_type": "code",
   "execution_count": 33,
   "metadata": {},
   "outputs": [
    {
     "data": {
      "text/plain": [
       "0.85444"
      ]
     },
     "execution_count": 33,
     "metadata": {},
     "output_type": "execute_result"
    }
   ],
   "source": [
    "from sklearn.metrics import accuracy_score\n",
    "accuracy_score(test_y, predictions)"
   ]
  },
  {
   "cell_type": "markdown",
   "metadata": {},
   "source": [
    "**Question:** How does this model compare to the XGBoost model you created earlier? Why might these two models perform differently on this dataset? Which do *you* think is better for sentiment analysis?"
   ]
  },
  {
   "cell_type": "markdown",
   "metadata": {},
   "source": [
    "**Answer:** According to accuracy, there is no big differnece, but i'd prefere the created model, as it uses LSTM which take into consideration the previous words, but for the bag of words only it considers the number of words, which may not be accurate enough."
   ]
  },
  {
   "cell_type": "markdown",
   "metadata": {},
   "source": [
    "### (TODO) More testing\n",
    "\n",
    "We now have a trained model which has been deployed and which we can send processed reviews to and which returns the predicted sentiment. However, ultimately we would like to be able to send our model an unprocessed review. That is, we would like to send the review itself as a string. For example, suppose we wish to send the following review to our model."
   ]
  },
  {
   "cell_type": "code",
   "execution_count": 34,
   "metadata": {},
   "outputs": [],
   "source": [
    "test_review = 'The simplest pleasures in life are the best, and this film is one of them. Combining a rather basic storyline of love and adventure this movie transcends the usual weekend fair with wit and unmitigated charm.'"
   ]
  },
  {
   "cell_type": "markdown",
   "metadata": {},
   "source": [
    "The question we now need to answer is, how do we send this review to our model?\n",
    "\n",
    "Recall in the first section of this notebook we did a bunch of data processing to the IMDb dataset. In particular, we did two specific things to the provided reviews.\n",
    " - Removed any html tags and stemmed the input\n",
    " - Encoded the review as a sequence of integers using `word_dict`\n",
    " \n",
    "In order process the review we will need to repeat these two steps.\n",
    "\n",
    "**TODO**: Using the `review_to_words` and `convert_and_pad` methods from section one, convert `test_review` into a numpy array `test_data` suitable to send to our model. Remember that our model expects input of the form `review_length, review[500]`."
   ]
  },
  {
   "cell_type": "code",
   "execution_count": 35,
   "metadata": {},
   "outputs": [],
   "source": [
    "# TODO: Convert test_review into a form usable by the model and save the results in test_data\n",
    "test_data = review_to_words(test_review)\n",
    "test_data, length = convert_and_pad(word_dict, test_data)\n",
    "test_data = np.array([[length] + test_data])"
   ]
  },
  {
   "cell_type": "markdown",
   "metadata": {},
   "source": [
    "Now that we have processed the review, we can send the resulting array to our model to predict the sentiment of the review."
   ]
  },
  {
   "cell_type": "code",
   "execution_count": 36,
   "metadata": {},
   "outputs": [
    {
     "data": {
      "text/plain": [
       "array(0.9258001, dtype=float32)"
      ]
     },
     "execution_count": 36,
     "metadata": {},
     "output_type": "execute_result"
    }
   ],
   "source": [
    "predictor.predict(test_data)"
   ]
  },
  {
   "cell_type": "markdown",
   "metadata": {},
   "source": [
    "Since the return value of our model is close to `1`, we can be certain that the review we submitted is positive."
   ]
  },
  {
   "cell_type": "markdown",
   "metadata": {},
   "source": [
    "### Delete the endpoint\n",
    "\n",
    "Of course, just like in the XGBoost notebook, once we've deployed an endpoint it continues to run until we tell it to shut down. Since we are done using our endpoint for now, we can delete it."
   ]
  },
  {
   "cell_type": "code",
   "execution_count": 37,
   "metadata": {},
   "outputs": [
    {
     "name": "stderr",
     "output_type": "stream",
     "text": [
      "estimator.delete_endpoint() will be deprecated in SageMaker Python SDK v2. Please use the delete_endpoint() function on your predictor instead.\n"
     ]
    }
   ],
   "source": [
    "estimator.delete_endpoint()"
   ]
  },
  {
   "cell_type": "markdown",
   "metadata": {},
   "source": [
    "## Step 6 (again) - Deploy the model for the web app\n",
    "\n",
    "Now that we know that our model is working, it's time to create some custom inference code so that we can send the model a review which has not been processed and have it determine the sentiment of the review.\n",
    "\n",
    "As we saw above, by default the estimator which we created, when deployed, will use the entry script and directory which we provided when creating the model. However, since we now wish to accept a string as input and our model expects a processed review, we need to write some custom inference code.\n",
    "\n",
    "We will store the code that we write in the `serve` directory. Provided in this directory is the `model.py` file that we used to construct our model, a `utils.py` file which contains the `review_to_words` and `convert_and_pad` pre-processing functions which we used during the initial data processing, and `predict.py`, the file which will contain our custom inference code. Note also that `requirements.txt` is present which will tell SageMaker what Python libraries are required by our custom inference code.\n",
    "\n",
    "When deploying a PyTorch model in SageMaker, you are expected to provide four functions which the SageMaker inference container will use.\n",
    " - `model_fn`: This function is the same function that we used in the training script and it tells SageMaker how to load our model.\n",
    " - `input_fn`: This function receives the raw serialized input that has been sent to the model's endpoint and its job is to de-serialize and make the input available for the inference code.\n",
    " - `output_fn`: This function takes the output of the inference code and its job is to serialize this output and return it to the caller of the model's endpoint.\n",
    " - `predict_fn`: The heart of the inference script, this is where the actual prediction is done and is the function which you will need to complete.\n",
    "\n",
    "For the simple website that we are constructing during this project, the `input_fn` and `output_fn` methods are relatively straightforward. We only require being able to accept a string as input and we expect to return a single value as output. You might imagine though that in a more complex application the input or output may be image data or some other binary data which would require some effort to serialize.\n",
    "\n",
    "### (TODO) Writing inference code\n",
    "\n",
    "Before writing our custom inference code, we will begin by taking a look at the code which has been provided."
   ]
  },
  {
   "cell_type": "code",
   "execution_count": 51,
   "metadata": {},
   "outputs": [
    {
     "name": "stdout",
     "output_type": "stream",
     "text": [
      "\u001b[34mimport\u001b[39;49;00m \u001b[04m\u001b[36margparse\u001b[39;49;00m\r\n",
      "\u001b[34mimport\u001b[39;49;00m \u001b[04m\u001b[36mjson\u001b[39;49;00m\r\n",
      "\u001b[34mimport\u001b[39;49;00m \u001b[04m\u001b[36mos\u001b[39;49;00m\r\n",
      "\u001b[34mimport\u001b[39;49;00m \u001b[04m\u001b[36mpickle\u001b[39;49;00m\r\n",
      "\u001b[34mimport\u001b[39;49;00m \u001b[04m\u001b[36msys\u001b[39;49;00m\r\n",
      "\u001b[34mimport\u001b[39;49;00m \u001b[04m\u001b[36msagemaker_containers\u001b[39;49;00m\r\n",
      "\u001b[34mimport\u001b[39;49;00m \u001b[04m\u001b[36mpandas\u001b[39;49;00m \u001b[34mas\u001b[39;49;00m \u001b[04m\u001b[36mpd\u001b[39;49;00m\r\n",
      "\u001b[34mimport\u001b[39;49;00m \u001b[04m\u001b[36mnumpy\u001b[39;49;00m \u001b[34mas\u001b[39;49;00m \u001b[04m\u001b[36mnp\u001b[39;49;00m\r\n",
      "\u001b[34mimport\u001b[39;49;00m \u001b[04m\u001b[36mtorch\u001b[39;49;00m\r\n",
      "\u001b[34mimport\u001b[39;49;00m \u001b[04m\u001b[36mtorch\u001b[39;49;00m\u001b[04m\u001b[36m.\u001b[39;49;00m\u001b[04m\u001b[36mnn\u001b[39;49;00m \u001b[34mas\u001b[39;49;00m \u001b[04m\u001b[36mnn\u001b[39;49;00m\r\n",
      "\u001b[34mimport\u001b[39;49;00m \u001b[04m\u001b[36mtorch\u001b[39;49;00m\u001b[04m\u001b[36m.\u001b[39;49;00m\u001b[04m\u001b[36moptim\u001b[39;49;00m \u001b[34mas\u001b[39;49;00m \u001b[04m\u001b[36moptim\u001b[39;49;00m\r\n",
      "\u001b[34mimport\u001b[39;49;00m \u001b[04m\u001b[36mtorch\u001b[39;49;00m\u001b[04m\u001b[36m.\u001b[39;49;00m\u001b[04m\u001b[36mutils\u001b[39;49;00m\u001b[04m\u001b[36m.\u001b[39;49;00m\u001b[04m\u001b[36mdata\u001b[39;49;00m\r\n",
      "\r\n",
      "\u001b[34mfrom\u001b[39;49;00m \u001b[04m\u001b[36mmodel\u001b[39;49;00m \u001b[34mimport\u001b[39;49;00m LSTMClassifier\r\n",
      "\r\n",
      "\u001b[34mfrom\u001b[39;49;00m \u001b[04m\u001b[36mutils\u001b[39;49;00m \u001b[34mimport\u001b[39;49;00m review_to_words, convert_and_pad\r\n",
      "\r\n",
      "\u001b[34mdef\u001b[39;49;00m \u001b[32mmodel_fn\u001b[39;49;00m(model_dir):\r\n",
      "    \u001b[33m\"\"\"Load the PyTorch model from the `model_dir` directory.\"\"\"\u001b[39;49;00m\r\n",
      "    \u001b[36mprint\u001b[39;49;00m(\u001b[33m\"\u001b[39;49;00m\u001b[33mLoading model.\u001b[39;49;00m\u001b[33m\"\u001b[39;49;00m)\r\n",
      "\r\n",
      "    \u001b[37m# First, load the parameters used to create the model.\u001b[39;49;00m\r\n",
      "    model_info = {}\r\n",
      "    model_info_path = os.path.join(model_dir, \u001b[33m'\u001b[39;49;00m\u001b[33mmodel_info.pth\u001b[39;49;00m\u001b[33m'\u001b[39;49;00m)\r\n",
      "    \u001b[34mwith\u001b[39;49;00m \u001b[36mopen\u001b[39;49;00m(model_info_path, \u001b[33m'\u001b[39;49;00m\u001b[33mrb\u001b[39;49;00m\u001b[33m'\u001b[39;49;00m) \u001b[34mas\u001b[39;49;00m f:\r\n",
      "        model_info = torch.load(f)\r\n",
      "\r\n",
      "    \u001b[36mprint\u001b[39;49;00m(\u001b[33m\"\u001b[39;49;00m\u001b[33mmodel_info: \u001b[39;49;00m\u001b[33m{}\u001b[39;49;00m\u001b[33m\"\u001b[39;49;00m.format(model_info))\r\n",
      "\r\n",
      "    \u001b[37m# Determine the device and construct the model.\u001b[39;49;00m\r\n",
      "    device = torch.device(\u001b[33m\"\u001b[39;49;00m\u001b[33mcuda\u001b[39;49;00m\u001b[33m\"\u001b[39;49;00m \u001b[34mif\u001b[39;49;00m torch.cuda.is_available() \u001b[34melse\u001b[39;49;00m \u001b[33m\"\u001b[39;49;00m\u001b[33mcpu\u001b[39;49;00m\u001b[33m\"\u001b[39;49;00m)\r\n",
      "    model = LSTMClassifier(model_info[\u001b[33m'\u001b[39;49;00m\u001b[33membedding_dim\u001b[39;49;00m\u001b[33m'\u001b[39;49;00m], model_info[\u001b[33m'\u001b[39;49;00m\u001b[33mhidden_dim\u001b[39;49;00m\u001b[33m'\u001b[39;49;00m], model_info[\u001b[33m'\u001b[39;49;00m\u001b[33mvocab_size\u001b[39;49;00m\u001b[33m'\u001b[39;49;00m])\r\n",
      "\r\n",
      "    \u001b[37m# Load the store model parameters.\u001b[39;49;00m\r\n",
      "    model_path = os.path.join(model_dir, \u001b[33m'\u001b[39;49;00m\u001b[33mmodel.pth\u001b[39;49;00m\u001b[33m'\u001b[39;49;00m)\r\n",
      "    \u001b[34mwith\u001b[39;49;00m \u001b[36mopen\u001b[39;49;00m(model_path, \u001b[33m'\u001b[39;49;00m\u001b[33mrb\u001b[39;49;00m\u001b[33m'\u001b[39;49;00m) \u001b[34mas\u001b[39;49;00m f:\r\n",
      "        model.load_state_dict(torch.load(f))\r\n",
      "\r\n",
      "    \u001b[37m# Load the saved word_dict.\u001b[39;49;00m\r\n",
      "    word_dict_path = os.path.join(model_dir, \u001b[33m'\u001b[39;49;00m\u001b[33mword_dict.pkl\u001b[39;49;00m\u001b[33m'\u001b[39;49;00m)\r\n",
      "    \u001b[34mwith\u001b[39;49;00m \u001b[36mopen\u001b[39;49;00m(word_dict_path, \u001b[33m'\u001b[39;49;00m\u001b[33mrb\u001b[39;49;00m\u001b[33m'\u001b[39;49;00m) \u001b[34mas\u001b[39;49;00m f:\r\n",
      "        model.word_dict = pickle.load(f)\r\n",
      "\r\n",
      "    model.to(device).eval()\r\n",
      "\r\n",
      "    \u001b[36mprint\u001b[39;49;00m(\u001b[33m\"\u001b[39;49;00m\u001b[33mDone loading model.\u001b[39;49;00m\u001b[33m\"\u001b[39;49;00m)\r\n",
      "    \u001b[34mreturn\u001b[39;49;00m model\r\n",
      "\r\n",
      "\u001b[34mdef\u001b[39;49;00m \u001b[32minput_fn\u001b[39;49;00m(serialized_input_data, content_type):\r\n",
      "    \u001b[36mprint\u001b[39;49;00m(\u001b[33m'\u001b[39;49;00m\u001b[33mDeserializing the input data.\u001b[39;49;00m\u001b[33m'\u001b[39;49;00m)\r\n",
      "    \u001b[34mif\u001b[39;49;00m content_type == \u001b[33m'\u001b[39;49;00m\u001b[33mtext/plain\u001b[39;49;00m\u001b[33m'\u001b[39;49;00m:\r\n",
      "        data = serialized_input_data.decode(\u001b[33m'\u001b[39;49;00m\u001b[33mutf-8\u001b[39;49;00m\u001b[33m'\u001b[39;49;00m)\r\n",
      "        \u001b[34mreturn\u001b[39;49;00m data\r\n",
      "    \u001b[34mraise\u001b[39;49;00m \u001b[36mException\u001b[39;49;00m(\u001b[33m'\u001b[39;49;00m\u001b[33mRequested unsupported ContentType in content_type: \u001b[39;49;00m\u001b[33m'\u001b[39;49;00m + content_type)\r\n",
      "\r\n",
      "\u001b[34mdef\u001b[39;49;00m \u001b[32moutput_fn\u001b[39;49;00m(prediction_output, accept):\r\n",
      "    \u001b[36mprint\u001b[39;49;00m(\u001b[33m'\u001b[39;49;00m\u001b[33mSerializing the generated output.\u001b[39;49;00m\u001b[33m'\u001b[39;49;00m)\r\n",
      "    \u001b[34mreturn\u001b[39;49;00m \u001b[36mstr\u001b[39;49;00m(prediction_output)\r\n",
      "\r\n",
      "\u001b[34mdef\u001b[39;49;00m \u001b[32mpredict_fn\u001b[39;49;00m(input_data, model):\r\n",
      "    \u001b[36mprint\u001b[39;49;00m(\u001b[33m'\u001b[39;49;00m\u001b[33mInferring sentiment of input data.\u001b[39;49;00m\u001b[33m'\u001b[39;49;00m)\r\n",
      "\r\n",
      "    device = torch.device(\u001b[33m\"\u001b[39;49;00m\u001b[33mcuda\u001b[39;49;00m\u001b[33m\"\u001b[39;49;00m \u001b[34mif\u001b[39;49;00m torch.cuda.is_available() \u001b[34melse\u001b[39;49;00m \u001b[33m\"\u001b[39;49;00m\u001b[33mcpu\u001b[39;49;00m\u001b[33m\"\u001b[39;49;00m)\r\n",
      "    \r\n",
      "    \u001b[34mif\u001b[39;49;00m model.word_dict \u001b[35mis\u001b[39;49;00m \u001b[34mNone\u001b[39;49;00m:\r\n",
      "        \u001b[34mraise\u001b[39;49;00m \u001b[36mException\u001b[39;49;00m(\u001b[33m'\u001b[39;49;00m\u001b[33mModel has not been loaded properly, no word_dict.\u001b[39;49;00m\u001b[33m'\u001b[39;49;00m)\r\n",
      "    \r\n",
      "    \u001b[37m# TODO: Process input_data so that it is ready to be sent to our model.\u001b[39;49;00m\r\n",
      "    \u001b[37m#       You should produce two variables:\u001b[39;49;00m\r\n",
      "    \u001b[37m#         data_X   - A sequence of length 500 which represents the converted review\u001b[39;49;00m\r\n",
      "    \u001b[37m#         data_len - The length of the review\u001b[39;49;00m\r\n",
      "\r\n",
      "    data_X, data_len = convert_and_pad(model.word_dict, review_to_words(input_data))\r\n",
      "\r\n",
      "    \u001b[37m# Using data_X and data_len we construct an appropriate input tensor. Remember\u001b[39;49;00m\r\n",
      "    \u001b[37m# that our model expects input data of the form 'len, review[500]'.\u001b[39;49;00m\r\n",
      "    data_pack = np.hstack((data_len, data_X))\r\n",
      "    data_pack = data_pack.reshape(\u001b[34m1\u001b[39;49;00m, -\u001b[34m1\u001b[39;49;00m)\r\n",
      "    \r\n",
      "    data = torch.from_numpy(data_pack)\r\n",
      "    data = data.to(device)\r\n",
      "\r\n",
      "    \u001b[37m# Make sure to put the model into evaluation mode\u001b[39;49;00m\r\n",
      "    model.eval()\r\n",
      "\r\n",
      "    \u001b[37m# TODO: Compute the result of applying the model to the input data. The variable `result` should\u001b[39;49;00m\r\n",
      "    \u001b[37m#       be a numpy array which contains a single integer which is either 1 or 0\u001b[39;49;00m\r\n",
      "\r\n",
      "    \u001b[34mwith\u001b[39;49;00m torch.no_grad():\r\n",
      "        output = model.forward(data)\r\n",
      "    result = np.round(output.numpy())\r\n",
      "    \r\n",
      "    \u001b[34mreturn\u001b[39;49;00m result\r\n"
     ]
    }
   ],
   "source": [
    "!pygmentize serve/predict.py"
   ]
  },
  {
   "cell_type": "markdown",
   "metadata": {},
   "source": [
    "As mentioned earlier, the `model_fn` method is the same as the one provided in the training code and the `input_fn` and `output_fn` methods are very simple and your task will be to complete the `predict_fn` method. Make sure that you save the completed file as `predict.py` in the `serve` directory.\n",
    "\n",
    "**TODO**: Complete the `predict_fn()` method in the `serve/predict.py` file."
   ]
  },
  {
   "cell_type": "markdown",
   "metadata": {},
   "source": [
    "### Deploying the model\n",
    "\n",
    "Now that the custom inference code has been written, we will create and deploy our model. To begin with, we need to construct a new PyTorchModel object which points to the model artifacts created during training and also points to the inference code that we wish to use. Then we can call the deploy method to launch the deployment container.\n",
    "\n",
    "**NOTE**: The default behaviour for a deployed PyTorch model is to assume that any input passed to the predictor is a `numpy` array. In our case we want to send a string so we need to construct a simple wrapper around the `RealTimePredictor` class to accomodate simple strings. In a more complicated situation you may want to provide a serialization object, for example if you wanted to sent image data."
   ]
  },
  {
   "cell_type": "code",
   "execution_count": 52,
   "metadata": {},
   "outputs": [
    {
     "name": "stderr",
     "output_type": "stream",
     "text": [
      "Parameter image will be renamed to image_uri in SageMaker Python SDK v2.\n",
      "'create_image_uri' will be deprecated in favor of 'ImageURIProvider' class in SageMaker Python SDK v2.\n"
     ]
    },
    {
     "name": "stdout",
     "output_type": "stream",
     "text": [
      "-----------------!"
     ]
    }
   ],
   "source": [
    "from sagemaker.predictor import RealTimePredictor\n",
    "from sagemaker.pytorch import PyTorchModel\n",
    "\n",
    "class StringPredictor(RealTimePredictor):\n",
    "    def __init__(self, endpoint_name, sagemaker_session):\n",
    "        super(StringPredictor, self).__init__(endpoint_name, sagemaker_session, content_type='text/plain')\n",
    "\n",
    "model = PyTorchModel(model_data=estimator.model_data,\n",
    "                     role = role,\n",
    "                     framework_version='0.4.0',\n",
    "                     entry_point='predict.py',\n",
    "                     source_dir='serve',\n",
    "                     predictor_cls=StringPredictor)\n",
    "predictor = model.deploy(initial_instance_count=1, instance_type='ml.m4.xlarge')"
   ]
  },
  {
   "cell_type": "markdown",
   "metadata": {},
   "source": [
    "### Testing the model\n",
    "\n",
    "Now that we have deployed our model with the custom inference code, we should test to see if everything is working. Here we test our model by loading the first `250` positive and negative reviews and send them to the endpoint, then collect the results. The reason for only sending some of the data is that the amount of time it takes for our model to process the input and then perform inference is quite long and so testing the entire data set would be prohibitive."
   ]
  },
  {
   "cell_type": "code",
   "execution_count": 56,
   "metadata": {},
   "outputs": [],
   "source": [
    "import glob\n",
    "\n",
    "def test_reviews(data_dir='../data/aclImdb', stop=250):\n",
    "    \n",
    "    results = []\n",
    "    ground = []\n",
    "    \n",
    "    # We make sure to test both positive and negative reviews    \n",
    "    for sentiment in ['pos', 'neg']:\n",
    "        \n",
    "        path = os.path.join(data_dir, 'test', sentiment, '*.txt')\n",
    "        files = glob.glob(path)\n",
    "        \n",
    "        files_read = 0\n",
    "        \n",
    "        print('Starting ', sentiment, ' files')\n",
    "        \n",
    "        # Iterate through the files and send them to the predictor\n",
    "        for f in files:\n",
    "            with open(f) as review:\n",
    "                # First, we store the ground truth (was the review positive or negative)\n",
    "                if sentiment == 'pos':\n",
    "                    ground.append(1)\n",
    "                else:\n",
    "                    ground.append(0)\n",
    "                # Read in the review and convert to 'utf-8' for transmission via HTTP\n",
    "                review_input = review.read().encode('utf-8')\n",
    "                # Send the review to the predictor and store the results\n",
    "                results.append(float(predictor.predict(review_input)))\n",
    "                \n",
    "            # Sending reviews to our endpoint one at a time takes a while so we\n",
    "            # only send a small number of reviews\n",
    "            files_read += 1\n",
    "            if files_read == stop:\n",
    "                break\n",
    "            \n",
    "    return ground, results"
   ]
  },
  {
   "cell_type": "code",
   "execution_count": 57,
   "metadata": {},
   "outputs": [
    {
     "name": "stdout",
     "output_type": "stream",
     "text": [
      "Starting  pos  files\n",
      "Starting  neg  files\n"
     ]
    }
   ],
   "source": [
    "ground, results = test_reviews()"
   ]
  },
  {
   "cell_type": "code",
   "execution_count": 58,
   "metadata": {},
   "outputs": [
    {
     "data": {
      "text/plain": [
       "0.87"
      ]
     },
     "execution_count": 58,
     "metadata": {},
     "output_type": "execute_result"
    }
   ],
   "source": [
    "from sklearn.metrics import accuracy_score\n",
    "accuracy_score(ground, results)"
   ]
  },
  {
   "cell_type": "markdown",
   "metadata": {},
   "source": [
    "As an additional test, we can try sending the `test_review` that we looked at earlier."
   ]
  },
  {
   "cell_type": "code",
   "execution_count": 59,
   "metadata": {},
   "outputs": [
    {
     "data": {
      "text/plain": [
       "b'1.0'"
      ]
     },
     "execution_count": 59,
     "metadata": {},
     "output_type": "execute_result"
    }
   ],
   "source": [
    "predictor.predict(test_review)"
   ]
  },
  {
   "cell_type": "markdown",
   "metadata": {},
   "source": [
    "Now that we know our endpoint is working as expected, we can set up the web page that will interact with it. If you don't have time to finish the project now, make sure to skip down to the end of this notebook and shut down your endpoint. You can deploy it again when you come back."
   ]
  },
  {
   "cell_type": "markdown",
   "metadata": {},
   "source": [
    "## Step 7 (again): Use the model for the web app\n",
    "\n",
    "> **TODO:** This entire section and the next contain tasks for you to complete, mostly using the AWS console.\n",
    "\n",
    "So far we have been accessing our model endpoint by constructing a predictor object which uses the endpoint and then just using the predictor object to perform inference. What if we wanted to create a web app which accessed our model? The way things are set up currently makes that not possible since in order to access a SageMaker endpoint the app would first have to authenticate with AWS using an IAM role which included access to SageMaker endpoints. However, there is an easier way! We just need to use some additional AWS services.\n",
    "\n",
    "<img src=\"Web App Diagram.svg\">\n",
    "\n",
    "The diagram above gives an overview of how the various services will work together. On the far right is the model which we trained above and which is deployed using SageMaker. On the far left is our web app that collects a user's movie review, sends it off and expects a positive or negative sentiment in return.\n",
    "\n",
    "In the middle is where some of the magic happens. We will construct a Lambda function, which you can think of as a straightforward Python function that can be executed whenever a specified event occurs. We will give this function permission to send and recieve data from a SageMaker endpoint.\n",
    "\n",
    "Lastly, the method we will use to execute the Lambda function is a new endpoint that we will create using API Gateway. This endpoint will be a url that listens for data to be sent to it. Once it gets some data it will pass that data on to the Lambda function and then return whatever the Lambda function returns. Essentially it will act as an interface that lets our web app communicate with the Lambda function.\n",
    "\n",
    "### Setting up a Lambda function\n",
    "\n",
    "The first thing we are going to do is set up a Lambda function. This Lambda function will be executed whenever our public API has data sent to it. When it is executed it will receive the data, perform any sort of processing that is required, send the data (the review) to the SageMaker endpoint we've created and then return the result.\n",
    "\n",
    "#### Part A: Create an IAM Role for the Lambda function\n",
    "\n",
    "Since we want the Lambda function to call a SageMaker endpoint, we need to make sure that it has permission to do so. To do this, we will construct a role that we can later give the Lambda function.\n",
    "\n",
    "Using the AWS Console, navigate to the **IAM** page and click on **Roles**. Then, click on **Create role**. Make sure that the **AWS service** is the type of trusted entity selected and choose **Lambda** as the service that will use this role, then click **Next: Permissions**.\n",
    "\n",
    "In the search box type `sagemaker` and select the check box next to the **AmazonSageMakerFullAccess** policy. Then, click on **Next: Review**.\n",
    "\n",
    "Lastly, give this role a name. Make sure you use a name that you will remember later on, for example `LambdaSageMakerRole`. Then, click on **Create role**.\n",
    "\n",
    "#### Part B: Create a Lambda function\n",
    "\n",
    "Now it is time to actually create the Lambda function.\n",
    "\n",
    "Using the AWS Console, navigate to the AWS Lambda page and click on **Create a function**. When you get to the next page, make sure that **Author from scratch** is selected. Now, name your Lambda function, using a name that you will remember later on, for example `sentiment_analysis_func`. Make sure that the **Python 3.6** runtime is selected and then choose the role that you created in the previous part. Then, click on **Create Function**.\n",
    "\n",
    "On the next page you will see some information about the Lambda function you've just created. If you scroll down you should see an editor in which you can write the code that will be executed when your Lambda function is triggered. In our example, we will use the code below. \n",
    "\n",
    "```python\n",
    "# We need to use the low-level library to interact with SageMaker since the SageMaker API\n",
    "# is not available natively through Lambda.\n",
    "import boto3\n",
    "\n",
    "def lambda_handler(event, context):\n",
    "\n",
    "    # The SageMaker runtime is what allows us to invoke the endpoint that we've created.\n",
    "    runtime = boto3.Session().client('sagemaker-runtime')\n",
    "\n",
    "    # Now we use the SageMaker runtime to invoke our endpoint, sending the review we were given\n",
    "    response = runtime.invoke_endpoint(EndpointName = '**ENDPOINT NAME HERE**',    # The name of the endpoint we created\n",
    "                                       ContentType = 'text/plain',                 # The data format that is expected\n",
    "                                       Body = event['body'])                       # The actual review\n",
    "\n",
    "    # The response is an HTTP response whose body contains the result of our inference\n",
    "    result = response['Body'].read().decode('utf-8')\n",
    "\n",
    "    return {\n",
    "        'statusCode' : 200,\n",
    "        'headers' : { 'Content-Type' : 'text/plain', 'Access-Control-Allow-Origin' : '*' },\n",
    "        'body' : result\n",
    "    }\n",
    "```\n",
    "\n",
    "Once you have copy and pasted the code above into the Lambda code editor, replace the `**ENDPOINT NAME HERE**` portion with the name of the endpoint that we deployed earlier. You can determine the name of the endpoint using the code cell below."
   ]
  },
  {
   "cell_type": "code",
   "execution_count": 60,
   "metadata": {},
   "outputs": [
    {
     "data": {
      "text/plain": [
       "'sagemaker-pytorch-2020-09-28-11-28-34-603'"
      ]
     },
     "execution_count": 60,
     "metadata": {},
     "output_type": "execute_result"
    }
   ],
   "source": [
    "predictor.endpoint"
   ]
  },
  {
   "cell_type": "markdown",
   "metadata": {},
   "source": [
    "Once you have added the endpoint name to the Lambda function, click on **Save**. Your Lambda function is now up and running. Next we need to create a way for our web app to execute the Lambda function.\n",
    "\n",
    "### Setting up API Gateway\n",
    "\n",
    "Now that our Lambda function is set up, it is time to create a new API using API Gateway that will trigger the Lambda function we have just created.\n",
    "\n",
    "Using AWS Console, navigate to **Amazon API Gateway** and then click on **Get started**.\n",
    "\n",
    "On the next page, make sure that **New API** is selected and give the new api a name, for example, `sentiment_analysis_api`. Then, click on **Create API**.\n",
    "\n",
    "Now we have created an API, however it doesn't currently do anything. What we want it to do is to trigger the Lambda function that we created earlier.\n",
    "\n",
    "Select the **Actions** dropdown menu and click **Create Method**. A new blank method will be created, select its dropdown menu and select **POST**, then click on the check mark beside it.\n",
    "\n",
    "For the integration point, make sure that **Lambda Function** is selected and click on the **Use Lambda Proxy integration**. This option makes sure that the data that is sent to the API is then sent directly to the Lambda function with no processing. It also means that the return value must be a proper response object as it will also not be processed by API Gateway.\n",
    "\n",
    "Type the name of the Lambda function you created earlier into the **Lambda Function** text entry box and then click on **Save**. Click on **OK** in the pop-up box that then appears, giving permission to API Gateway to invoke the Lambda function you created.\n",
    "\n",
    "The last step in creating the API Gateway is to select the **Actions** dropdown and click on **Deploy API**. You will need to create a new Deployment stage and name it anything you like, for example `prod`.\n",
    "\n",
    "You have now successfully set up a public API to access your SageMaker model. Make sure to copy or write down the URL provided to invoke your newly created public API as this will be needed in the next step. This URL can be found at the top of the page, highlighted in blue next to the text **Invoke URL**."
   ]
  },
  {
   "cell_type": "markdown",
   "metadata": {},
   "source": [
    "## Step 4: Deploying our web app\n",
    "\n",
    "Now that we have a publicly available API, we can start using it in a web app. For our purposes, we have provided a simple static html file which can make use of the public api you created earlier.\n",
    "\n",
    "In the `website` folder there should be a file called `index.html`. Download the file to your computer and open that file up in a text editor of your choice. There should be a line which contains **\\*\\*REPLACE WITH PUBLIC API URL\\*\\***. Replace this string with the url that you wrote down in the last step and then save the file.\n",
    "\n",
    "Now, if you open `index.html` on your local computer, your browser will behave as a local web server and you can use the provided site to interact with your SageMaker model.\n",
    "\n",
    "If you'd like to go further, you can host this html file anywhere you'd like, for example using github or hosting a static site on Amazon's S3. Once you have done this you can share the link with anyone you'd like and have them play with it too!\n",
    "\n",
    "> **Important Note** In order for the web app to communicate with the SageMaker endpoint, the endpoint has to actually be deployed and running. This means that you are paying for it. Make sure that the endpoint is running when you want to use the web app but that you shut it down when you don't need it, otherwise you will end up with a surprisingly large AWS bill.\n",
    "\n",
    "**TODO:** Make sure that you include the edited `index.html` file in your project submission."
   ]
  },
  {
   "cell_type": "markdown",
   "metadata": {},
   "source": [
    "Now that your web app is working, trying playing around with it and see how well it works.\n",
    "\n",
    "**Question**: Give an example of a review that you entered into your web app. What was the predicted sentiment of your example review?"
   ]
  },
  {
   "cell_type": "markdown",
   "metadata": {},
   "source": [
    "**Answer:**\n",
    "<h5>Review:</h5>\n",
    "    I love this movie and all of the GF movies. I see something new every time I have seen it (countless, truly). The story of tragedy and (little) comedy that exists in this film is easily understood by people all over the world. This film has been called an American story however I have met others who have seen this movie in other languages and they seem to have the same love and appreciation for it that I do. I love the characters and all of the different personalities that they represent not just in families but in society itself. It seems like the entire cast is part of every other movie that I love as well. The sounds, music, color and light in the film are just as much a part of the film as the people. This could be attributed to the method in which it was filmed. At many parts of the film I can still find myself feeling the emotions conveyed in the film. I never tire of appreciating this film. I thank God that FFC is an American treasure. We are fortunate to have him.\n",
    "<h5>Response:</h5>\n",
    "    POSITIVE"
   ]
  },
  {
   "cell_type": "markdown",
   "metadata": {},
   "source": [
    "### Delete the endpoint\n",
    "\n",
    "Remember to always shut down your endpoint if you are no longer using it. You are charged for the length of time that the endpoint is running so if you forget and leave it on you could end up with an unexpectedly large bill."
   ]
  },
  {
   "cell_type": "code",
   "execution_count": 61,
   "metadata": {},
   "outputs": [],
   "source": [
    "predictor.delete_endpoint()"
   ]
  },
  {
   "cell_type": "code",
   "execution_count": null,
   "metadata": {},
   "outputs": [],
   "source": []
  }
 ],
 "metadata": {
  "kernelspec": {
   "display_name": "conda_pytorch_p36",
   "language": "python",
   "name": "conda_pytorch_p36"
  },
  "language_info": {
   "codemirror_mode": {
    "name": "ipython",
    "version": 3
   },
   "file_extension": ".py",
   "mimetype": "text/x-python",
   "name": "python",
   "nbconvert_exporter": "python",
   "pygments_lexer": "ipython3",
   "version": "3.6.10"
  }
 },
 "nbformat": 4,
 "nbformat_minor": 2
}
